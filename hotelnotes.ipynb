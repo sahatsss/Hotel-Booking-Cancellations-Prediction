{
 "cells": [
  {
   "cell_type": "markdown",
   "id": "6413a6b2",
   "metadata": {},
   "source": [
    "# **1. Import Library**"
   ]
  },
  {
   "cell_type": "markdown",
   "id": "32abf2a8",
   "metadata": {},
   "source": [
    "Import library yang dibutuhkan"
   ]
  },
  {
   "cell_type": "code",
   "execution_count": 1,
   "id": "de7fbebe",
   "metadata": {},
   "outputs": [],
   "source": [
    "import pandas as pd\n",
    "import plotly.express as px\n",
    "import plotly.graph_objects as go\n",
    "import matplotlib.pyplot as plt\n",
    "import seaborn as sns\n",
    "from sklearn.preprocessing import LabelEncoder\n",
    "from sklearn.model_selection import RandomizedSearchCV\n",
    "import seaborn as sns\n",
    "import numpy as np\n",
    "import time\n",
    "from sklearn.ensemble import RandomForestClassifier\n",
    "from sklearn.model_selection import train_test_split\n",
    "from sklearn.metrics import accuracy_score, precision_score, recall_score, f1_score\n",
    "from sklearn.metrics import confusion_matrix\n",
    "from sklearn.linear_model import LogisticRegression\n",
    "from sklearn.metrics import classification_report"
   ]
  },
  {
   "cell_type": "markdown",
   "id": "bc5615e6",
   "metadata": {},
   "source": [
    "# **2. Load Dataset**"
   ]
  },
  {
   "cell_type": "markdown",
   "id": "648d18b7",
   "metadata": {},
   "source": [
    "Load dataset dari lokal"
   ]
  },
  {
   "cell_type": "code",
   "execution_count": 5,
   "id": "1d21cc65",
   "metadata": {},
   "outputs": [],
   "source": [
    "df = pd.read_csv(r'\\Users\\asus\\Documents\\PYTHON_PROJECT\\hotel_books\\hotel_bookings.csv')"
   ]
  },
  {
   "cell_type": "markdown",
   "id": "22de9b3c",
   "metadata": {},
   "source": [
    "Dataframe yang telah diload"
   ]
  },
  {
   "cell_type": "code",
   "execution_count": 3,
   "id": "bbe08cf1",
   "metadata": {},
   "outputs": [
    {
     "data": {
      "application/vnd.microsoft.datawrangler.viewer.v0+json": {
       "columns": [
        {
         "name": "index",
         "rawType": "int64",
         "type": "integer"
        },
        {
         "name": "hotel",
         "rawType": "object",
         "type": "string"
        },
        {
         "name": "is_canceled",
         "rawType": "int64",
         "type": "integer"
        },
        {
         "name": "lead_time",
         "rawType": "int64",
         "type": "integer"
        },
        {
         "name": "arrival_date_year",
         "rawType": "int64",
         "type": "integer"
        },
        {
         "name": "arrival_date_month",
         "rawType": "object",
         "type": "string"
        },
        {
         "name": "arrival_date_week_number",
         "rawType": "int64",
         "type": "integer"
        },
        {
         "name": "arrival_date_day_of_month",
         "rawType": "int64",
         "type": "integer"
        },
        {
         "name": "stays_in_weekend_nights",
         "rawType": "int64",
         "type": "integer"
        },
        {
         "name": "stays_in_week_nights",
         "rawType": "int64",
         "type": "integer"
        },
        {
         "name": "adults",
         "rawType": "int64",
         "type": "integer"
        },
        {
         "name": "children",
         "rawType": "float64",
         "type": "float"
        },
        {
         "name": "babies",
         "rawType": "int64",
         "type": "integer"
        },
        {
         "name": "meal",
         "rawType": "object",
         "type": "string"
        },
        {
         "name": "country",
         "rawType": "object",
         "type": "unknown"
        },
        {
         "name": "market_segment",
         "rawType": "object",
         "type": "string"
        },
        {
         "name": "distribution_channel",
         "rawType": "object",
         "type": "string"
        },
        {
         "name": "is_repeated_guest",
         "rawType": "int64",
         "type": "integer"
        },
        {
         "name": "previous_cancellations",
         "rawType": "int64",
         "type": "integer"
        },
        {
         "name": "previous_bookings_not_canceled",
         "rawType": "int64",
         "type": "integer"
        },
        {
         "name": "reserved_room_type",
         "rawType": "object",
         "type": "string"
        },
        {
         "name": "assigned_room_type",
         "rawType": "object",
         "type": "string"
        },
        {
         "name": "booking_changes",
         "rawType": "int64",
         "type": "integer"
        },
        {
         "name": "deposit_type",
         "rawType": "object",
         "type": "string"
        },
        {
         "name": "agent",
         "rawType": "float64",
         "type": "float"
        },
        {
         "name": "company",
         "rawType": "float64",
         "type": "float"
        },
        {
         "name": "days_in_waiting_list",
         "rawType": "int64",
         "type": "integer"
        },
        {
         "name": "customer_type",
         "rawType": "object",
         "type": "string"
        },
        {
         "name": "adr",
         "rawType": "float64",
         "type": "float"
        },
        {
         "name": "required_car_parking_spaces",
         "rawType": "int64",
         "type": "integer"
        },
        {
         "name": "total_of_special_requests",
         "rawType": "int64",
         "type": "integer"
        },
        {
         "name": "reservation_status",
         "rawType": "object",
         "type": "string"
        },
        {
         "name": "reservation_status_date",
         "rawType": "object",
         "type": "string"
        }
       ],
       "ref": "9a1a2456-fa41-4595-87ce-fea9df967b07",
       "rows": [
        [
         "0",
         "Resort Hotel",
         "0",
         "342",
         "2015",
         "July",
         "27",
         "1",
         "0",
         "0",
         "2",
         "0.0",
         "0",
         "BB",
         "PRT",
         "Direct",
         "Direct",
         "0",
         "0",
         "0",
         "C",
         "C",
         "3",
         "No Deposit",
         null,
         null,
         "0",
         "Transient",
         "0.0",
         "0",
         "0",
         "Check-Out",
         "2015-07-01"
        ],
        [
         "1",
         "Resort Hotel",
         "0",
         "737",
         "2015",
         "July",
         "27",
         "1",
         "0",
         "0",
         "2",
         "0.0",
         "0",
         "BB",
         "PRT",
         "Direct",
         "Direct",
         "0",
         "0",
         "0",
         "C",
         "C",
         "4",
         "No Deposit",
         null,
         null,
         "0",
         "Transient",
         "0.0",
         "0",
         "0",
         "Check-Out",
         "2015-07-01"
        ],
        [
         "2",
         "Resort Hotel",
         "0",
         "7",
         "2015",
         "July",
         "27",
         "1",
         "0",
         "1",
         "1",
         "0.0",
         "0",
         "BB",
         "GBR",
         "Direct",
         "Direct",
         "0",
         "0",
         "0",
         "A",
         "C",
         "0",
         "No Deposit",
         null,
         null,
         "0",
         "Transient",
         "75.0",
         "0",
         "0",
         "Check-Out",
         "2015-07-02"
        ],
        [
         "3",
         "Resort Hotel",
         "0",
         "13",
         "2015",
         "July",
         "27",
         "1",
         "0",
         "1",
         "1",
         "0.0",
         "0",
         "BB",
         "GBR",
         "Corporate",
         "Corporate",
         "0",
         "0",
         "0",
         "A",
         "A",
         "0",
         "No Deposit",
         "304.0",
         null,
         "0",
         "Transient",
         "75.0",
         "0",
         "0",
         "Check-Out",
         "2015-07-02"
        ],
        [
         "4",
         "Resort Hotel",
         "0",
         "14",
         "2015",
         "July",
         "27",
         "1",
         "0",
         "2",
         "2",
         "0.0",
         "0",
         "BB",
         "GBR",
         "Online TA",
         "TA/TO",
         "0",
         "0",
         "0",
         "A",
         "A",
         "0",
         "No Deposit",
         "240.0",
         null,
         "0",
         "Transient",
         "98.0",
         "0",
         "1",
         "Check-Out",
         "2015-07-03"
        ],
        [
         "5",
         "Resort Hotel",
         "0",
         "14",
         "2015",
         "July",
         "27",
         "1",
         "0",
         "2",
         "2",
         "0.0",
         "0",
         "BB",
         "GBR",
         "Online TA",
         "TA/TO",
         "0",
         "0",
         "0",
         "A",
         "A",
         "0",
         "No Deposit",
         "240.0",
         null,
         "0",
         "Transient",
         "98.0",
         "0",
         "1",
         "Check-Out",
         "2015-07-03"
        ],
        [
         "6",
         "Resort Hotel",
         "0",
         "0",
         "2015",
         "July",
         "27",
         "1",
         "0",
         "2",
         "2",
         "0.0",
         "0",
         "BB",
         "PRT",
         "Direct",
         "Direct",
         "0",
         "0",
         "0",
         "C",
         "C",
         "0",
         "No Deposit",
         null,
         null,
         "0",
         "Transient",
         "107.0",
         "0",
         "0",
         "Check-Out",
         "2015-07-03"
        ],
        [
         "7",
         "Resort Hotel",
         "0",
         "9",
         "2015",
         "July",
         "27",
         "1",
         "0",
         "2",
         "2",
         "0.0",
         "0",
         "FB",
         "PRT",
         "Direct",
         "Direct",
         "0",
         "0",
         "0",
         "C",
         "C",
         "0",
         "No Deposit",
         "303.0",
         null,
         "0",
         "Transient",
         "103.0",
         "0",
         "1",
         "Check-Out",
         "2015-07-03"
        ],
        [
         "8",
         "Resort Hotel",
         "1",
         "85",
         "2015",
         "July",
         "27",
         "1",
         "0",
         "3",
         "2",
         "0.0",
         "0",
         "BB",
         "PRT",
         "Online TA",
         "TA/TO",
         "0",
         "0",
         "0",
         "A",
         "A",
         "0",
         "No Deposit",
         "240.0",
         null,
         "0",
         "Transient",
         "82.0",
         "0",
         "1",
         "Canceled",
         "2015-05-06"
        ],
        [
         "9",
         "Resort Hotel",
         "1",
         "75",
         "2015",
         "July",
         "27",
         "1",
         "0",
         "3",
         "2",
         "0.0",
         "0",
         "HB",
         "PRT",
         "Offline TA/TO",
         "TA/TO",
         "0",
         "0",
         "0",
         "D",
         "D",
         "0",
         "No Deposit",
         "15.0",
         null,
         "0",
         "Transient",
         "105.5",
         "0",
         "0",
         "Canceled",
         "2015-04-22"
        ],
        [
         "10",
         "Resort Hotel",
         "1",
         "23",
         "2015",
         "July",
         "27",
         "1",
         "0",
         "4",
         "2",
         "0.0",
         "0",
         "BB",
         "PRT",
         "Online TA",
         "TA/TO",
         "0",
         "0",
         "0",
         "E",
         "E",
         "0",
         "No Deposit",
         "240.0",
         null,
         "0",
         "Transient",
         "123.0",
         "0",
         "0",
         "Canceled",
         "2015-06-23"
        ],
        [
         "11",
         "Resort Hotel",
         "0",
         "35",
         "2015",
         "July",
         "27",
         "1",
         "0",
         "4",
         "2",
         "0.0",
         "0",
         "HB",
         "PRT",
         "Online TA",
         "TA/TO",
         "0",
         "0",
         "0",
         "D",
         "D",
         "0",
         "No Deposit",
         "240.0",
         null,
         "0",
         "Transient",
         "145.0",
         "0",
         "0",
         "Check-Out",
         "2015-07-05"
        ],
        [
         "12",
         "Resort Hotel",
         "0",
         "68",
         "2015",
         "July",
         "27",
         "1",
         "0",
         "4",
         "2",
         "0.0",
         "0",
         "BB",
         "USA",
         "Online TA",
         "TA/TO",
         "0",
         "0",
         "0",
         "D",
         "E",
         "0",
         "No Deposit",
         "240.0",
         null,
         "0",
         "Transient",
         "97.0",
         "0",
         "3",
         "Check-Out",
         "2015-07-05"
        ],
        [
         "13",
         "Resort Hotel",
         "0",
         "18",
         "2015",
         "July",
         "27",
         "1",
         "0",
         "4",
         "2",
         "1.0",
         "0",
         "HB",
         "ESP",
         "Online TA",
         "TA/TO",
         "0",
         "0",
         "0",
         "G",
         "G",
         "1",
         "No Deposit",
         "241.0",
         null,
         "0",
         "Transient",
         "154.77",
         "0",
         "1",
         "Check-Out",
         "2015-07-05"
        ],
        [
         "14",
         "Resort Hotel",
         "0",
         "37",
         "2015",
         "July",
         "27",
         "1",
         "0",
         "4",
         "2",
         "0.0",
         "0",
         "BB",
         "PRT",
         "Online TA",
         "TA/TO",
         "0",
         "0",
         "0",
         "E",
         "E",
         "0",
         "No Deposit",
         "241.0",
         null,
         "0",
         "Transient",
         "94.71",
         "0",
         "0",
         "Check-Out",
         "2015-07-05"
        ],
        [
         "15",
         "Resort Hotel",
         "0",
         "68",
         "2015",
         "July",
         "27",
         "1",
         "0",
         "4",
         "2",
         "0.0",
         "0",
         "BB",
         "IRL",
         "Online TA",
         "TA/TO",
         "0",
         "0",
         "0",
         "D",
         "E",
         "0",
         "No Deposit",
         "240.0",
         null,
         "0",
         "Transient",
         "97.0",
         "0",
         "3",
         "Check-Out",
         "2015-07-05"
        ],
        [
         "16",
         "Resort Hotel",
         "0",
         "37",
         "2015",
         "July",
         "27",
         "1",
         "0",
         "4",
         "2",
         "0.0",
         "0",
         "BB",
         "PRT",
         "Offline TA/TO",
         "TA/TO",
         "0",
         "0",
         "0",
         "E",
         "E",
         "0",
         "No Deposit",
         "8.0",
         null,
         "0",
         "Contract",
         "97.5",
         "0",
         "0",
         "Check-Out",
         "2015-07-05"
        ],
        [
         "17",
         "Resort Hotel",
         "0",
         "12",
         "2015",
         "July",
         "27",
         "1",
         "0",
         "1",
         "2",
         "0.0",
         "0",
         "BB",
         "IRL",
         "Online TA",
         "TA/TO",
         "0",
         "0",
         "0",
         "A",
         "E",
         "0",
         "No Deposit",
         "240.0",
         null,
         "0",
         "Transient",
         "88.2",
         "0",
         "0",
         "Check-Out",
         "2015-07-02"
        ],
        [
         "18",
         "Resort Hotel",
         "0",
         "0",
         "2015",
         "July",
         "27",
         "1",
         "0",
         "1",
         "2",
         "0.0",
         "0",
         "BB",
         "FRA",
         "Corporate",
         "Corporate",
         "0",
         "0",
         "0",
         "A",
         "G",
         "0",
         "No Deposit",
         null,
         "110.0",
         "0",
         "Transient",
         "107.42",
         "0",
         "0",
         "Check-Out",
         "2015-07-02"
        ],
        [
         "19",
         "Resort Hotel",
         "0",
         "7",
         "2015",
         "July",
         "27",
         "1",
         "0",
         "4",
         "2",
         "0.0",
         "0",
         "BB",
         "GBR",
         "Direct",
         "Direct",
         "0",
         "0",
         "0",
         "G",
         "G",
         "0",
         "No Deposit",
         "250.0",
         null,
         "0",
         "Transient",
         "153.0",
         "0",
         "1",
         "Check-Out",
         "2015-07-05"
        ],
        [
         "20",
         "Resort Hotel",
         "0",
         "37",
         "2015",
         "July",
         "27",
         "1",
         "1",
         "4",
         "1",
         "0.0",
         "0",
         "BB",
         "GBR",
         "Online TA",
         "TA/TO",
         "0",
         "0",
         "0",
         "F",
         "F",
         "0",
         "No Deposit",
         "241.0",
         null,
         "0",
         "Transient",
         "97.29",
         "0",
         "1",
         "Check-Out",
         "2015-07-06"
        ],
        [
         "21",
         "Resort Hotel",
         "0",
         "72",
         "2015",
         "July",
         "27",
         "1",
         "2",
         "4",
         "2",
         "0.0",
         "0",
         "BB",
         "PRT",
         "Direct",
         "Direct",
         "0",
         "0",
         "0",
         "A",
         "A",
         "1",
         "No Deposit",
         "250.0",
         null,
         "0",
         "Transient",
         "84.67",
         "0",
         "1",
         "Check-Out",
         "2015-07-07"
        ],
        [
         "22",
         "Resort Hotel",
         "0",
         "72",
         "2015",
         "July",
         "27",
         "1",
         "2",
         "4",
         "2",
         "0.0",
         "0",
         "BB",
         "PRT",
         "Direct",
         "Direct",
         "0",
         "0",
         "0",
         "A",
         "A",
         "1",
         "No Deposit",
         "250.0",
         null,
         "0",
         "Transient",
         "84.67",
         "0",
         "1",
         "Check-Out",
         "2015-07-07"
        ],
        [
         "23",
         "Resort Hotel",
         "0",
         "72",
         "2015",
         "July",
         "27",
         "1",
         "2",
         "4",
         "2",
         "0.0",
         "0",
         "BB",
         "PRT",
         "Direct",
         "Direct",
         "0",
         "0",
         "0",
         "D",
         "D",
         "1",
         "No Deposit",
         "250.0",
         null,
         "0",
         "Transient",
         "99.67",
         "0",
         "1",
         "Check-Out",
         "2015-07-07"
        ],
        [
         "24",
         "Resort Hotel",
         "0",
         "127",
         "2015",
         "July",
         "27",
         "1",
         "2",
         "5",
         "2",
         "0.0",
         "0",
         "HB",
         "GBR",
         "Offline TA/TO",
         "TA/TO",
         "0",
         "0",
         "0",
         "D",
         "I",
         "0",
         "No Deposit",
         "115.0",
         null,
         "0",
         "Contract",
         "94.95",
         "0",
         "1",
         "Check-Out",
         "2015-07-01"
        ],
        [
         "25",
         "Resort Hotel",
         "0",
         "78",
         "2015",
         "July",
         "27",
         "1",
         "2",
         "5",
         "2",
         "0.0",
         "0",
         "BB",
         "PRT",
         "Offline TA/TO",
         "TA/TO",
         "0",
         "0",
         "0",
         "D",
         "D",
         "0",
         "No Deposit",
         "5.0",
         null,
         "0",
         "Transient",
         "63.6",
         "1",
         "0",
         "Check-Out",
         "2015-07-08"
        ],
        [
         "26",
         "Resort Hotel",
         "0",
         "48",
         "2015",
         "July",
         "27",
         "1",
         "2",
         "5",
         "2",
         "0.0",
         "0",
         "BB",
         "IRL",
         "Offline TA/TO",
         "TA/TO",
         "0",
         "0",
         "0",
         "D",
         "D",
         "0",
         "No Deposit",
         "8.0",
         null,
         "0",
         "Contract",
         "79.5",
         "0",
         "0",
         "Check-Out",
         "2015-07-08"
        ],
        [
         "27",
         "Resort Hotel",
         "1",
         "60",
         "2015",
         "July",
         "27",
         "1",
         "2",
         "5",
         "2",
         "0.0",
         "0",
         "BB",
         "PRT",
         "Online TA",
         "TA/TO",
         "0",
         "0",
         "0",
         "E",
         "E",
         "0",
         "No Deposit",
         "240.0",
         null,
         "0",
         "Transient",
         "107.0",
         "0",
         "2",
         "Canceled",
         "2015-05-11"
        ],
        [
         "28",
         "Resort Hotel",
         "0",
         "77",
         "2015",
         "July",
         "27",
         "1",
         "2",
         "5",
         "2",
         "0.0",
         "0",
         "BB",
         "PRT",
         "Online TA",
         "TA/TO",
         "0",
         "0",
         "0",
         "A",
         "A",
         "0",
         "No Deposit",
         "240.0",
         null,
         "0",
         "Transient",
         "94.0",
         "0",
         "0",
         "Check-Out",
         "2015-07-08"
        ],
        [
         "29",
         "Resort Hotel",
         "0",
         "99",
         "2015",
         "July",
         "27",
         "1",
         "2",
         "5",
         "2",
         "0.0",
         "0",
         "BB",
         "PRT",
         "Online TA",
         "TA/TO",
         "0",
         "0",
         "0",
         "D",
         "D",
         "0",
         "No Deposit",
         "240.0",
         null,
         "0",
         "Transient",
         "87.3",
         "1",
         "1",
         "Check-Out",
         "2015-07-08"
        ],
        [
         "30",
         "Resort Hotel",
         "0",
         "118",
         "2015",
         "July",
         "27",
         "1",
         "4",
         "10",
         "1",
         "0.0",
         "0",
         "BB",
         null,
         "Direct",
         "Direct",
         "0",
         "0",
         "0",
         "A",
         "A",
         "2",
         "No Deposit",
         null,
         null,
         "0",
         "Transient",
         "62.0",
         "0",
         "2",
         "Check-Out",
         "2015-07-15"
        ],
        [
         "31",
         "Resort Hotel",
         "0",
         "95",
         "2015",
         "July",
         "27",
         "1",
         "4",
         "11",
         "2",
         "0.0",
         "0",
         "BB",
         "GBR",
         "Offline TA/TO",
         "TA/TO",
         "0",
         "0",
         "0",
         "D",
         "D",
         "0",
         "No Deposit",
         "241.0",
         null,
         "0",
         "Transient",
         "63.86",
         "0",
         "0",
         "Check-Out",
         "2015-07-16"
        ],
        [
         "32",
         "Resort Hotel",
         "1",
         "96",
         "2015",
         "July",
         "27",
         "1",
         "2",
         "8",
         "2",
         "0.0",
         "0",
         "BB",
         "PRT",
         "Direct",
         "Direct",
         "0",
         "0",
         "0",
         "E",
         "E",
         "0",
         "No Deposit",
         null,
         null,
         "0",
         "Transient",
         "108.3",
         "0",
         "2",
         "Canceled",
         "2015-05-29"
        ],
        [
         "33",
         "Resort Hotel",
         "0",
         "69",
         "2015",
         "July",
         "27",
         "2",
         "2",
         "4",
         "2",
         "0.0",
         "0",
         "BB",
         "IRL",
         "Offline TA/TO",
         "TA/TO",
         "0",
         "0",
         "0",
         "A",
         "C",
         "0",
         "No Deposit",
         "175.0",
         null,
         "0",
         "Transient",
         "65.5",
         "0",
         "0",
         "Check-Out",
         "2015-07-08"
        ],
        [
         "34",
         "Resort Hotel",
         "1",
         "45",
         "2015",
         "July",
         "27",
         "2",
         "1",
         "3",
         "3",
         "0.0",
         "0",
         "BB",
         "PRT",
         "Online TA",
         "TA/TO",
         "0",
         "0",
         "0",
         "D",
         "D",
         "0",
         "No Deposit",
         "241.0",
         null,
         "0",
         "Transient",
         "108.8",
         "0",
         "1",
         "Canceled",
         "2015-05-19"
        ],
        [
         "35",
         "Resort Hotel",
         "1",
         "40",
         "2015",
         "July",
         "27",
         "2",
         "1",
         "3",
         "3",
         "0.0",
         "0",
         "BB",
         "PRT",
         "Online TA",
         "TA/TO",
         "0",
         "0",
         "0",
         "D",
         "D",
         "0",
         "No Deposit",
         "241.0",
         null,
         "0",
         "Transient",
         "108.8",
         "0",
         "1",
         "Canceled",
         "2015-06-19"
        ],
        [
         "36",
         "Resort Hotel",
         "0",
         "15",
         "2015",
         "July",
         "27",
         "2",
         "1",
         "3",
         "2",
         "0.0",
         "0",
         "BB",
         "ESP",
         "Online TA",
         "TA/TO",
         "0",
         "0",
         "0",
         "A",
         "C",
         "0",
         "No Deposit",
         "240.0",
         null,
         "0",
         "Transient",
         "98.0",
         "0",
         "0",
         "Check-Out",
         "2015-07-06"
        ],
        [
         "37",
         "Resort Hotel",
         "0",
         "36",
         "2015",
         "July",
         "27",
         "2",
         "1",
         "3",
         "3",
         "0.0",
         "0",
         "BB",
         "PRT",
         "Online TA",
         "TA/TO",
         "0",
         "0",
         "0",
         "D",
         "D",
         "0",
         "No Deposit",
         "241.0",
         null,
         "0",
         "Transient",
         "108.8",
         "0",
         "1",
         "Check-Out",
         "2015-07-06"
        ],
        [
         "38",
         "Resort Hotel",
         "1",
         "43",
         "2015",
         "July",
         "27",
         "2",
         "1",
         "3",
         "3",
         "0.0",
         "0",
         "BB",
         "PRT",
         "Online TA",
         "TA/TO",
         "0",
         "0",
         "0",
         "D",
         "D",
         "0",
         "No Deposit",
         "241.0",
         null,
         "0",
         "Transient",
         "108.8",
         "0",
         "0",
         "Canceled",
         "2015-05-23"
        ],
        [
         "39",
         "Resort Hotel",
         "0",
         "70",
         "2015",
         "July",
         "27",
         "2",
         "2",
         "3",
         "2",
         "0.0",
         "0",
         "HB",
         "ROU",
         "Direct",
         "Direct",
         "0",
         "0",
         "0",
         "E",
         "E",
         "0",
         "No Deposit",
         "250.0",
         null,
         "0",
         "Transient",
         "137.0",
         "0",
         "1",
         "Check-Out",
         "2015-07-07"
        ],
        [
         "40",
         "Resort Hotel",
         "1",
         "45",
         "2015",
         "July",
         "27",
         "2",
         "2",
         "3",
         "2",
         "0.0",
         "0",
         "BB",
         "PRT",
         "Online TA",
         "TA/TO",
         "0",
         "0",
         "0",
         "G",
         "G",
         "0",
         "No Deposit",
         "241.0",
         null,
         "0",
         "Transient",
         "117.81",
         "0",
         "0",
         "Canceled",
         "2015-05-18"
        ],
        [
         "41",
         "Resort Hotel",
         "0",
         "45",
         "2015",
         "July",
         "27",
         "2",
         "2",
         "3",
         "2",
         "0.0",
         "0",
         "BB",
         "IRL",
         "Offline TA/TO",
         "TA/TO",
         "0",
         "0",
         "0",
         "D",
         "D",
         "0",
         "No Deposit",
         "8.0",
         null,
         "0",
         "Contract",
         "79.5",
         "0",
         "0",
         "Check-Out",
         "2015-07-07"
        ],
        [
         "42",
         "Resort Hotel",
         "0",
         "16",
         "2015",
         "July",
         "27",
         "2",
         "2",
         "3",
         "2",
         "0.0",
         "0",
         "BB",
         "ESP",
         "Direct",
         "Direct",
         "0",
         "0",
         "0",
         "F",
         "F",
         "0",
         "No Deposit",
         null,
         null,
         "0",
         "Transient",
         "123.0",
         "0",
         "0",
         "Check-Out",
         "2015-07-07"
        ],
        [
         "43",
         "Resort Hotel",
         "0",
         "70",
         "2015",
         "July",
         "27",
         "2",
         "2",
         "3",
         "2",
         "0.0",
         "0",
         "HB",
         "ROU",
         "Direct",
         "Direct",
         "0",
         "0",
         "0",
         "E",
         "E",
         "0",
         "No Deposit",
         "250.0",
         null,
         "0",
         "Transient",
         "137.0",
         "0",
         "1",
         "Check-Out",
         "2015-07-07"
        ],
        [
         "44",
         "Resort Hotel",
         "0",
         "107",
         "2015",
         "July",
         "27",
         "2",
         "2",
         "5",
         "2",
         "0.0",
         "0",
         "BB",
         "PRT",
         "Online TA",
         "TA/TO",
         "0",
         "0",
         "0",
         "A",
         "A",
         "0",
         "No Deposit",
         "240.0",
         null,
         "0",
         "Transient",
         "110.7",
         "0",
         "2",
         "Check-Out",
         "2015-07-09"
        ],
        [
         "45",
         "Resort Hotel",
         "1",
         "47",
         "2015",
         "July",
         "27",
         "2",
         "2",
         "5",
         "2",
         "2.0",
         "0",
         "BB",
         "PRT",
         "Online TA",
         "TA/TO",
         "0",
         "0",
         "0",
         "G",
         "G",
         "0",
         "No Deposit",
         "240.0",
         null,
         "0",
         "Transient",
         "153.0",
         "0",
         "0",
         "Canceled",
         "2015-06-02"
        ],
        [
         "46",
         "Resort Hotel",
         "0",
         "96",
         "2015",
         "July",
         "27",
         "2",
         "2",
         "5",
         "2",
         "0.0",
         "0",
         "BB",
         "ESP",
         "Offline TA/TO",
         "TA/TO",
         "0",
         "0",
         "0",
         "A",
         "A",
         "0",
         "No Deposit",
         "134.0",
         null,
         "0",
         "Transient",
         "58.95",
         "0",
         "1",
         "Check-Out",
         "2015-07-09"
        ],
        [
         "47",
         "Resort Hotel",
         "0",
         "113",
         "2015",
         "July",
         "27",
         "2",
         "2",
         "5",
         "2",
         "0.0",
         "0",
         "BB",
         "NOR",
         "Offline TA/TO",
         "TA/TO",
         "0",
         "0",
         "0",
         "E",
         "E",
         "0",
         "No Deposit",
         "156.0",
         null,
         "0",
         "Transient-Party",
         "82.88",
         "0",
         "2",
         "Check-Out",
         "2015-07-09"
        ],
        [
         "48",
         "Resort Hotel",
         "0",
         "90",
         "2015",
         "July",
         "27",
         "2",
         "2",
         "5",
         "2",
         "0.0",
         "0",
         "HB",
         "GBR",
         "Offline TA/TO",
         "TA/TO",
         "0",
         "0",
         "0",
         "A",
         "B",
         "1",
         "No Deposit",
         "243.0",
         null,
         "0",
         "Contract",
         "82.35",
         "0",
         "0",
         "Check-Out",
         "2015-07-09"
        ],
        [
         "49",
         "Resort Hotel",
         "0",
         "50",
         "2015",
         "July",
         "27",
         "2",
         "2",
         "5",
         "2",
         "0.0",
         "0",
         "HB",
         "IRL",
         "Online TA",
         "TA/TO",
         "0",
         "0",
         "0",
         "E",
         "F",
         "1",
         "No Deposit",
         "241.0",
         null,
         "0",
         "Transient",
         "119.35",
         "0",
         "1",
         "Check-Out",
         "2015-07-09"
        ]
       ],
       "shape": {
        "columns": 32,
        "rows": 119390
       }
      },
      "text/html": [
       "<div>\n",
       "<style scoped>\n",
       "    .dataframe tbody tr th:only-of-type {\n",
       "        vertical-align: middle;\n",
       "    }\n",
       "\n",
       "    .dataframe tbody tr th {\n",
       "        vertical-align: top;\n",
       "    }\n",
       "\n",
       "    .dataframe thead th {\n",
       "        text-align: right;\n",
       "    }\n",
       "</style>\n",
       "<table border=\"1\" class=\"dataframe\">\n",
       "  <thead>\n",
       "    <tr style=\"text-align: right;\">\n",
       "      <th></th>\n",
       "      <th>hotel</th>\n",
       "      <th>is_canceled</th>\n",
       "      <th>lead_time</th>\n",
       "      <th>arrival_date_year</th>\n",
       "      <th>arrival_date_month</th>\n",
       "      <th>arrival_date_week_number</th>\n",
       "      <th>arrival_date_day_of_month</th>\n",
       "      <th>stays_in_weekend_nights</th>\n",
       "      <th>stays_in_week_nights</th>\n",
       "      <th>adults</th>\n",
       "      <th>...</th>\n",
       "      <th>deposit_type</th>\n",
       "      <th>agent</th>\n",
       "      <th>company</th>\n",
       "      <th>days_in_waiting_list</th>\n",
       "      <th>customer_type</th>\n",
       "      <th>adr</th>\n",
       "      <th>required_car_parking_spaces</th>\n",
       "      <th>total_of_special_requests</th>\n",
       "      <th>reservation_status</th>\n",
       "      <th>reservation_status_date</th>\n",
       "    </tr>\n",
       "  </thead>\n",
       "  <tbody>\n",
       "    <tr>\n",
       "      <th>0</th>\n",
       "      <td>Resort Hotel</td>\n",
       "      <td>0</td>\n",
       "      <td>342</td>\n",
       "      <td>2015</td>\n",
       "      <td>July</td>\n",
       "      <td>27</td>\n",
       "      <td>1</td>\n",
       "      <td>0</td>\n",
       "      <td>0</td>\n",
       "      <td>2</td>\n",
       "      <td>...</td>\n",
       "      <td>No Deposit</td>\n",
       "      <td>NaN</td>\n",
       "      <td>NaN</td>\n",
       "      <td>0</td>\n",
       "      <td>Transient</td>\n",
       "      <td>0.00</td>\n",
       "      <td>0</td>\n",
       "      <td>0</td>\n",
       "      <td>Check-Out</td>\n",
       "      <td>2015-07-01</td>\n",
       "    </tr>\n",
       "    <tr>\n",
       "      <th>1</th>\n",
       "      <td>Resort Hotel</td>\n",
       "      <td>0</td>\n",
       "      <td>737</td>\n",
       "      <td>2015</td>\n",
       "      <td>July</td>\n",
       "      <td>27</td>\n",
       "      <td>1</td>\n",
       "      <td>0</td>\n",
       "      <td>0</td>\n",
       "      <td>2</td>\n",
       "      <td>...</td>\n",
       "      <td>No Deposit</td>\n",
       "      <td>NaN</td>\n",
       "      <td>NaN</td>\n",
       "      <td>0</td>\n",
       "      <td>Transient</td>\n",
       "      <td>0.00</td>\n",
       "      <td>0</td>\n",
       "      <td>0</td>\n",
       "      <td>Check-Out</td>\n",
       "      <td>2015-07-01</td>\n",
       "    </tr>\n",
       "    <tr>\n",
       "      <th>2</th>\n",
       "      <td>Resort Hotel</td>\n",
       "      <td>0</td>\n",
       "      <td>7</td>\n",
       "      <td>2015</td>\n",
       "      <td>July</td>\n",
       "      <td>27</td>\n",
       "      <td>1</td>\n",
       "      <td>0</td>\n",
       "      <td>1</td>\n",
       "      <td>1</td>\n",
       "      <td>...</td>\n",
       "      <td>No Deposit</td>\n",
       "      <td>NaN</td>\n",
       "      <td>NaN</td>\n",
       "      <td>0</td>\n",
       "      <td>Transient</td>\n",
       "      <td>75.00</td>\n",
       "      <td>0</td>\n",
       "      <td>0</td>\n",
       "      <td>Check-Out</td>\n",
       "      <td>2015-07-02</td>\n",
       "    </tr>\n",
       "    <tr>\n",
       "      <th>3</th>\n",
       "      <td>Resort Hotel</td>\n",
       "      <td>0</td>\n",
       "      <td>13</td>\n",
       "      <td>2015</td>\n",
       "      <td>July</td>\n",
       "      <td>27</td>\n",
       "      <td>1</td>\n",
       "      <td>0</td>\n",
       "      <td>1</td>\n",
       "      <td>1</td>\n",
       "      <td>...</td>\n",
       "      <td>No Deposit</td>\n",
       "      <td>304.0</td>\n",
       "      <td>NaN</td>\n",
       "      <td>0</td>\n",
       "      <td>Transient</td>\n",
       "      <td>75.00</td>\n",
       "      <td>0</td>\n",
       "      <td>0</td>\n",
       "      <td>Check-Out</td>\n",
       "      <td>2015-07-02</td>\n",
       "    </tr>\n",
       "    <tr>\n",
       "      <th>4</th>\n",
       "      <td>Resort Hotel</td>\n",
       "      <td>0</td>\n",
       "      <td>14</td>\n",
       "      <td>2015</td>\n",
       "      <td>July</td>\n",
       "      <td>27</td>\n",
       "      <td>1</td>\n",
       "      <td>0</td>\n",
       "      <td>2</td>\n",
       "      <td>2</td>\n",
       "      <td>...</td>\n",
       "      <td>No Deposit</td>\n",
       "      <td>240.0</td>\n",
       "      <td>NaN</td>\n",
       "      <td>0</td>\n",
       "      <td>Transient</td>\n",
       "      <td>98.00</td>\n",
       "      <td>0</td>\n",
       "      <td>1</td>\n",
       "      <td>Check-Out</td>\n",
       "      <td>2015-07-03</td>\n",
       "    </tr>\n",
       "    <tr>\n",
       "      <th>...</th>\n",
       "      <td>...</td>\n",
       "      <td>...</td>\n",
       "      <td>...</td>\n",
       "      <td>...</td>\n",
       "      <td>...</td>\n",
       "      <td>...</td>\n",
       "      <td>...</td>\n",
       "      <td>...</td>\n",
       "      <td>...</td>\n",
       "      <td>...</td>\n",
       "      <td>...</td>\n",
       "      <td>...</td>\n",
       "      <td>...</td>\n",
       "      <td>...</td>\n",
       "      <td>...</td>\n",
       "      <td>...</td>\n",
       "      <td>...</td>\n",
       "      <td>...</td>\n",
       "      <td>...</td>\n",
       "      <td>...</td>\n",
       "      <td>...</td>\n",
       "    </tr>\n",
       "    <tr>\n",
       "      <th>119385</th>\n",
       "      <td>City Hotel</td>\n",
       "      <td>0</td>\n",
       "      <td>23</td>\n",
       "      <td>2017</td>\n",
       "      <td>August</td>\n",
       "      <td>35</td>\n",
       "      <td>30</td>\n",
       "      <td>2</td>\n",
       "      <td>5</td>\n",
       "      <td>2</td>\n",
       "      <td>...</td>\n",
       "      <td>No Deposit</td>\n",
       "      <td>394.0</td>\n",
       "      <td>NaN</td>\n",
       "      <td>0</td>\n",
       "      <td>Transient</td>\n",
       "      <td>96.14</td>\n",
       "      <td>0</td>\n",
       "      <td>0</td>\n",
       "      <td>Check-Out</td>\n",
       "      <td>2017-09-06</td>\n",
       "    </tr>\n",
       "    <tr>\n",
       "      <th>119386</th>\n",
       "      <td>City Hotel</td>\n",
       "      <td>0</td>\n",
       "      <td>102</td>\n",
       "      <td>2017</td>\n",
       "      <td>August</td>\n",
       "      <td>35</td>\n",
       "      <td>31</td>\n",
       "      <td>2</td>\n",
       "      <td>5</td>\n",
       "      <td>3</td>\n",
       "      <td>...</td>\n",
       "      <td>No Deposit</td>\n",
       "      <td>9.0</td>\n",
       "      <td>NaN</td>\n",
       "      <td>0</td>\n",
       "      <td>Transient</td>\n",
       "      <td>225.43</td>\n",
       "      <td>0</td>\n",
       "      <td>2</td>\n",
       "      <td>Check-Out</td>\n",
       "      <td>2017-09-07</td>\n",
       "    </tr>\n",
       "    <tr>\n",
       "      <th>119387</th>\n",
       "      <td>City Hotel</td>\n",
       "      <td>0</td>\n",
       "      <td>34</td>\n",
       "      <td>2017</td>\n",
       "      <td>August</td>\n",
       "      <td>35</td>\n",
       "      <td>31</td>\n",
       "      <td>2</td>\n",
       "      <td>5</td>\n",
       "      <td>2</td>\n",
       "      <td>...</td>\n",
       "      <td>No Deposit</td>\n",
       "      <td>9.0</td>\n",
       "      <td>NaN</td>\n",
       "      <td>0</td>\n",
       "      <td>Transient</td>\n",
       "      <td>157.71</td>\n",
       "      <td>0</td>\n",
       "      <td>4</td>\n",
       "      <td>Check-Out</td>\n",
       "      <td>2017-09-07</td>\n",
       "    </tr>\n",
       "    <tr>\n",
       "      <th>119388</th>\n",
       "      <td>City Hotel</td>\n",
       "      <td>0</td>\n",
       "      <td>109</td>\n",
       "      <td>2017</td>\n",
       "      <td>August</td>\n",
       "      <td>35</td>\n",
       "      <td>31</td>\n",
       "      <td>2</td>\n",
       "      <td>5</td>\n",
       "      <td>2</td>\n",
       "      <td>...</td>\n",
       "      <td>No Deposit</td>\n",
       "      <td>89.0</td>\n",
       "      <td>NaN</td>\n",
       "      <td>0</td>\n",
       "      <td>Transient</td>\n",
       "      <td>104.40</td>\n",
       "      <td>0</td>\n",
       "      <td>0</td>\n",
       "      <td>Check-Out</td>\n",
       "      <td>2017-09-07</td>\n",
       "    </tr>\n",
       "    <tr>\n",
       "      <th>119389</th>\n",
       "      <td>City Hotel</td>\n",
       "      <td>0</td>\n",
       "      <td>205</td>\n",
       "      <td>2017</td>\n",
       "      <td>August</td>\n",
       "      <td>35</td>\n",
       "      <td>29</td>\n",
       "      <td>2</td>\n",
       "      <td>7</td>\n",
       "      <td>2</td>\n",
       "      <td>...</td>\n",
       "      <td>No Deposit</td>\n",
       "      <td>9.0</td>\n",
       "      <td>NaN</td>\n",
       "      <td>0</td>\n",
       "      <td>Transient</td>\n",
       "      <td>151.20</td>\n",
       "      <td>0</td>\n",
       "      <td>2</td>\n",
       "      <td>Check-Out</td>\n",
       "      <td>2017-09-07</td>\n",
       "    </tr>\n",
       "  </tbody>\n",
       "</table>\n",
       "<p>119390 rows × 32 columns</p>\n",
       "</div>"
      ],
      "text/plain": [
       "               hotel  is_canceled  lead_time  arrival_date_year  \\\n",
       "0       Resort Hotel            0        342               2015   \n",
       "1       Resort Hotel            0        737               2015   \n",
       "2       Resort Hotel            0          7               2015   \n",
       "3       Resort Hotel            0         13               2015   \n",
       "4       Resort Hotel            0         14               2015   \n",
       "...              ...          ...        ...                ...   \n",
       "119385    City Hotel            0         23               2017   \n",
       "119386    City Hotel            0        102               2017   \n",
       "119387    City Hotel            0         34               2017   \n",
       "119388    City Hotel            0        109               2017   \n",
       "119389    City Hotel            0        205               2017   \n",
       "\n",
       "       arrival_date_month  arrival_date_week_number  \\\n",
       "0                    July                        27   \n",
       "1                    July                        27   \n",
       "2                    July                        27   \n",
       "3                    July                        27   \n",
       "4                    July                        27   \n",
       "...                   ...                       ...   \n",
       "119385             August                        35   \n",
       "119386             August                        35   \n",
       "119387             August                        35   \n",
       "119388             August                        35   \n",
       "119389             August                        35   \n",
       "\n",
       "        arrival_date_day_of_month  stays_in_weekend_nights  \\\n",
       "0                               1                        0   \n",
       "1                               1                        0   \n",
       "2                               1                        0   \n",
       "3                               1                        0   \n",
       "4                               1                        0   \n",
       "...                           ...                      ...   \n",
       "119385                         30                        2   \n",
       "119386                         31                        2   \n",
       "119387                         31                        2   \n",
       "119388                         31                        2   \n",
       "119389                         29                        2   \n",
       "\n",
       "        stays_in_week_nights  adults  ...  deposit_type  agent company  \\\n",
       "0                          0       2  ...    No Deposit    NaN     NaN   \n",
       "1                          0       2  ...    No Deposit    NaN     NaN   \n",
       "2                          1       1  ...    No Deposit    NaN     NaN   \n",
       "3                          1       1  ...    No Deposit  304.0     NaN   \n",
       "4                          2       2  ...    No Deposit  240.0     NaN   \n",
       "...                      ...     ...  ...           ...    ...     ...   \n",
       "119385                     5       2  ...    No Deposit  394.0     NaN   \n",
       "119386                     5       3  ...    No Deposit    9.0     NaN   \n",
       "119387                     5       2  ...    No Deposit    9.0     NaN   \n",
       "119388                     5       2  ...    No Deposit   89.0     NaN   \n",
       "119389                     7       2  ...    No Deposit    9.0     NaN   \n",
       "\n",
       "       days_in_waiting_list customer_type     adr  \\\n",
       "0                         0     Transient    0.00   \n",
       "1                         0     Transient    0.00   \n",
       "2                         0     Transient   75.00   \n",
       "3                         0     Transient   75.00   \n",
       "4                         0     Transient   98.00   \n",
       "...                     ...           ...     ...   \n",
       "119385                    0     Transient   96.14   \n",
       "119386                    0     Transient  225.43   \n",
       "119387                    0     Transient  157.71   \n",
       "119388                    0     Transient  104.40   \n",
       "119389                    0     Transient  151.20   \n",
       "\n",
       "        required_car_parking_spaces  total_of_special_requests  \\\n",
       "0                                 0                          0   \n",
       "1                                 0                          0   \n",
       "2                                 0                          0   \n",
       "3                                 0                          0   \n",
       "4                                 0                          1   \n",
       "...                             ...                        ...   \n",
       "119385                            0                          0   \n",
       "119386                            0                          2   \n",
       "119387                            0                          4   \n",
       "119388                            0                          0   \n",
       "119389                            0                          2   \n",
       "\n",
       "        reservation_status reservation_status_date  \n",
       "0                Check-Out              2015-07-01  \n",
       "1                Check-Out              2015-07-01  \n",
       "2                Check-Out              2015-07-02  \n",
       "3                Check-Out              2015-07-02  \n",
       "4                Check-Out              2015-07-03  \n",
       "...                    ...                     ...  \n",
       "119385           Check-Out              2017-09-06  \n",
       "119386           Check-Out              2017-09-07  \n",
       "119387           Check-Out              2017-09-07  \n",
       "119388           Check-Out              2017-09-07  \n",
       "119389           Check-Out              2017-09-07  \n",
       "\n",
       "[119390 rows x 32 columns]"
      ]
     },
     "execution_count": 3,
     "metadata": {},
     "output_type": "execute_result"
    }
   ],
   "source": [
    "df"
   ]
  },
  {
   "cell_type": "markdown",
   "id": "299d04b9",
   "metadata": {},
   "source": [
    "Ubah kolom menjadi tipe datetime"
   ]
  },
  {
   "cell_type": "code",
   "execution_count": 6,
   "id": "2061dd8d",
   "metadata": {},
   "outputs": [],
   "source": [
    "df[\"reservation_status_date\"] = pd.to_datetime(df[\"reservation_status_date\"])"
   ]
  },
  {
   "cell_type": "markdown",
   "id": "518f2b13",
   "metadata": {},
   "source": [
    "Informasi dataframe"
   ]
  },
  {
   "cell_type": "code",
   "execution_count": 6,
   "id": "efa5706c",
   "metadata": {},
   "outputs": [
    {
     "name": "stdout",
     "output_type": "stream",
     "text": [
      "<class 'pandas.core.frame.DataFrame'>\n",
      "RangeIndex: 119390 entries, 0 to 119389\n",
      "Data columns (total 32 columns):\n",
      " #   Column                          Non-Null Count   Dtype         \n",
      "---  ------                          --------------   -----         \n",
      " 0   hotel                           119390 non-null  object        \n",
      " 1   is_canceled                     119390 non-null  int64         \n",
      " 2   lead_time                       119390 non-null  int64         \n",
      " 3   arrival_date_year               119390 non-null  int64         \n",
      " 4   arrival_date_month              119390 non-null  object        \n",
      " 5   arrival_date_week_number        119390 non-null  int64         \n",
      " 6   arrival_date_day_of_month       119390 non-null  int64         \n",
      " 7   stays_in_weekend_nights         119390 non-null  int64         \n",
      " 8   stays_in_week_nights            119390 non-null  int64         \n",
      " 9   adults                          119390 non-null  int64         \n",
      " 10  children                        119386 non-null  float64       \n",
      " 11  babies                          119390 non-null  int64         \n",
      " 12  meal                            119390 non-null  object        \n",
      " 13  country                         118902 non-null  object        \n",
      " 14  market_segment                  119390 non-null  object        \n",
      " 15  distribution_channel            119390 non-null  object        \n",
      " 16  is_repeated_guest               119390 non-null  int64         \n",
      " 17  previous_cancellations          119390 non-null  int64         \n",
      " 18  previous_bookings_not_canceled  119390 non-null  int64         \n",
      " 19  reserved_room_type              119390 non-null  object        \n",
      " 20  assigned_room_type              119390 non-null  object        \n",
      " 21  booking_changes                 119390 non-null  int64         \n",
      " 22  deposit_type                    119390 non-null  object        \n",
      " 23  agent                           103050 non-null  float64       \n",
      " 24  company                         6797 non-null    float64       \n",
      " 25  days_in_waiting_list            119390 non-null  int64         \n",
      " 26  customer_type                   119390 non-null  object        \n",
      " 27  adr                             119390 non-null  float64       \n",
      " 28  required_car_parking_spaces     119390 non-null  int64         \n",
      " 29  total_of_special_requests       119390 non-null  int64         \n",
      " 30  reservation_status              119390 non-null  object        \n",
      " 31  reservation_status_date         119390 non-null  datetime64[ns]\n",
      "dtypes: datetime64[ns](1), float64(4), int64(16), object(11)\n",
      "memory usage: 29.1+ MB\n"
     ]
    }
   ],
   "source": [
    "df.info()"
   ]
  },
  {
   "cell_type": "markdown",
   "id": "fbe7e965",
   "metadata": {},
   "source": [
    "Template untuk eksplorasi data kategorikal"
   ]
  },
  {
   "cell_type": "code",
   "execution_count": 7,
   "id": "f87fecf3",
   "metadata": {},
   "outputs": [],
   "source": [
    "def showplot(df, column):\n",
    "    count_data = df[column].value_counts()\n",
    "    fig, ax = plt.subplots(1, 2, figsize=(12, 6))\n",
    "\n",
    "    plt.rcParams['font.family'] = 'Verdana'\n",
    "\n",
    "    colors = plt.cm.Paired.colors\n",
    "    ax[0].pie(\n",
    "        count_data.values, labels=None, autopct='%1.1f%%', startangle=90,\n",
    "        colors=colors, pctdistance=0.85, wedgeprops=dict(width=0.3)\n",
    "    )\n",
    "    ax[0].set_title(f\"Distribution of {column} (%)\", fontname='Verdana', fontsize=14, fontweight='bold')\n",
    "\n",
    "    bars = ax[1].barh(count_data.index, count_data.values, color=colors)\n",
    "    ax[1].set_title(f\"{column} Count\", fontname='Verdana', fontsize=14, fontweight='bold')\n",
    "    ax[1].set_xlabel(\"Count\", fontname='Verdana', fontsize=12)\n",
    "    ax[1].invert_yaxis()\n",
    "\n",
    "    for bar in bars:\n",
    "        x_val = bar.get_width()\n",
    "        y_val = bar.get_y() + bar.get_height() / 2\n",
    "        ax[1].text(x_val - 50, y_val, f'{int(x_val)}', va='center', ha='right',\n",
    "                   fontname='Verdana', fontsize=12, fontweight='bold', color='white')\n",
    "\n",
    "    ax[0].legend(count_data.index, loc=\"best\", prop={'family': 'Verdana', 'size': 10})\n",
    "\n",
    "    plt.tight_layout()\n",
    "    plt.show()"
   ]
  },
  {
   "cell_type": "markdown",
   "id": "c0defe77",
   "metadata": {},
   "source": [
    "Sebaran letak hotel"
   ]
  },
  {
   "cell_type": "code",
   "execution_count": 8,
   "id": "d297b686",
   "metadata": {},
   "outputs": [
    {
     "data": {
      "image/png": "[encoded data removed]",
      "text/plain": [
       "<Figure size 1200x600 with 2 Axes>"
      ]
     },
     "metadata": {},
     "output_type": "display_data"
    }
   ],
   "source": [
    "showplot(df, 'hotel')"
   ]
  },
  {
   "cell_type": "markdown",
   "id": "0fe8461c",
   "metadata": {},
   "source": [
    "Sebaran status reservasi"
   ]
  },
  {
   "cell_type": "code",
   "execution_count": null,
   "id": "e26b1455",
   "metadata": {},
   "outputs": [
    {
     "data": {
      "image/png": "[encoded data removed]",
      "text/plain": [
       "<Figure size 1200x600 with 2 Axes>"
      ]
     },
     "metadata": {},
     "output_type": "display_data"
    }
   ],
   "source": [
    "showplot(df,'is_canceled')"
   ]
  },
  {
   "cell_type": "markdown",
   "id": "ad5a171e",
   "metadata": {},
   "source": [
    "Perbandingan status booking hotel resort dan hotel di perkotaan"
   ]
  },
  {
   "cell_type": "code",
   "execution_count": 10,
   "id": "7f2e9ac3",
   "metadata": {},
   "outputs": [
    {
     "data": {
      "image/png": "[encoded data removed]",
      "text/plain": [
       "<Figure size 1000x600 with 1 Axes>"
      ]
     },
     "metadata": {},
     "output_type": "display_data"
    }
   ],
   "source": [
    "plt.figure(figsize=(10, 6))\n",
    "\n",
    "ax1 = sns.countplot(x='hotel', hue='is_canceled', data=df, palette='Blues')\n",
    "legend_labels, _ = ax1.get_legend_handles_labels()\n",
    "ax1.legend(bbox_to_anchor=(1, 1))\n",
    "\n",
    "plt.title('Reservation status in different hotels', size=20, color='Black', fontname='Verdana')\n",
    "plt.ylabel('Number of Reservations', color='Black', fontname='Verdana')\n",
    "plt.xlabel('Hotel', color='Black', fontname='Verdana')\n",
    "\n",
    "plt.legend(['Not Cancelled', 'Cancelled'])\n",
    "\n",
    "plt.show()"
   ]
  },
  {
   "cell_type": "markdown",
   "id": "4407c449",
   "metadata": {},
   "source": [
    "Melihat rerata harga per hari tiap bulan. Bisa terlihat bulan juni dan agustus memiliki harga tertinggi"
   ]
  },
  {
   "cell_type": "code",
   "execution_count": 11,
   "id": "0c8f8131",
   "metadata": {},
   "outputs": [
    {
     "name": "stderr",
     "output_type": "stream",
     "text": [
      "C:\\Users\\asus\\AppData\\Local\\Temp\\ipykernel_16792\\2716215644.py:4: FutureWarning: \n",
      "\n",
      "Passing `palette` without assigning `hue` is deprecated and will be removed in v0.14.0. Assign the `x` variable to `hue` and set `legend=False` for the same effect.\n",
      "\n",
      "  sns.barplot(data=adr_per_bulan, x='arrival_date_month', y='adr', palette='Blues')\n"
     ]
    },
    {
     "data": {
      "image/png": "[encoded data removed]",
      "text/plain": [
       "<Figure size 1200x600 with 1 Axes>"
      ]
     },
     "metadata": {},
     "output_type": "display_data"
    }
   ],
   "source": [
    "adr_per_bulan = df.groupby('arrival_date_month')['adr'].mean().reset_index()\n",
    "\n",
    "plt.figure(figsize=(12,6))\n",
    "sns.barplot(data=adr_per_bulan, x='arrival_date_month', y='adr', palette='Blues')\n",
    "plt.title('Average Daily Rate (ADR) per Bulan')\n",
    "plt.xlabel('Bulan Kedatangan')\n",
    "plt.ylabel('Rata-rata Harga per Kamar')\n",
    "plt.xticks(rotation=45)\n",
    "plt.tight_layout()\n",
    "plt.show()"
   ]
  },
  {
   "cell_type": "markdown",
   "id": "af5ad3e2",
   "metadata": {},
   "source": [
    "Histogram dari tiap kolom yang ada untuk meihat persebaran dari tiap kolom"
   ]
  },
  {
   "cell_type": "code",
   "execution_count": 12,
   "id": "a4929b2d",
   "metadata": {},
   "outputs": [
    {
     "data": {
      "image/png": "[encoded data removed]",
      "text/plain": [
       "<Figure size 2000x1400 with 25 Axes>"
      ]
     },
     "metadata": {},
     "output_type": "display_data"
    }
   ],
   "source": [
    "df.hist(figsize=(20,14))\n",
    "plt.show()"
   ]
  },
  {
   "cell_type": "markdown",
   "id": "8f45ded6",
   "metadata": {},
   "source": [
    "Sebaran jarak booking dengan kedatangan"
   ]
  },
  {
   "cell_type": "code",
   "execution_count": 13,
   "id": "fe0efefa",
   "metadata": {},
   "outputs": [
    {
     "data": {
      "text/plain": [
       "Text(0.5, 0, 'Lead Time (days)')"
      ]
     },
     "execution_count": 13,
     "metadata": {},
     "output_type": "execute_result"
    },
    {
     "data": {
      "image/png": "[encoded data removed]",
      "text/plain": [
       "<Figure size 2000x600 with 1 Axes>"
      ]
     },
     "metadata": {},
     "output_type": "display_data"
    }
   ],
   "source": [
    "plt.figure(figsize=(20, 6))\n",
    "sns.histplot(data=df, x='lead_time', kde=True)\n",
    "plt.title('Lead_Time Distribution')\n",
    "plt.ylabel('Number of Reservations')\n",
    "plt.xlabel('Lead Time (days)')"
   ]
  },
  {
   "cell_type": "markdown",
   "id": "9d9d47eb",
   "metadata": {},
   "source": [
    "Grafik perubahan harga dari status pembataln yang mengikuti tanggal dari tahun 2015 hingga 2017. Bisa dilihat setiap terjadi pembatalan, ada kenaikan harga pada kamar."
   ]
  },
  {
   "cell_type": "code",
   "execution_count": 14,
   "id": "7014cafc",
   "metadata": {},
   "outputs": [
    {
     "data": {
      "image/png": "[encoded data removed]",
      "text/plain": [
       "<Figure size 2000x600 with 1 Axes>"
      ]
     },
     "metadata": {},
     "output_type": "display_data"
    }
   ],
   "source": [
    "mask = (df['reservation_status_date'] > '2015-01-01') & (df['reservation_status_date'] < '2017-12-31')\n",
    "filtered_df = df[mask]\n",
    "\n",
    "adr_by_status = (\n",
    "    filtered_df\n",
    "    .groupby(['reservation_status_date', 'is_canceled'])['adr']\n",
    "    .mean()\n",
    "    .unstack()  \n",
    ")\n",
    "\n",
    "plt.figure(figsize=(20, 6))\n",
    "adr_by_status.plot(ax=plt.gca())\n",
    "plt.title('Average Daily Rate (ADR) per Tanggal')\n",
    "plt.xlabel('Tanggal')\n",
    "plt.ylabel('ADR')\n",
    "plt.legend(['Not Cancelled', 'Cancelled'], title='Status')\n",
    "plt.tight_layout()\n",
    "plt.show()"
   ]
  },
  {
   "cell_type": "markdown",
   "id": "e1c0a94c",
   "metadata": {},
   "source": [
    "Mendeskripsikan tiap kolom"
   ]
  },
  {
   "cell_type": "code",
   "execution_count": 15,
   "id": "55f22c7a",
   "metadata": {},
   "outputs": [
    {
     "data": {
      "application/vnd.microsoft.datawrangler.viewer.v0+json": {
       "columns": [
        {
         "name": "index",
         "rawType": "object",
         "type": "string"
        },
        {
         "name": "is_canceled",
         "rawType": "float64",
         "type": "float"
        },
        {
         "name": "lead_time",
         "rawType": "float64",
         "type": "float"
        },
        {
         "name": "arrival_date_year",
         "rawType": "float64",
         "type": "float"
        },
        {
         "name": "arrival_date_week_number",
         "rawType": "float64",
         "type": "float"
        },
        {
         "name": "arrival_date_day_of_month",
         "rawType": "float64",
         "type": "float"
        },
        {
         "name": "stays_in_weekend_nights",
         "rawType": "float64",
         "type": "float"
        },
        {
         "name": "stays_in_week_nights",
         "rawType": "float64",
         "type": "float"
        },
        {
         "name": "adults",
         "rawType": "float64",
         "type": "float"
        },
        {
         "name": "children",
         "rawType": "float64",
         "type": "float"
        },
        {
         "name": "babies",
         "rawType": "float64",
         "type": "float"
        },
        {
         "name": "is_repeated_guest",
         "rawType": "float64",
         "type": "float"
        },
        {
         "name": "previous_cancellations",
         "rawType": "float64",
         "type": "float"
        },
        {
         "name": "previous_bookings_not_canceled",
         "rawType": "float64",
         "type": "float"
        },
        {
         "name": "booking_changes",
         "rawType": "float64",
         "type": "float"
        },
        {
         "name": "agent",
         "rawType": "float64",
         "type": "float"
        },
        {
         "name": "company",
         "rawType": "float64",
         "type": "float"
        },
        {
         "name": "days_in_waiting_list",
         "rawType": "float64",
         "type": "float"
        },
        {
         "name": "adr",
         "rawType": "float64",
         "type": "float"
        },
        {
         "name": "required_car_parking_spaces",
         "rawType": "float64",
         "type": "float"
        },
        {
         "name": "total_of_special_requests",
         "rawType": "float64",
         "type": "float"
        },
        {
         "name": "reservation_status_date",
         "rawType": "object",
         "type": "unknown"
        }
       ],
       "ref": "072afe40-70a8-45bc-a4ec-7a77cb1bcda2",
       "rows": [
        [
         "count",
         "119390.0",
         "119390.0",
         "119390.0",
         "119390.0",
         "119390.0",
         "119390.0",
         "119390.0",
         "119390.0",
         "119386.0",
         "119390.0",
         "119390.0",
         "119390.0",
         "119390.0",
         "119390.0",
         "103050.0",
         "6797.0",
         "119390.0",
         "119390.0",
         "119390.0",
         "119390.0",
         "119390"
        ],
        [
         "mean",
         "0.37041628277075134",
         "104.01141636652986",
         "2016.156554150264",
         "27.16517296255968",
         "15.798241058715135",
         "0.9275986263506156",
         "2.500301532791691",
         "1.8564033838679956",
         "0.10388990333874994",
         "0.007948739425412514",
         "0.03191222045397437",
         "0.08711784906608594",
         "0.13709690928888515",
         "0.22112404724013737",
         "86.69338185346919",
         "189.26673532440782",
         "2.321149174972778",
         "101.83112153446686",
         "0.06251779881062065",
         "0.5713627607002262",
         "2016-07-30 00:24:47.883407104"
        ],
        [
         "min",
         "0.0",
         "0.0",
         "2015.0",
         "1.0",
         "1.0",
         "0.0",
         "0.0",
         "0.0",
         "0.0",
         "0.0",
         "0.0",
         "0.0",
         "0.0",
         "0.0",
         "1.0",
         "6.0",
         "0.0",
         "-6.38",
         "0.0",
         "0.0",
         "2014-10-17 00:00:00"
        ],
        [
         "25%",
         "0.0",
         "18.0",
         "2016.0",
         "16.0",
         "8.0",
         "0.0",
         "1.0",
         "2.0",
         "0.0",
         "0.0",
         "0.0",
         "0.0",
         "0.0",
         "0.0",
         "9.0",
         "62.0",
         "0.0",
         "69.29",
         "0.0",
         "0.0",
         "2016-02-01 00:00:00"
        ],
        [
         "50%",
         "0.0",
         "69.0",
         "2016.0",
         "28.0",
         "16.0",
         "1.0",
         "2.0",
         "2.0",
         "0.0",
         "0.0",
         "0.0",
         "0.0",
         "0.0",
         "0.0",
         "14.0",
         "179.0",
         "0.0",
         "94.575",
         "0.0",
         "0.0",
         "2016-08-07 00:00:00"
        ],
        [
         "75%",
         "1.0",
         "160.0",
         "2017.0",
         "38.0",
         "23.0",
         "2.0",
         "3.0",
         "2.0",
         "0.0",
         "0.0",
         "0.0",
         "0.0",
         "0.0",
         "0.0",
         "229.0",
         "270.0",
         "0.0",
         "126.0",
         "0.0",
         "1.0",
         "2017-02-08 00:00:00"
        ],
        [
         "max",
         "1.0",
         "737.0",
         "2017.0",
         "53.0",
         "31.0",
         "19.0",
         "50.0",
         "55.0",
         "10.0",
         "10.0",
         "1.0",
         "26.0",
         "72.0",
         "21.0",
         "535.0",
         "543.0",
         "391.0",
         "5400.0",
         "8.0",
         "5.0",
         "2017-09-14 00:00:00"
        ],
        [
         "std",
         "0.48291822659316763",
         "106.86309704798579",
         "0.7074759445202401",
         "13.605138355498454",
         "8.78082947057908",
         "0.9986134945978056",
         "1.9082856150485297",
         "0.5792609988330665",
         "0.398561444786706",
         "0.09743619130130332",
         "0.17576714541079036",
         "0.8443363841518928",
         "1.4974368477089461",
         "0.6523055726747069",
         "110.77454764290376",
         "131.65501463850987",
         "17.594720878752014",
         "50.5357902855456",
         "0.24529114746719846",
         "0.7927984228089581",
         null
        ]
       ],
       "shape": {
        "columns": 21,
        "rows": 8
       }
      },
      "text/html": [
       "<div>\n",
       "<style scoped>\n",
       "    .dataframe tbody tr th:only-of-type {\n",
       "        vertical-align: middle;\n",
       "    }\n",
       "\n",
       "    .dataframe tbody tr th {\n",
       "        vertical-align: top;\n",
       "    }\n",
       "\n",
       "    .dataframe thead th {\n",
       "        text-align: right;\n",
       "    }\n",
       "</style>\n",
       "<table border=\"1\" class=\"dataframe\">\n",
       "  <thead>\n",
       "    <tr style=\"text-align: right;\">\n",
       "      <th></th>\n",
       "      <th>is_canceled</th>\n",
       "      <th>lead_time</th>\n",
       "      <th>arrival_date_year</th>\n",
       "      <th>arrival_date_week_number</th>\n",
       "      <th>arrival_date_day_of_month</th>\n",
       "      <th>stays_in_weekend_nights</th>\n",
       "      <th>stays_in_week_nights</th>\n",
       "      <th>adults</th>\n",
       "      <th>children</th>\n",
       "      <th>babies</th>\n",
       "      <th>...</th>\n",
       "      <th>previous_cancellations</th>\n",
       "      <th>previous_bookings_not_canceled</th>\n",
       "      <th>booking_changes</th>\n",
       "      <th>agent</th>\n",
       "      <th>company</th>\n",
       "      <th>days_in_waiting_list</th>\n",
       "      <th>adr</th>\n",
       "      <th>required_car_parking_spaces</th>\n",
       "      <th>total_of_special_requests</th>\n",
       "      <th>reservation_status_date</th>\n",
       "    </tr>\n",
       "  </thead>\n",
       "  <tbody>\n",
       "    <tr>\n",
       "      <th>count</th>\n",
       "      <td>119390.000000</td>\n",
       "      <td>119390.000000</td>\n",
       "      <td>119390.000000</td>\n",
       "      <td>119390.000000</td>\n",
       "      <td>119390.000000</td>\n",
       "      <td>119390.000000</td>\n",
       "      <td>119390.000000</td>\n",
       "      <td>119390.000000</td>\n",
       "      <td>119386.000000</td>\n",
       "      <td>119390.000000</td>\n",
       "      <td>...</td>\n",
       "      <td>119390.000000</td>\n",
       "      <td>119390.000000</td>\n",
       "      <td>119390.000000</td>\n",
       "      <td>103050.000000</td>\n",
       "      <td>6797.000000</td>\n",
       "      <td>119390.000000</td>\n",
       "      <td>119390.000000</td>\n",
       "      <td>119390.000000</td>\n",
       "      <td>119390.000000</td>\n",
       "      <td>119390</td>\n",
       "    </tr>\n",
       "    <tr>\n",
       "      <th>mean</th>\n",
       "      <td>0.370416</td>\n",
       "      <td>104.011416</td>\n",
       "      <td>2016.156554</td>\n",
       "      <td>27.165173</td>\n",
       "      <td>15.798241</td>\n",
       "      <td>0.927599</td>\n",
       "      <td>2.500302</td>\n",
       "      <td>1.856403</td>\n",
       "      <td>0.103890</td>\n",
       "      <td>0.007949</td>\n",
       "      <td>...</td>\n",
       "      <td>0.087118</td>\n",
       "      <td>0.137097</td>\n",
       "      <td>0.221124</td>\n",
       "      <td>86.693382</td>\n",
       "      <td>189.266735</td>\n",
       "      <td>2.321149</td>\n",
       "      <td>101.831122</td>\n",
       "      <td>0.062518</td>\n",
       "      <td>0.571363</td>\n",
       "      <td>2016-07-30 00:24:47.883407104</td>\n",
       "    </tr>\n",
       "    <tr>\n",
       "      <th>min</th>\n",
       "      <td>0.000000</td>\n",
       "      <td>0.000000</td>\n",
       "      <td>2015.000000</td>\n",
       "      <td>1.000000</td>\n",
       "      <td>1.000000</td>\n",
       "      <td>0.000000</td>\n",
       "      <td>0.000000</td>\n",
       "      <td>0.000000</td>\n",
       "      <td>0.000000</td>\n",
       "      <td>0.000000</td>\n",
       "      <td>...</td>\n",
       "      <td>0.000000</td>\n",
       "      <td>0.000000</td>\n",
       "      <td>0.000000</td>\n",
       "      <td>1.000000</td>\n",
       "      <td>6.000000</td>\n",
       "      <td>0.000000</td>\n",
       "      <td>-6.380000</td>\n",
       "      <td>0.000000</td>\n",
       "      <td>0.000000</td>\n",
       "      <td>2014-10-17 00:00:00</td>\n",
       "    </tr>\n",
       "    <tr>\n",
       "      <th>25%</th>\n",
       "      <td>0.000000</td>\n",
       "      <td>18.000000</td>\n",
       "      <td>2016.000000</td>\n",
       "      <td>16.000000</td>\n",
       "      <td>8.000000</td>\n",
       "      <td>0.000000</td>\n",
       "      <td>1.000000</td>\n",
       "      <td>2.000000</td>\n",
       "      <td>0.000000</td>\n",
       "      <td>0.000000</td>\n",
       "      <td>...</td>\n",
       "      <td>0.000000</td>\n",
       "      <td>0.000000</td>\n",
       "      <td>0.000000</td>\n",
       "      <td>9.000000</td>\n",
       "      <td>62.000000</td>\n",
       "      <td>0.000000</td>\n",
       "      <td>69.290000</td>\n",
       "      <td>0.000000</td>\n",
       "      <td>0.000000</td>\n",
       "      <td>2016-02-01 00:00:00</td>\n",
       "    </tr>\n",
       "    <tr>\n",
       "      <th>50%</th>\n",
       "      <td>0.000000</td>\n",
       "      <td>69.000000</td>\n",
       "      <td>2016.000000</td>\n",
       "      <td>28.000000</td>\n",
       "      <td>16.000000</td>\n",
       "      <td>1.000000</td>\n",
       "      <td>2.000000</td>\n",
       "      <td>2.000000</td>\n",
       "      <td>0.000000</td>\n",
       "      <td>0.000000</td>\n",
       "      <td>...</td>\n",
       "      <td>0.000000</td>\n",
       "      <td>0.000000</td>\n",
       "      <td>0.000000</td>\n",
       "      <td>14.000000</td>\n",
       "      <td>179.000000</td>\n",
       "      <td>0.000000</td>\n",
       "      <td>94.575000</td>\n",
       "      <td>0.000000</td>\n",
       "      <td>0.000000</td>\n",
       "      <td>2016-08-07 00:00:00</td>\n",
       "    </tr>\n",
       "    <tr>\n",
       "      <th>75%</th>\n",
       "      <td>1.000000</td>\n",
       "      <td>160.000000</td>\n",
       "      <td>2017.000000</td>\n",
       "      <td>38.000000</td>\n",
       "      <td>23.000000</td>\n",
       "      <td>2.000000</td>\n",
       "      <td>3.000000</td>\n",
       "      <td>2.000000</td>\n",
       "      <td>0.000000</td>\n",
       "      <td>0.000000</td>\n",
       "      <td>...</td>\n",
       "      <td>0.000000</td>\n",
       "      <td>0.000000</td>\n",
       "      <td>0.000000</td>\n",
       "      <td>229.000000</td>\n",
       "      <td>270.000000</td>\n",
       "      <td>0.000000</td>\n",
       "      <td>126.000000</td>\n",
       "      <td>0.000000</td>\n",
       "      <td>1.000000</td>\n",
       "      <td>2017-02-08 00:00:00</td>\n",
       "    </tr>\n",
       "    <tr>\n",
       "      <th>max</th>\n",
       "      <td>1.000000</td>\n",
       "      <td>737.000000</td>\n",
       "      <td>2017.000000</td>\n",
       "      <td>53.000000</td>\n",
       "      <td>31.000000</td>\n",
       "      <td>19.000000</td>\n",
       "      <td>50.000000</td>\n",
       "      <td>55.000000</td>\n",
       "      <td>10.000000</td>\n",
       "      <td>10.000000</td>\n",
       "      <td>...</td>\n",
       "      <td>26.000000</td>\n",
       "      <td>72.000000</td>\n",
       "      <td>21.000000</td>\n",
       "      <td>535.000000</td>\n",
       "      <td>543.000000</td>\n",
       "      <td>391.000000</td>\n",
       "      <td>5400.000000</td>\n",
       "      <td>8.000000</td>\n",
       "      <td>5.000000</td>\n",
       "      <td>2017-09-14 00:00:00</td>\n",
       "    </tr>\n",
       "    <tr>\n",
       "      <th>std</th>\n",
       "      <td>0.482918</td>\n",
       "      <td>106.863097</td>\n",
       "      <td>0.707476</td>\n",
       "      <td>13.605138</td>\n",
       "      <td>8.780829</td>\n",
       "      <td>0.998613</td>\n",
       "      <td>1.908286</td>\n",
       "      <td>0.579261</td>\n",
       "      <td>0.398561</td>\n",
       "      <td>0.097436</td>\n",
       "      <td>...</td>\n",
       "      <td>0.844336</td>\n",
       "      <td>1.497437</td>\n",
       "      <td>0.652306</td>\n",
       "      <td>110.774548</td>\n",
       "      <td>131.655015</td>\n",
       "      <td>17.594721</td>\n",
       "      <td>50.535790</td>\n",
       "      <td>0.245291</td>\n",
       "      <td>0.792798</td>\n",
       "      <td>NaN</td>\n",
       "    </tr>\n",
       "  </tbody>\n",
       "</table>\n",
       "<p>8 rows × 21 columns</p>\n",
       "</div>"
      ],
      "text/plain": [
       "         is_canceled      lead_time  arrival_date_year  \\\n",
       "count  119390.000000  119390.000000      119390.000000   \n",
       "mean        0.370416     104.011416        2016.156554   \n",
       "min         0.000000       0.000000        2015.000000   \n",
       "25%         0.000000      18.000000        2016.000000   \n",
       "50%         0.000000      69.000000        2016.000000   \n",
       "75%         1.000000     160.000000        2017.000000   \n",
       "max         1.000000     737.000000        2017.000000   \n",
       "std         0.482918     106.863097           0.707476   \n",
       "\n",
       "       arrival_date_week_number  arrival_date_day_of_month  \\\n",
       "count             119390.000000              119390.000000   \n",
       "mean                  27.165173                  15.798241   \n",
       "min                    1.000000                   1.000000   \n",
       "25%                   16.000000                   8.000000   \n",
       "50%                   28.000000                  16.000000   \n",
       "75%                   38.000000                  23.000000   \n",
       "max                   53.000000                  31.000000   \n",
       "std                   13.605138                   8.780829   \n",
       "\n",
       "       stays_in_weekend_nights  stays_in_week_nights         adults  \\\n",
       "count            119390.000000         119390.000000  119390.000000   \n",
       "mean                  0.927599              2.500302       1.856403   \n",
       "min                   0.000000              0.000000       0.000000   \n",
       "25%                   0.000000              1.000000       2.000000   \n",
       "50%                   1.000000              2.000000       2.000000   \n",
       "75%                   2.000000              3.000000       2.000000   \n",
       "max                  19.000000             50.000000      55.000000   \n",
       "std                   0.998613              1.908286       0.579261   \n",
       "\n",
       "            children         babies  ...  previous_cancellations  \\\n",
       "count  119386.000000  119390.000000  ...           119390.000000   \n",
       "mean        0.103890       0.007949  ...                0.087118   \n",
       "min         0.000000       0.000000  ...                0.000000   \n",
       "25%         0.000000       0.000000  ...                0.000000   \n",
       "50%         0.000000       0.000000  ...                0.000000   \n",
       "75%         0.000000       0.000000  ...                0.000000   \n",
       "max        10.000000      10.000000  ...               26.000000   \n",
       "std         0.398561       0.097436  ...                0.844336   \n",
       "\n",
       "       previous_bookings_not_canceled  booking_changes          agent  \\\n",
       "count                   119390.000000    119390.000000  103050.000000   \n",
       "mean                         0.137097         0.221124      86.693382   \n",
       "min                          0.000000         0.000000       1.000000   \n",
       "25%                          0.000000         0.000000       9.000000   \n",
       "50%                          0.000000         0.000000      14.000000   \n",
       "75%                          0.000000         0.000000     229.000000   \n",
       "max                         72.000000        21.000000     535.000000   \n",
       "std                          1.497437         0.652306     110.774548   \n",
       "\n",
       "           company  days_in_waiting_list            adr  \\\n",
       "count  6797.000000         119390.000000  119390.000000   \n",
       "mean    189.266735              2.321149     101.831122   \n",
       "min       6.000000              0.000000      -6.380000   \n",
       "25%      62.000000              0.000000      69.290000   \n",
       "50%     179.000000              0.000000      94.575000   \n",
       "75%     270.000000              0.000000     126.000000   \n",
       "max     543.000000            391.000000    5400.000000   \n",
       "std     131.655015             17.594721      50.535790   \n",
       "\n",
       "       required_car_parking_spaces  total_of_special_requests  \\\n",
       "count                119390.000000              119390.000000   \n",
       "mean                      0.062518                   0.571363   \n",
       "min                       0.000000                   0.000000   \n",
       "25%                       0.000000                   0.000000   \n",
       "50%                       0.000000                   0.000000   \n",
       "75%                       0.000000                   1.000000   \n",
       "max                       8.000000                   5.000000   \n",
       "std                       0.245291                   0.792798   \n",
       "\n",
       "             reservation_status_date  \n",
       "count                         119390  \n",
       "mean   2016-07-30 00:24:47.883407104  \n",
       "min              2014-10-17 00:00:00  \n",
       "25%              2016-02-01 00:00:00  \n",
       "50%              2016-08-07 00:00:00  \n",
       "75%              2017-02-08 00:00:00  \n",
       "max              2017-09-14 00:00:00  \n",
       "std                              NaN  \n",
       "\n",
       "[8 rows x 21 columns]"
      ]
     },
     "execution_count": 15,
     "metadata": {},
     "output_type": "execute_result"
    }
   ],
   "source": [
    "df.describe()"
   ]
  },
  {
   "cell_type": "markdown",
   "id": "35f6589c",
   "metadata": {},
   "source": [
    "# **4. Data Preprocessing**"
   ]
  },
  {
   "cell_type": "markdown",
   "id": "7366a78c",
   "metadata": {},
   "source": [
    "Periksa baris yang kosong"
   ]
  },
  {
   "cell_type": "code",
   "execution_count": 7,
   "id": "d7677d01",
   "metadata": {},
   "outputs": [
    {
     "data": {
      "application/vnd.microsoft.datawrangler.viewer.v0+json": {
       "columns": [
        {
         "name": "index",
         "rawType": "object",
         "type": "string"
        },
        {
         "name": "0",
         "rawType": "int64",
         "type": "integer"
        }
       ],
       "ref": "a77d1c1c-8360-4cf2-99af-dd3bef442e83",
       "rows": [
        [
         "hotel",
         "0"
        ],
        [
         "is_canceled",
         "0"
        ],
        [
         "lead_time",
         "0"
        ],
        [
         "arrival_date_year",
         "0"
        ],
        [
         "arrival_date_month",
         "0"
        ],
        [
         "arrival_date_week_number",
         "0"
        ],
        [
         "arrival_date_day_of_month",
         "0"
        ],
        [
         "stays_in_weekend_nights",
         "0"
        ],
        [
         "stays_in_week_nights",
         "0"
        ],
        [
         "adults",
         "0"
        ],
        [
         "children",
         "4"
        ],
        [
         "babies",
         "0"
        ],
        [
         "meal",
         "0"
        ],
        [
         "country",
         "488"
        ],
        [
         "market_segment",
         "0"
        ],
        [
         "distribution_channel",
         "0"
        ],
        [
         "is_repeated_guest",
         "0"
        ],
        [
         "previous_cancellations",
         "0"
        ],
        [
         "previous_bookings_not_canceled",
         "0"
        ],
        [
         "reserved_room_type",
         "0"
        ],
        [
         "assigned_room_type",
         "0"
        ],
        [
         "booking_changes",
         "0"
        ],
        [
         "deposit_type",
         "0"
        ],
        [
         "agent",
         "16340"
        ],
        [
         "company",
         "112593"
        ],
        [
         "days_in_waiting_list",
         "0"
        ],
        [
         "customer_type",
         "0"
        ],
        [
         "adr",
         "0"
        ],
        [
         "required_car_parking_spaces",
         "0"
        ],
        [
         "total_of_special_requests",
         "0"
        ],
        [
         "reservation_status",
         "0"
        ],
        [
         "reservation_status_date",
         "0"
        ]
       ],
       "shape": {
        "columns": 1,
        "rows": 32
       }
      },
      "text/plain": [
       "hotel                                  0\n",
       "is_canceled                            0\n",
       "lead_time                              0\n",
       "arrival_date_year                      0\n",
       "arrival_date_month                     0\n",
       "arrival_date_week_number               0\n",
       "arrival_date_day_of_month              0\n",
       "stays_in_weekend_nights                0\n",
       "stays_in_week_nights                   0\n",
       "adults                                 0\n",
       "children                               4\n",
       "babies                                 0\n",
       "meal                                   0\n",
       "country                              488\n",
       "market_segment                         0\n",
       "distribution_channel                   0\n",
       "is_repeated_guest                      0\n",
       "previous_cancellations                 0\n",
       "previous_bookings_not_canceled         0\n",
       "reserved_room_type                     0\n",
       "assigned_room_type                     0\n",
       "booking_changes                        0\n",
       "deposit_type                           0\n",
       "agent                              16340\n",
       "company                           112593\n",
       "days_in_waiting_list                   0\n",
       "customer_type                          0\n",
       "adr                                    0\n",
       "required_car_parking_spaces            0\n",
       "total_of_special_requests              0\n",
       "reservation_status                     0\n",
       "reservation_status_date                0\n",
       "dtype: int64"
      ]
     },
     "execution_count": 7,
     "metadata": {},
     "output_type": "execute_result"
    }
   ],
   "source": [
    "df.isna().sum()"
   ]
  },
  {
   "cell_type": "markdown",
   "id": "09e09240",
   "metadata": {},
   "source": [
    "Drop data kosong dan kolom yang tidak diperlukan"
   ]
  },
  {
   "cell_type": "code",
   "execution_count": 8,
   "id": "5a06dedd",
   "metadata": {},
   "outputs": [],
   "source": [
    "df = df.drop(['company','agent','country', 'reservation_status_date','market_segment','distribution_channel','arrival_date_year','reservation_status'], axis=1)\n",
    "df = df.dropna()"
   ]
  },
  {
   "cell_type": "markdown",
   "id": "b0a0c055",
   "metadata": {},
   "source": [
    "Mengubah tipe data float ke int"
   ]
  },
  {
   "cell_type": "code",
   "execution_count": 9,
   "id": "94e1280c",
   "metadata": {},
   "outputs": [],
   "source": [
    "exclude_cols = ['adr']  \n",
    "float_columns = [col for col in df.select_dtypes(include=['float64']).columns if col not in exclude_cols]\n",
    "df[float_columns] = df[float_columns].astype('int')"
   ]
  },
  {
   "cell_type": "markdown",
   "id": "0e299cad",
   "metadata": {},
   "source": [
    "Cek data duplikat"
   ]
  },
  {
   "cell_type": "code",
   "execution_count": 10,
   "id": "8b206e36",
   "metadata": {},
   "outputs": [
    {
     "data": {
      "text/plain": [
       "0"
      ]
     },
     "execution_count": 10,
     "metadata": {},
     "output_type": "execute_result"
    }
   ],
   "source": [
    "df = df.drop_duplicates()\n",
    "df.duplicated().sum()"
   ]
  },
  {
   "cell_type": "markdown",
   "id": "ab9db11a",
   "metadata": {},
   "source": [
    "Melihat fitur tersisa pada dataframe untuk modeling"
   ]
  },
  {
   "cell_type": "code",
   "execution_count": 20,
   "id": "17e8b9e9",
   "metadata": {},
   "outputs": [
    {
     "data": {
      "application/vnd.microsoft.datawrangler.viewer.v0+json": {
       "columns": [
        {
         "name": "index",
         "rawType": "int64",
         "type": "integer"
        },
        {
         "name": "hotel",
         "rawType": "object",
         "type": "string"
        },
        {
         "name": "is_canceled",
         "rawType": "int64",
         "type": "integer"
        },
        {
         "name": "lead_time",
         "rawType": "int64",
         "type": "integer"
        },
        {
         "name": "arrival_date_month",
         "rawType": "object",
         "type": "string"
        },
        {
         "name": "arrival_date_week_number",
         "rawType": "int64",
         "type": "integer"
        },
        {
         "name": "arrival_date_day_of_month",
         "rawType": "int64",
         "type": "integer"
        },
        {
         "name": "stays_in_weekend_nights",
         "rawType": "int64",
         "type": "integer"
        },
        {
         "name": "stays_in_week_nights",
         "rawType": "int64",
         "type": "integer"
        },
        {
         "name": "adults",
         "rawType": "int64",
         "type": "integer"
        },
        {
         "name": "children",
         "rawType": "int32",
         "type": "integer"
        },
        {
         "name": "babies",
         "rawType": "int64",
         "type": "integer"
        },
        {
         "name": "meal",
         "rawType": "object",
         "type": "string"
        },
        {
         "name": "is_repeated_guest",
         "rawType": "int64",
         "type": "integer"
        },
        {
         "name": "previous_cancellations",
         "rawType": "int64",
         "type": "integer"
        },
        {
         "name": "previous_bookings_not_canceled",
         "rawType": "int64",
         "type": "integer"
        },
        {
         "name": "reserved_room_type",
         "rawType": "object",
         "type": "string"
        },
        {
         "name": "assigned_room_type",
         "rawType": "object",
         "type": "string"
        },
        {
         "name": "booking_changes",
         "rawType": "int64",
         "type": "integer"
        },
        {
         "name": "deposit_type",
         "rawType": "object",
         "type": "string"
        },
        {
         "name": "days_in_waiting_list",
         "rawType": "int64",
         "type": "integer"
        },
        {
         "name": "customer_type",
         "rawType": "object",
         "type": "string"
        },
        {
         "name": "adr",
         "rawType": "float64",
         "type": "float"
        },
        {
         "name": "required_car_parking_spaces",
         "rawType": "int64",
         "type": "integer"
        },
        {
         "name": "total_of_special_requests",
         "rawType": "int64",
         "type": "integer"
        }
       ],
       "ref": "62aeee60-5f1f-4b7f-9da4-ab5faa04cac6",
       "rows": [
        [
         "0",
         "Resort Hotel",
         "0",
         "342",
         "July",
         "27",
         "1",
         "0",
         "0",
         "2",
         "0",
         "0",
         "BB",
         "0",
         "0",
         "0",
         "C",
         "C",
         "3",
         "No Deposit",
         "0",
         "Transient",
         "0.0",
         "0",
         "0"
        ],
        [
         "1",
         "Resort Hotel",
         "0",
         "737",
         "July",
         "27",
         "1",
         "0",
         "0",
         "2",
         "0",
         "0",
         "BB",
         "0",
         "0",
         "0",
         "C",
         "C",
         "4",
         "No Deposit",
         "0",
         "Transient",
         "0.0",
         "0",
         "0"
        ],
        [
         "2",
         "Resort Hotel",
         "0",
         "7",
         "July",
         "27",
         "1",
         "0",
         "1",
         "1",
         "0",
         "0",
         "BB",
         "0",
         "0",
         "0",
         "A",
         "C",
         "0",
         "No Deposit",
         "0",
         "Transient",
         "75.0",
         "0",
         "0"
        ],
        [
         "3",
         "Resort Hotel",
         "0",
         "13",
         "July",
         "27",
         "1",
         "0",
         "1",
         "1",
         "0",
         "0",
         "BB",
         "0",
         "0",
         "0",
         "A",
         "A",
         "0",
         "No Deposit",
         "0",
         "Transient",
         "75.0",
         "0",
         "0"
        ],
        [
         "4",
         "Resort Hotel",
         "0",
         "14",
         "July",
         "27",
         "1",
         "0",
         "2",
         "2",
         "0",
         "0",
         "BB",
         "0",
         "0",
         "0",
         "A",
         "A",
         "0",
         "No Deposit",
         "0",
         "Transient",
         "98.0",
         "0",
         "1"
        ],
        [
         "6",
         "Resort Hotel",
         "0",
         "0",
         "July",
         "27",
         "1",
         "0",
         "2",
         "2",
         "0",
         "0",
         "BB",
         "0",
         "0",
         "0",
         "C",
         "C",
         "0",
         "No Deposit",
         "0",
         "Transient",
         "107.0",
         "0",
         "0"
        ],
        [
         "7",
         "Resort Hotel",
         "0",
         "9",
         "July",
         "27",
         "1",
         "0",
         "2",
         "2",
         "0",
         "0",
         "FB",
         "0",
         "0",
         "0",
         "C",
         "C",
         "0",
         "No Deposit",
         "0",
         "Transient",
         "103.0",
         "0",
         "1"
        ],
        [
         "8",
         "Resort Hotel",
         "1",
         "85",
         "July",
         "27",
         "1",
         "0",
         "3",
         "2",
         "0",
         "0",
         "BB",
         "0",
         "0",
         "0",
         "A",
         "A",
         "0",
         "No Deposit",
         "0",
         "Transient",
         "82.0",
         "0",
         "1"
        ],
        [
         "9",
         "Resort Hotel",
         "1",
         "75",
         "July",
         "27",
         "1",
         "0",
         "3",
         "2",
         "0",
         "0",
         "HB",
         "0",
         "0",
         "0",
         "D",
         "D",
         "0",
         "No Deposit",
         "0",
         "Transient",
         "105.5",
         "0",
         "0"
        ],
        [
         "10",
         "Resort Hotel",
         "1",
         "23",
         "July",
         "27",
         "1",
         "0",
         "4",
         "2",
         "0",
         "0",
         "BB",
         "0",
         "0",
         "0",
         "E",
         "E",
         "0",
         "No Deposit",
         "0",
         "Transient",
         "123.0",
         "0",
         "0"
        ],
        [
         "11",
         "Resort Hotel",
         "0",
         "35",
         "July",
         "27",
         "1",
         "0",
         "4",
         "2",
         "0",
         "0",
         "HB",
         "0",
         "0",
         "0",
         "D",
         "D",
         "0",
         "No Deposit",
         "0",
         "Transient",
         "145.0",
         "0",
         "0"
        ],
        [
         "12",
         "Resort Hotel",
         "0",
         "68",
         "July",
         "27",
         "1",
         "0",
         "4",
         "2",
         "0",
         "0",
         "BB",
         "0",
         "0",
         "0",
         "D",
         "E",
         "0",
         "No Deposit",
         "0",
         "Transient",
         "97.0",
         "0",
         "3"
        ],
        [
         "13",
         "Resort Hotel",
         "0",
         "18",
         "July",
         "27",
         "1",
         "0",
         "4",
         "2",
         "1",
         "0",
         "HB",
         "0",
         "0",
         "0",
         "G",
         "G",
         "1",
         "No Deposit",
         "0",
         "Transient",
         "154.77",
         "0",
         "1"
        ],
        [
         "14",
         "Resort Hotel",
         "0",
         "37",
         "July",
         "27",
         "1",
         "0",
         "4",
         "2",
         "0",
         "0",
         "BB",
         "0",
         "0",
         "0",
         "E",
         "E",
         "0",
         "No Deposit",
         "0",
         "Transient",
         "94.71",
         "0",
         "0"
        ],
        [
         "16",
         "Resort Hotel",
         "0",
         "37",
         "July",
         "27",
         "1",
         "0",
         "4",
         "2",
         "0",
         "0",
         "BB",
         "0",
         "0",
         "0",
         "E",
         "E",
         "0",
         "No Deposit",
         "0",
         "Contract",
         "97.5",
         "0",
         "0"
        ],
        [
         "17",
         "Resort Hotel",
         "0",
         "12",
         "July",
         "27",
         "1",
         "0",
         "1",
         "2",
         "0",
         "0",
         "BB",
         "0",
         "0",
         "0",
         "A",
         "E",
         "0",
         "No Deposit",
         "0",
         "Transient",
         "88.2",
         "0",
         "0"
        ],
        [
         "18",
         "Resort Hotel",
         "0",
         "0",
         "July",
         "27",
         "1",
         "0",
         "1",
         "2",
         "0",
         "0",
         "BB",
         "0",
         "0",
         "0",
         "A",
         "G",
         "0",
         "No Deposit",
         "0",
         "Transient",
         "107.42",
         "0",
         "0"
        ],
        [
         "19",
         "Resort Hotel",
         "0",
         "7",
         "July",
         "27",
         "1",
         "0",
         "4",
         "2",
         "0",
         "0",
         "BB",
         "0",
         "0",
         "0",
         "G",
         "G",
         "0",
         "No Deposit",
         "0",
         "Transient",
         "153.0",
         "0",
         "1"
        ],
        [
         "20",
         "Resort Hotel",
         "0",
         "37",
         "July",
         "27",
         "1",
         "1",
         "4",
         "1",
         "0",
         "0",
         "BB",
         "0",
         "0",
         "0",
         "F",
         "F",
         "0",
         "No Deposit",
         "0",
         "Transient",
         "97.29",
         "0",
         "1"
        ],
        [
         "21",
         "Resort Hotel",
         "0",
         "72",
         "July",
         "27",
         "1",
         "2",
         "4",
         "2",
         "0",
         "0",
         "BB",
         "0",
         "0",
         "0",
         "A",
         "A",
         "1",
         "No Deposit",
         "0",
         "Transient",
         "84.67",
         "0",
         "1"
        ],
        [
         "23",
         "Resort Hotel",
         "0",
         "72",
         "July",
         "27",
         "1",
         "2",
         "4",
         "2",
         "0",
         "0",
         "BB",
         "0",
         "0",
         "0",
         "D",
         "D",
         "1",
         "No Deposit",
         "0",
         "Transient",
         "99.67",
         "0",
         "1"
        ],
        [
         "24",
         "Resort Hotel",
         "0",
         "127",
         "July",
         "27",
         "1",
         "2",
         "5",
         "2",
         "0",
         "0",
         "HB",
         "0",
         "0",
         "0",
         "D",
         "I",
         "0",
         "No Deposit",
         "0",
         "Contract",
         "94.95",
         "0",
         "1"
        ],
        [
         "25",
         "Resort Hotel",
         "0",
         "78",
         "July",
         "27",
         "1",
         "2",
         "5",
         "2",
         "0",
         "0",
         "BB",
         "0",
         "0",
         "0",
         "D",
         "D",
         "0",
         "No Deposit",
         "0",
         "Transient",
         "63.6",
         "1",
         "0"
        ],
        [
         "26",
         "Resort Hotel",
         "0",
         "48",
         "July",
         "27",
         "1",
         "2",
         "5",
         "2",
         "0",
         "0",
         "BB",
         "0",
         "0",
         "0",
         "D",
         "D",
         "0",
         "No Deposit",
         "0",
         "Contract",
         "79.5",
         "0",
         "0"
        ],
        [
         "27",
         "Resort Hotel",
         "1",
         "60",
         "July",
         "27",
         "1",
         "2",
         "5",
         "2",
         "0",
         "0",
         "BB",
         "0",
         "0",
         "0",
         "E",
         "E",
         "0",
         "No Deposit",
         "0",
         "Transient",
         "107.0",
         "0",
         "2"
        ],
        [
         "28",
         "Resort Hotel",
         "0",
         "77",
         "July",
         "27",
         "1",
         "2",
         "5",
         "2",
         "0",
         "0",
         "BB",
         "0",
         "0",
         "0",
         "A",
         "A",
         "0",
         "No Deposit",
         "0",
         "Transient",
         "94.0",
         "0",
         "0"
        ],
        [
         "29",
         "Resort Hotel",
         "0",
         "99",
         "July",
         "27",
         "1",
         "2",
         "5",
         "2",
         "0",
         "0",
         "BB",
         "0",
         "0",
         "0",
         "D",
         "D",
         "0",
         "No Deposit",
         "0",
         "Transient",
         "87.3",
         "1",
         "1"
        ],
        [
         "30",
         "Resort Hotel",
         "0",
         "118",
         "July",
         "27",
         "1",
         "4",
         "10",
         "1",
         "0",
         "0",
         "BB",
         "0",
         "0",
         "0",
         "A",
         "A",
         "2",
         "No Deposit",
         "0",
         "Transient",
         "62.0",
         "0",
         "2"
        ],
        [
         "31",
         "Resort Hotel",
         "0",
         "95",
         "July",
         "27",
         "1",
         "4",
         "11",
         "2",
         "0",
         "0",
         "BB",
         "0",
         "0",
         "0",
         "D",
         "D",
         "0",
         "No Deposit",
         "0",
         "Transient",
         "63.86",
         "0",
         "0"
        ],
        [
         "32",
         "Resort Hotel",
         "1",
         "96",
         "July",
         "27",
         "1",
         "2",
         "8",
         "2",
         "0",
         "0",
         "BB",
         "0",
         "0",
         "0",
         "E",
         "E",
         "0",
         "No Deposit",
         "0",
         "Transient",
         "108.3",
         "0",
         "2"
        ],
        [
         "33",
         "Resort Hotel",
         "0",
         "69",
         "July",
         "27",
         "2",
         "2",
         "4",
         "2",
         "0",
         "0",
         "BB",
         "0",
         "0",
         "0",
         "A",
         "C",
         "0",
         "No Deposit",
         "0",
         "Transient",
         "65.5",
         "0",
         "0"
        ],
        [
         "34",
         "Resort Hotel",
         "1",
         "45",
         "July",
         "27",
         "2",
         "1",
         "3",
         "3",
         "0",
         "0",
         "BB",
         "0",
         "0",
         "0",
         "D",
         "D",
         "0",
         "No Deposit",
         "0",
         "Transient",
         "108.8",
         "0",
         "1"
        ],
        [
         "35",
         "Resort Hotel",
         "1",
         "40",
         "July",
         "27",
         "2",
         "1",
         "3",
         "3",
         "0",
         "0",
         "BB",
         "0",
         "0",
         "0",
         "D",
         "D",
         "0",
         "No Deposit",
         "0",
         "Transient",
         "108.8",
         "0",
         "1"
        ],
        [
         "36",
         "Resort Hotel",
         "0",
         "15",
         "July",
         "27",
         "2",
         "1",
         "3",
         "2",
         "0",
         "0",
         "BB",
         "0",
         "0",
         "0",
         "A",
         "C",
         "0",
         "No Deposit",
         "0",
         "Transient",
         "98.0",
         "0",
         "0"
        ],
        [
         "37",
         "Resort Hotel",
         "0",
         "36",
         "July",
         "27",
         "2",
         "1",
         "3",
         "3",
         "0",
         "0",
         "BB",
         "0",
         "0",
         "0",
         "D",
         "D",
         "0",
         "No Deposit",
         "0",
         "Transient",
         "108.8",
         "0",
         "1"
        ],
        [
         "38",
         "Resort Hotel",
         "1",
         "43",
         "July",
         "27",
         "2",
         "1",
         "3",
         "3",
         "0",
         "0",
         "BB",
         "0",
         "0",
         "0",
         "D",
         "D",
         "0",
         "No Deposit",
         "0",
         "Transient",
         "108.8",
         "0",
         "0"
        ],
        [
         "39",
         "Resort Hotel",
         "0",
         "70",
         "July",
         "27",
         "2",
         "2",
         "3",
         "2",
         "0",
         "0",
         "HB",
         "0",
         "0",
         "0",
         "E",
         "E",
         "0",
         "No Deposit",
         "0",
         "Transient",
         "137.0",
         "0",
         "1"
        ],
        [
         "40",
         "Resort Hotel",
         "1",
         "45",
         "July",
         "27",
         "2",
         "2",
         "3",
         "2",
         "0",
         "0",
         "BB",
         "0",
         "0",
         "0",
         "G",
         "G",
         "0",
         "No Deposit",
         "0",
         "Transient",
         "117.81",
         "0",
         "0"
        ],
        [
         "41",
         "Resort Hotel",
         "0",
         "45",
         "July",
         "27",
         "2",
         "2",
         "3",
         "2",
         "0",
         "0",
         "BB",
         "0",
         "0",
         "0",
         "D",
         "D",
         "0",
         "No Deposit",
         "0",
         "Contract",
         "79.5",
         "0",
         "0"
        ],
        [
         "42",
         "Resort Hotel",
         "0",
         "16",
         "July",
         "27",
         "2",
         "2",
         "3",
         "2",
         "0",
         "0",
         "BB",
         "0",
         "0",
         "0",
         "F",
         "F",
         "0",
         "No Deposit",
         "0",
         "Transient",
         "123.0",
         "0",
         "0"
        ],
        [
         "44",
         "Resort Hotel",
         "0",
         "107",
         "July",
         "27",
         "2",
         "2",
         "5",
         "2",
         "0",
         "0",
         "BB",
         "0",
         "0",
         "0",
         "A",
         "A",
         "0",
         "No Deposit",
         "0",
         "Transient",
         "110.7",
         "0",
         "2"
        ],
        [
         "45",
         "Resort Hotel",
         "1",
         "47",
         "July",
         "27",
         "2",
         "2",
         "5",
         "2",
         "2",
         "0",
         "BB",
         "0",
         "0",
         "0",
         "G",
         "G",
         "0",
         "No Deposit",
         "0",
         "Transient",
         "153.0",
         "0",
         "0"
        ],
        [
         "46",
         "Resort Hotel",
         "0",
         "96",
         "July",
         "27",
         "2",
         "2",
         "5",
         "2",
         "0",
         "0",
         "BB",
         "0",
         "0",
         "0",
         "A",
         "A",
         "0",
         "No Deposit",
         "0",
         "Transient",
         "58.95",
         "0",
         "1"
        ],
        [
         "47",
         "Resort Hotel",
         "0",
         "113",
         "July",
         "27",
         "2",
         "2",
         "5",
         "2",
         "0",
         "0",
         "BB",
         "0",
         "0",
         "0",
         "E",
         "E",
         "0",
         "No Deposit",
         "0",
         "Transient-Party",
         "82.88",
         "0",
         "2"
        ],
        [
         "48",
         "Resort Hotel",
         "0",
         "90",
         "July",
         "27",
         "2",
         "2",
         "5",
         "2",
         "0",
         "0",
         "HB",
         "0",
         "0",
         "0",
         "A",
         "B",
         "1",
         "No Deposit",
         "0",
         "Contract",
         "82.35",
         "0",
         "0"
        ],
        [
         "49",
         "Resort Hotel",
         "0",
         "50",
         "July",
         "27",
         "2",
         "2",
         "5",
         "2",
         "0",
         "0",
         "HB",
         "0",
         "0",
         "0",
         "E",
         "F",
         "1",
         "No Deposit",
         "0",
         "Transient",
         "119.35",
         "0",
         "1"
        ],
        [
         "50",
         "Resort Hotel",
         "0",
         "113",
         "July",
         "27",
         "2",
         "2",
         "5",
         "2",
         "0",
         "0",
         "BB",
         "0",
         "0",
         "0",
         "D",
         "D",
         "0",
         "No Deposit",
         "0",
         "Transient-Party",
         "67.58",
         "0",
         "2"
        ],
        [
         "51",
         "Resort Hotel",
         "0",
         "93",
         "July",
         "27",
         "2",
         "3",
         "8",
         "2",
         "0",
         "0",
         "BB",
         "0",
         "0",
         "0",
         "A",
         "A",
         "0",
         "No Deposit",
         "0",
         "Contract",
         "56.01",
         "0",
         "0"
        ],
        [
         "52",
         "Resort Hotel",
         "0",
         "76",
         "July",
         "27",
         "2",
         "4",
         "10",
         "2",
         "0",
         "0",
         "BB",
         "0",
         "0",
         "0",
         "D",
         "D",
         "0",
         "No Deposit",
         "0",
         "Contract",
         "110.7",
         "0",
         "0"
        ],
        [
         "53",
         "Resort Hotel",
         "0",
         "3",
         "July",
         "27",
         "2",
         "0",
         "1",
         "2",
         "0",
         "0",
         "BB",
         "0",
         "0",
         "0",
         "A",
         "C",
         "0",
         "No Deposit",
         "0",
         "Transient",
         "88.2",
         "1",
         "0"
        ]
       ],
       "shape": {
        "columns": 24,
        "rows": 85253
       }
      },
      "text/html": [
       "<div>\n",
       "<style scoped>\n",
       "    .dataframe tbody tr th:only-of-type {\n",
       "        vertical-align: middle;\n",
       "    }\n",
       "\n",
       "    .dataframe tbody tr th {\n",
       "        vertical-align: top;\n",
       "    }\n",
       "\n",
       "    .dataframe thead th {\n",
       "        text-align: right;\n",
       "    }\n",
       "</style>\n",
       "<table border=\"1\" class=\"dataframe\">\n",
       "  <thead>\n",
       "    <tr style=\"text-align: right;\">\n",
       "      <th></th>\n",
       "      <th>hotel</th>\n",
       "      <th>is_canceled</th>\n",
       "      <th>lead_time</th>\n",
       "      <th>arrival_date_month</th>\n",
       "      <th>arrival_date_week_number</th>\n",
       "      <th>arrival_date_day_of_month</th>\n",
       "      <th>stays_in_weekend_nights</th>\n",
       "      <th>stays_in_week_nights</th>\n",
       "      <th>adults</th>\n",
       "      <th>children</th>\n",
       "      <th>...</th>\n",
       "      <th>previous_bookings_not_canceled</th>\n",
       "      <th>reserved_room_type</th>\n",
       "      <th>assigned_room_type</th>\n",
       "      <th>booking_changes</th>\n",
       "      <th>deposit_type</th>\n",
       "      <th>days_in_waiting_list</th>\n",
       "      <th>customer_type</th>\n",
       "      <th>adr</th>\n",
       "      <th>required_car_parking_spaces</th>\n",
       "      <th>total_of_special_requests</th>\n",
       "    </tr>\n",
       "  </thead>\n",
       "  <tbody>\n",
       "    <tr>\n",
       "      <th>0</th>\n",
       "      <td>Resort Hotel</td>\n",
       "      <td>0</td>\n",
       "      <td>342</td>\n",
       "      <td>July</td>\n",
       "      <td>27</td>\n",
       "      <td>1</td>\n",
       "      <td>0</td>\n",
       "      <td>0</td>\n",
       "      <td>2</td>\n",
       "      <td>0</td>\n",
       "      <td>...</td>\n",
       "      <td>0</td>\n",
       "      <td>C</td>\n",
       "      <td>C</td>\n",
       "      <td>3</td>\n",
       "      <td>No Deposit</td>\n",
       "      <td>0</td>\n",
       "      <td>Transient</td>\n",
       "      <td>0.00</td>\n",
       "      <td>0</td>\n",
       "      <td>0</td>\n",
       "    </tr>\n",
       "    <tr>\n",
       "      <th>1</th>\n",
       "      <td>Resort Hotel</td>\n",
       "      <td>0</td>\n",
       "      <td>737</td>\n",
       "      <td>July</td>\n",
       "      <td>27</td>\n",
       "      <td>1</td>\n",
       "      <td>0</td>\n",
       "      <td>0</td>\n",
       "      <td>2</td>\n",
       "      <td>0</td>\n",
       "      <td>...</td>\n",
       "      <td>0</td>\n",
       "      <td>C</td>\n",
       "      <td>C</td>\n",
       "      <td>4</td>\n",
       "      <td>No Deposit</td>\n",
       "      <td>0</td>\n",
       "      <td>Transient</td>\n",
       "      <td>0.00</td>\n",
       "      <td>0</td>\n",
       "      <td>0</td>\n",
       "    </tr>\n",
       "    <tr>\n",
       "      <th>2</th>\n",
       "      <td>Resort Hotel</td>\n",
       "      <td>0</td>\n",
       "      <td>7</td>\n",
       "      <td>July</td>\n",
       "      <td>27</td>\n",
       "      <td>1</td>\n",
       "      <td>0</td>\n",
       "      <td>1</td>\n",
       "      <td>1</td>\n",
       "      <td>0</td>\n",
       "      <td>...</td>\n",
       "      <td>0</td>\n",
       "      <td>A</td>\n",
       "      <td>C</td>\n",
       "      <td>0</td>\n",
       "      <td>No Deposit</td>\n",
       "      <td>0</td>\n",
       "      <td>Transient</td>\n",
       "      <td>75.00</td>\n",
       "      <td>0</td>\n",
       "      <td>0</td>\n",
       "    </tr>\n",
       "    <tr>\n",
       "      <th>3</th>\n",
       "      <td>Resort Hotel</td>\n",
       "      <td>0</td>\n",
       "      <td>13</td>\n",
       "      <td>July</td>\n",
       "      <td>27</td>\n",
       "      <td>1</td>\n",
       "      <td>0</td>\n",
       "      <td>1</td>\n",
       "      <td>1</td>\n",
       "      <td>0</td>\n",
       "      <td>...</td>\n",
       "      <td>0</td>\n",
       "      <td>A</td>\n",
       "      <td>A</td>\n",
       "      <td>0</td>\n",
       "      <td>No Deposit</td>\n",
       "      <td>0</td>\n",
       "      <td>Transient</td>\n",
       "      <td>75.00</td>\n",
       "      <td>0</td>\n",
       "      <td>0</td>\n",
       "    </tr>\n",
       "    <tr>\n",
       "      <th>4</th>\n",
       "      <td>Resort Hotel</td>\n",
       "      <td>0</td>\n",
       "      <td>14</td>\n",
       "      <td>July</td>\n",
       "      <td>27</td>\n",
       "      <td>1</td>\n",
       "      <td>0</td>\n",
       "      <td>2</td>\n",
       "      <td>2</td>\n",
       "      <td>0</td>\n",
       "      <td>...</td>\n",
       "      <td>0</td>\n",
       "      <td>A</td>\n",
       "      <td>A</td>\n",
       "      <td>0</td>\n",
       "      <td>No Deposit</td>\n",
       "      <td>0</td>\n",
       "      <td>Transient</td>\n",
       "      <td>98.00</td>\n",
       "      <td>0</td>\n",
       "      <td>1</td>\n",
       "    </tr>\n",
       "    <tr>\n",
       "      <th>...</th>\n",
       "      <td>...</td>\n",
       "      <td>...</td>\n",
       "      <td>...</td>\n",
       "      <td>...</td>\n",
       "      <td>...</td>\n",
       "      <td>...</td>\n",
       "      <td>...</td>\n",
       "      <td>...</td>\n",
       "      <td>...</td>\n",
       "      <td>...</td>\n",
       "      <td>...</td>\n",
       "      <td>...</td>\n",
       "      <td>...</td>\n",
       "      <td>...</td>\n",
       "      <td>...</td>\n",
       "      <td>...</td>\n",
       "      <td>...</td>\n",
       "      <td>...</td>\n",
       "      <td>...</td>\n",
       "      <td>...</td>\n",
       "      <td>...</td>\n",
       "    </tr>\n",
       "    <tr>\n",
       "      <th>119385</th>\n",
       "      <td>City Hotel</td>\n",
       "      <td>0</td>\n",
       "      <td>23</td>\n",
       "      <td>August</td>\n",
       "      <td>35</td>\n",
       "      <td>30</td>\n",
       "      <td>2</td>\n",
       "      <td>5</td>\n",
       "      <td>2</td>\n",
       "      <td>0</td>\n",
       "      <td>...</td>\n",
       "      <td>0</td>\n",
       "      <td>A</td>\n",
       "      <td>A</td>\n",
       "      <td>0</td>\n",
       "      <td>No Deposit</td>\n",
       "      <td>0</td>\n",
       "      <td>Transient</td>\n",
       "      <td>96.14</td>\n",
       "      <td>0</td>\n",
       "      <td>0</td>\n",
       "    </tr>\n",
       "    <tr>\n",
       "      <th>119386</th>\n",
       "      <td>City Hotel</td>\n",
       "      <td>0</td>\n",
       "      <td>102</td>\n",
       "      <td>August</td>\n",
       "      <td>35</td>\n",
       "      <td>31</td>\n",
       "      <td>2</td>\n",
       "      <td>5</td>\n",
       "      <td>3</td>\n",
       "      <td>0</td>\n",
       "      <td>...</td>\n",
       "      <td>0</td>\n",
       "      <td>E</td>\n",
       "      <td>E</td>\n",
       "      <td>0</td>\n",
       "      <td>No Deposit</td>\n",
       "      <td>0</td>\n",
       "      <td>Transient</td>\n",
       "      <td>225.43</td>\n",
       "      <td>0</td>\n",
       "      <td>2</td>\n",
       "    </tr>\n",
       "    <tr>\n",
       "      <th>119387</th>\n",
       "      <td>City Hotel</td>\n",
       "      <td>0</td>\n",
       "      <td>34</td>\n",
       "      <td>August</td>\n",
       "      <td>35</td>\n",
       "      <td>31</td>\n",
       "      <td>2</td>\n",
       "      <td>5</td>\n",
       "      <td>2</td>\n",
       "      <td>0</td>\n",
       "      <td>...</td>\n",
       "      <td>0</td>\n",
       "      <td>D</td>\n",
       "      <td>D</td>\n",
       "      <td>0</td>\n",
       "      <td>No Deposit</td>\n",
       "      <td>0</td>\n",
       "      <td>Transient</td>\n",
       "      <td>157.71</td>\n",
       "      <td>0</td>\n",
       "      <td>4</td>\n",
       "    </tr>\n",
       "    <tr>\n",
       "      <th>119388</th>\n",
       "      <td>City Hotel</td>\n",
       "      <td>0</td>\n",
       "      <td>109</td>\n",
       "      <td>August</td>\n",
       "      <td>35</td>\n",
       "      <td>31</td>\n",
       "      <td>2</td>\n",
       "      <td>5</td>\n",
       "      <td>2</td>\n",
       "      <td>0</td>\n",
       "      <td>...</td>\n",
       "      <td>0</td>\n",
       "      <td>A</td>\n",
       "      <td>A</td>\n",
       "      <td>0</td>\n",
       "      <td>No Deposit</td>\n",
       "      <td>0</td>\n",
       "      <td>Transient</td>\n",
       "      <td>104.40</td>\n",
       "      <td>0</td>\n",
       "      <td>0</td>\n",
       "    </tr>\n",
       "    <tr>\n",
       "      <th>119389</th>\n",
       "      <td>City Hotel</td>\n",
       "      <td>0</td>\n",
       "      <td>205</td>\n",
       "      <td>August</td>\n",
       "      <td>35</td>\n",
       "      <td>29</td>\n",
       "      <td>2</td>\n",
       "      <td>7</td>\n",
       "      <td>2</td>\n",
       "      <td>0</td>\n",
       "      <td>...</td>\n",
       "      <td>0</td>\n",
       "      <td>A</td>\n",
       "      <td>A</td>\n",
       "      <td>0</td>\n",
       "      <td>No Deposit</td>\n",
       "      <td>0</td>\n",
       "      <td>Transient</td>\n",
       "      <td>151.20</td>\n",
       "      <td>0</td>\n",
       "      <td>2</td>\n",
       "    </tr>\n",
       "  </tbody>\n",
       "</table>\n",
       "<p>85253 rows × 24 columns</p>\n",
       "</div>"
      ],
      "text/plain": [
       "               hotel  is_canceled  lead_time arrival_date_month  \\\n",
       "0       Resort Hotel            0        342               July   \n",
       "1       Resort Hotel            0        737               July   \n",
       "2       Resort Hotel            0          7               July   \n",
       "3       Resort Hotel            0         13               July   \n",
       "4       Resort Hotel            0         14               July   \n",
       "...              ...          ...        ...                ...   \n",
       "119385    City Hotel            0         23             August   \n",
       "119386    City Hotel            0        102             August   \n",
       "119387    City Hotel            0         34             August   \n",
       "119388    City Hotel            0        109             August   \n",
       "119389    City Hotel            0        205             August   \n",
       "\n",
       "        arrival_date_week_number  arrival_date_day_of_month  \\\n",
       "0                             27                          1   \n",
       "1                             27                          1   \n",
       "2                             27                          1   \n",
       "3                             27                          1   \n",
       "4                             27                          1   \n",
       "...                          ...                        ...   \n",
       "119385                        35                         30   \n",
       "119386                        35                         31   \n",
       "119387                        35                         31   \n",
       "119388                        35                         31   \n",
       "119389                        35                         29   \n",
       "\n",
       "        stays_in_weekend_nights  stays_in_week_nights  adults  children  ...  \\\n",
       "0                             0                     0       2         0  ...   \n",
       "1                             0                     0       2         0  ...   \n",
       "2                             0                     1       1         0  ...   \n",
       "3                             0                     1       1         0  ...   \n",
       "4                             0                     2       2         0  ...   \n",
       "...                         ...                   ...     ...       ...  ...   \n",
       "119385                        2                     5       2         0  ...   \n",
       "119386                        2                     5       3         0  ...   \n",
       "119387                        2                     5       2         0  ...   \n",
       "119388                        2                     5       2         0  ...   \n",
       "119389                        2                     7       2         0  ...   \n",
       "\n",
       "        previous_bookings_not_canceled reserved_room_type  assigned_room_type  \\\n",
       "0                                    0                  C                   C   \n",
       "1                                    0                  C                   C   \n",
       "2                                    0                  A                   C   \n",
       "3                                    0                  A                   A   \n",
       "4                                    0                  A                   A   \n",
       "...                                ...                ...                 ...   \n",
       "119385                               0                  A                   A   \n",
       "119386                               0                  E                   E   \n",
       "119387                               0                  D                   D   \n",
       "119388                               0                  A                   A   \n",
       "119389                               0                  A                   A   \n",
       "\n",
       "        booking_changes  deposit_type days_in_waiting_list customer_type  \\\n",
       "0                     3    No Deposit                    0     Transient   \n",
       "1                     4    No Deposit                    0     Transient   \n",
       "2                     0    No Deposit                    0     Transient   \n",
       "3                     0    No Deposit                    0     Transient   \n",
       "4                     0    No Deposit                    0     Transient   \n",
       "...                 ...           ...                  ...           ...   \n",
       "119385                0    No Deposit                    0     Transient   \n",
       "119386                0    No Deposit                    0     Transient   \n",
       "119387                0    No Deposit                    0     Transient   \n",
       "119388                0    No Deposit                    0     Transient   \n",
       "119389                0    No Deposit                    0     Transient   \n",
       "\n",
       "           adr required_car_parking_spaces  total_of_special_requests  \n",
       "0         0.00                           0                          0  \n",
       "1         0.00                           0                          0  \n",
       "2        75.00                           0                          0  \n",
       "3        75.00                           0                          0  \n",
       "4        98.00                           0                          1  \n",
       "...        ...                         ...                        ...  \n",
       "119385   96.14                           0                          0  \n",
       "119386  225.43                           0                          2  \n",
       "119387  157.71                           0                          4  \n",
       "119388  104.40                           0                          0  \n",
       "119389  151.20                           0                          2  \n",
       "\n",
       "[85253 rows x 24 columns]"
      ]
     },
     "execution_count": 20,
     "metadata": {},
     "output_type": "execute_result"
    }
   ],
   "source": [
    "df"
   ]
  },
  {
   "cell_type": "markdown",
   "id": "9b4c8205",
   "metadata": {},
   "source": [
    "Melakukan encoding pada data categorical "
   ]
  },
  {
   "cell_type": "code",
   "execution_count": 11,
   "id": "45f6cc57",
   "metadata": {},
   "outputs": [],
   "source": [
    "list_cate = [col for col in df.columns if df[col].dtype == 'object']\n",
    "\n",
    "le = LabelEncoder()\n",
    "\n",
    "for col in list_cate:\n",
    "    df[col] = le.fit_transform(df[col])"
   ]
  },
  {
   "cell_type": "markdown",
   "id": "c044e553",
   "metadata": {},
   "source": [
    "Hasil baris yang tersisa"
   ]
  },
  {
   "cell_type": "code",
   "execution_count": 22,
   "id": "9a8dd4ea",
   "metadata": {},
   "outputs": [
    {
     "data": {
      "text/plain": [
       "85253"
      ]
     },
     "execution_count": 22,
     "metadata": {},
     "output_type": "execute_result"
    }
   ],
   "source": [
    "df.value_counts().sum()"
   ]
  },
  {
   "cell_type": "markdown",
   "id": "92997ab6",
   "metadata": {},
   "source": [
    "# **5. Data Splitting**"
   ]
  },
  {
   "cell_type": "markdown",
   "id": "6e2a8d8b",
   "metadata": {},
   "source": [
    "split dataset fitur dan label"
   ]
  },
  {
   "cell_type": "code",
   "execution_count": 12,
   "id": "a15168c3",
   "metadata": {},
   "outputs": [],
   "source": [
    "X = df.drop(['is_canceled'], axis=1)\n",
    "y = df['is_canceled']"
   ]
  },
  {
   "cell_type": "markdown",
   "id": "d854e5f4",
   "metadata": {},
   "source": [
    "Split X dan y menjadi train dan test"
   ]
  },
  {
   "cell_type": "code",
   "execution_count": 13,
   "id": "36c528e9",
   "metadata": {},
   "outputs": [],
   "source": [
    "X_train, X_test, y_train, y_test = train_test_split(X,y, test_size = 0.2, random_state=42)"
   ]
  },
  {
   "cell_type": "markdown",
   "id": "745195db",
   "metadata": {},
   "source": [
    "Melihat banyak baris X_test"
   ]
  },
  {
   "cell_type": "code",
   "execution_count": 14,
   "id": "96e28eb8",
   "metadata": {},
   "outputs": [
    {
     "data": {
      "text/plain": [
       "17051"
      ]
     },
     "execution_count": 14,
     "metadata": {},
     "output_type": "execute_result"
    }
   ],
   "source": [
    "X_test.value_counts().sum()"
   ]
  },
  {
   "cell_type": "markdown",
   "id": "b72b23cf",
   "metadata": {},
   "source": [
    "Melihat baris label pada is_canceled"
   ]
  },
  {
   "cell_type": "code",
   "execution_count": 15,
   "id": "077cac40",
   "metadata": {},
   "outputs": [
    {
     "data": {
      "application/vnd.microsoft.datawrangler.viewer.v0+json": {
       "columns": [
        {
         "name": "is_canceled",
         "rawType": "int64",
         "type": "integer"
        },
        {
         "name": "count",
         "rawType": "int64",
         "type": "integer"
        }
       ],
       "ref": "f39bae4d-7c59-4618-8360-cfa0f20d731b",
       "rows": [
        [
         "0",
         "61551"
        ],
        [
         "1",
         "23702"
        ]
       ],
       "shape": {
        "columns": 1,
        "rows": 2
       }
      },
      "text/plain": [
       "is_canceled\n",
       "0    61551\n",
       "1    23702\n",
       "Name: count, dtype: int64"
      ]
     },
     "execution_count": 15,
     "metadata": {},
     "output_type": "execute_result"
    }
   ],
   "source": [
    "df['is_canceled'].value_counts()"
   ]
  },
  {
   "cell_type": "markdown",
   "id": "cac67128",
   "metadata": {},
   "source": [
    "# **6. Model**"
   ]
  },
  {
   "cell_type": "markdown",
   "id": "9efa8a20",
   "metadata": {},
   "source": [
    "Train model Random Forest"
   ]
  },
  {
   "cell_type": "code",
   "execution_count": 27,
   "id": "bba6d483",
   "metadata": {},
   "outputs": [
    {
     "data": {
      "text/html": [
       "<style>#sk-container-id-1 {\n",
       "  /* Definition of color scheme common for light and dark mode */\n",
       "  --sklearn-color-text: black;\n",
       "  --sklearn-color-line: gray;\n",
       "  /* Definition of color scheme for unfitted estimators */\n",
       "  --sklearn-color-unfitted-level-0: #fff5e6;\n",
       "  --sklearn-color-unfitted-level-1: #f6e4d2;\n",
       "  --sklearn-color-unfitted-level-2: #ffe0b3;\n",
       "  --sklearn-color-unfitted-level-3: chocolate;\n",
       "  /* Definition of color scheme for fitted estimators */\n",
       "  --sklearn-color-fitted-level-0: #f0f8ff;\n",
       "  --sklearn-color-fitted-level-1: #d4ebff;\n",
       "  --sklearn-color-fitted-level-2: #b3dbfd;\n",
       "  --sklearn-color-fitted-level-3: cornflowerblue;\n",
       "\n",
       "  /* Specific color for light theme */\n",
       "  --sklearn-color-text-on-default-background: var(--sg-text-color, var(--theme-code-foreground, var(--jp-content-font-color1, black)));\n",
       "  --sklearn-color-background: var(--sg-background-color, var(--theme-background, var(--jp-layout-color0, white)));\n",
       "  --sklearn-color-border-box: var(--sg-text-color, var(--theme-code-foreground, var(--jp-content-font-color1, black)));\n",
       "  --sklearn-color-icon: #696969;\n",
       "\n",
       "  @media (prefers-color-scheme: dark) {\n",
       "    /* Redefinition of color scheme for dark theme */\n",
       "    --sklearn-color-text-on-default-background: var(--sg-text-color, var(--theme-code-foreground, var(--jp-content-font-color1, white)));\n",
       "    --sklearn-color-background: var(--sg-background-color, var(--theme-background, var(--jp-layout-color0, #111)));\n",
       "    --sklearn-color-border-box: var(--sg-text-color, var(--theme-code-foreground, var(--jp-content-font-color1, white)));\n",
       "    --sklearn-color-icon: #878787;\n",
       "  }\n",
       "}\n",
       "\n",
       "#sk-container-id-1 {\n",
       "  color: var(--sklearn-color-text);\n",
       "}\n",
       "\n",
       "#sk-container-id-1 pre {\n",
       "  padding: 0;\n",
       "}\n",
       "\n",
       "#sk-container-id-1 input.sk-hidden--visually {\n",
       "  border: 0;\n",
       "  clip: rect(1px 1px 1px 1px);\n",
       "  clip: rect(1px, 1px, 1px, 1px);\n",
       "  height: 1px;\n",
       "  margin: -1px;\n",
       "  overflow: hidden;\n",
       "  padding: 0;\n",
       "  position: absolute;\n",
       "  width: 1px;\n",
       "}\n",
       "\n",
       "#sk-container-id-1 div.sk-dashed-wrapped {\n",
       "  border: 1px dashed var(--sklearn-color-line);\n",
       "  margin: 0 0.4em 0.5em 0.4em;\n",
       "  box-sizing: border-box;\n",
       "  padding-bottom: 0.4em;\n",
       "  background-color: var(--sklearn-color-background);\n",
       "}\n",
       "\n",
       "#sk-container-id-1 div.sk-container {\n",
       "  /* jupyter's `normalize.less` sets `[hidden] { display: none; }`\n",
       "     but bootstrap.min.css set `[hidden] { display: none !important; }`\n",
       "     so we also need the `!important` here to be able to override the\n",
       "     default hidden behavior on the sphinx rendered scikit-learn.org.\n",
       "     See: https://github.com/scikit-learn/scikit-learn/issues/21755 */\n",
       "  display: inline-block !important;\n",
       "  position: relative;\n",
       "}\n",
       "\n",
       "#sk-container-id-1 div.sk-text-repr-fallback {\n",
       "  display: none;\n",
       "}\n",
       "\n",
       "div.sk-parallel-item,\n",
       "div.sk-serial,\n",
       "div.sk-item {\n",
       "  /* draw centered vertical line to link estimators */\n",
       "  background-image: linear-gradient(var(--sklearn-color-text-on-default-background), var(--sklearn-color-text-on-default-background));\n",
       "  background-size: 2px 100%;\n",
       "  background-repeat: no-repeat;\n",
       "  background-position: center center;\n",
       "}\n",
       "\n",
       "/* Parallel-specific style estimator block */\n",
       "\n",
       "#sk-container-id-1 div.sk-parallel-item::after {\n",
       "  content: \"\";\n",
       "  width: 100%;\n",
       "  border-bottom: 2px solid var(--sklearn-color-text-on-default-background);\n",
       "  flex-grow: 1;\n",
       "}\n",
       "\n",
       "#sk-container-id-1 div.sk-parallel {\n",
       "  display: flex;\n",
       "  align-items: stretch;\n",
       "  justify-content: center;\n",
       "  background-color: var(--sklearn-color-background);\n",
       "  position: relative;\n",
       "}\n",
       "\n",
       "#sk-container-id-1 div.sk-parallel-item {\n",
       "  display: flex;\n",
       "  flex-direction: column;\n",
       "}\n",
       "\n",
       "#sk-container-id-1 div.sk-parallel-item:first-child::after {\n",
       "  align-self: flex-end;\n",
       "  width: 50%;\n",
       "}\n",
       "\n",
       "#sk-container-id-1 div.sk-parallel-item:last-child::after {\n",
       "  align-self: flex-start;\n",
       "  width: 50%;\n",
       "}\n",
       "\n",
       "#sk-container-id-1 div.sk-parallel-item:only-child::after {\n",
       "  width: 0;\n",
       "}\n",
       "\n",
       "/* Serial-specific style estimator block */\n",
       "\n",
       "#sk-container-id-1 div.sk-serial {\n",
       "  display: flex;\n",
       "  flex-direction: column;\n",
       "  align-items: center;\n",
       "  background-color: var(--sklearn-color-background);\n",
       "  padding-right: 1em;\n",
       "  padding-left: 1em;\n",
       "}\n",
       "\n",
       "\n",
       "/* Toggleable style: style used for estimator/Pipeline/ColumnTransformer box that is\n",
       "clickable and can be expanded/collapsed.\n",
       "- Pipeline and ColumnTransformer use this feature and define the default style\n",
       "- Estimators will overwrite some part of the style using the `sk-estimator` class\n",
       "*/\n",
       "\n",
       "/* Pipeline and ColumnTransformer style (default) */\n",
       "\n",
       "#sk-container-id-1 div.sk-toggleable {\n",
       "  /* Default theme specific background. It is overwritten whether we have a\n",
       "  specific estimator or a Pipeline/ColumnTransformer */\n",
       "  background-color: var(--sklearn-color-background);\n",
       "}\n",
       "\n",
       "/* Toggleable label */\n",
       "#sk-container-id-1 label.sk-toggleable__label {\n",
       "  cursor: pointer;\n",
       "  display: block;\n",
       "  width: 100%;\n",
       "  margin-bottom: 0;\n",
       "  padding: 0.5em;\n",
       "  box-sizing: border-box;\n",
       "  text-align: center;\n",
       "}\n",
       "\n",
       "#sk-container-id-1 label.sk-toggleable__label-arrow:before {\n",
       "  /* Arrow on the left of the label */\n",
       "  content: \"▸\";\n",
       "  float: left;\n",
       "  margin-right: 0.25em;\n",
       "  color: var(--sklearn-color-icon);\n",
       "}\n",
       "\n",
       "#sk-container-id-1 label.sk-toggleable__label-arrow:hover:before {\n",
       "  color: var(--sklearn-color-text);\n",
       "}\n",
       "\n",
       "/* Toggleable content - dropdown */\n",
       "\n",
       "#sk-container-id-1 div.sk-toggleable__content {\n",
       "  max-height: 0;\n",
       "  max-width: 0;\n",
       "  overflow: hidden;\n",
       "  text-align: left;\n",
       "  /* unfitted */\n",
       "  background-color: var(--sklearn-color-unfitted-level-0);\n",
       "}\n",
       "\n",
       "#sk-container-id-1 div.sk-toggleable__content.fitted {\n",
       "  /* fitted */\n",
       "  background-color: var(--sklearn-color-fitted-level-0);\n",
       "}\n",
       "\n",
       "#sk-container-id-1 div.sk-toggleable__content pre {\n",
       "  margin: 0.2em;\n",
       "  border-radius: 0.25em;\n",
       "  color: var(--sklearn-color-text);\n",
       "  /* unfitted */\n",
       "  background-color: var(--sklearn-color-unfitted-level-0);\n",
       "}\n",
       "\n",
       "#sk-container-id-1 div.sk-toggleable__content.fitted pre {\n",
       "  /* unfitted */\n",
       "  background-color: var(--sklearn-color-fitted-level-0);\n",
       "}\n",
       "\n",
       "#sk-container-id-1 input.sk-toggleable__control:checked~div.sk-toggleable__content {\n",
       "  /* Expand drop-down */\n",
       "  max-height: 200px;\n",
       "  max-width: 100%;\n",
       "  overflow: auto;\n",
       "}\n",
       "\n",
       "#sk-container-id-1 input.sk-toggleable__control:checked~label.sk-toggleable__label-arrow:before {\n",
       "  content: \"▾\";\n",
       "}\n",
       "\n",
       "/* Pipeline/ColumnTransformer-specific style */\n",
       "\n",
       "#sk-container-id-1 div.sk-label input.sk-toggleable__control:checked~label.sk-toggleable__label {\n",
       "  color: var(--sklearn-color-text);\n",
       "  background-color: var(--sklearn-color-unfitted-level-2);\n",
       "}\n",
       "\n",
       "#sk-container-id-1 div.sk-label.fitted input.sk-toggleable__control:checked~label.sk-toggleable__label {\n",
       "  background-color: var(--sklearn-color-fitted-level-2);\n",
       "}\n",
       "\n",
       "/* Estimator-specific style */\n",
       "\n",
       "/* Colorize estimator box */\n",
       "#sk-container-id-1 div.sk-estimator input.sk-toggleable__control:checked~label.sk-toggleable__label {\n",
       "  /* unfitted */\n",
       "  background-color: var(--sklearn-color-unfitted-level-2);\n",
       "}\n",
       "\n",
       "#sk-container-id-1 div.sk-estimator.fitted input.sk-toggleable__control:checked~label.sk-toggleable__label {\n",
       "  /* fitted */\n",
       "  background-color: var(--sklearn-color-fitted-level-2);\n",
       "}\n",
       "\n",
       "#sk-container-id-1 div.sk-label label.sk-toggleable__label,\n",
       "#sk-container-id-1 div.sk-label label {\n",
       "  /* The background is the default theme color */\n",
       "  color: var(--sklearn-color-text-on-default-background);\n",
       "}\n",
       "\n",
       "/* On hover, darken the color of the background */\n",
       "#sk-container-id-1 div.sk-label:hover label.sk-toggleable__label {\n",
       "  color: var(--sklearn-color-text);\n",
       "  background-color: var(--sklearn-color-unfitted-level-2);\n",
       "}\n",
       "\n",
       "/* Label box, darken color on hover, fitted */\n",
       "#sk-container-id-1 div.sk-label.fitted:hover label.sk-toggleable__label.fitted {\n",
       "  color: var(--sklearn-color-text);\n",
       "  background-color: var(--sklearn-color-fitted-level-2);\n",
       "}\n",
       "\n",
       "/* Estimator label */\n",
       "\n",
       "#sk-container-id-1 div.sk-label label {\n",
       "  font-family: monospace;\n",
       "  font-weight: bold;\n",
       "  display: inline-block;\n",
       "  line-height: 1.2em;\n",
       "}\n",
       "\n",
       "#sk-container-id-1 div.sk-label-container {\n",
       "  text-align: center;\n",
       "}\n",
       "\n",
       "/* Estimator-specific */\n",
       "#sk-container-id-1 div.sk-estimator {\n",
       "  font-family: monospace;\n",
       "  border: 1px dotted var(--sklearn-color-border-box);\n",
       "  border-radius: 0.25em;\n",
       "  box-sizing: border-box;\n",
       "  margin-bottom: 0.5em;\n",
       "  /* unfitted */\n",
       "  background-color: var(--sklearn-color-unfitted-level-0);\n",
       "}\n",
       "\n",
       "#sk-container-id-1 div.sk-estimator.fitted {\n",
       "  /* fitted */\n",
       "  background-color: var(--sklearn-color-fitted-level-0);\n",
       "}\n",
       "\n",
       "/* on hover */\n",
       "#sk-container-id-1 div.sk-estimator:hover {\n",
       "  /* unfitted */\n",
       "  background-color: var(--sklearn-color-unfitted-level-2);\n",
       "}\n",
       "\n",
       "#sk-container-id-1 div.sk-estimator.fitted:hover {\n",
       "  /* fitted */\n",
       "  background-color: var(--sklearn-color-fitted-level-2);\n",
       "}\n",
       "\n",
       "/* Specification for estimator info (e.g. \"i\" and \"?\") */\n",
       "\n",
       "/* Common style for \"i\" and \"?\" */\n",
       "\n",
       ".sk-estimator-doc-link,\n",
       "a:link.sk-estimator-doc-link,\n",
       "a:visited.sk-estimator-doc-link {\n",
       "  float: right;\n",
       "  font-size: smaller;\n",
       "  line-height: 1em;\n",
       "  font-family: monospace;\n",
       "  background-color: var(--sklearn-color-background);\n",
       "  border-radius: 1em;\n",
       "  height: 1em;\n",
       "  width: 1em;\n",
       "  text-decoration: none !important;\n",
       "  margin-left: 1ex;\n",
       "  /* unfitted */\n",
       "  border: var(--sklearn-color-unfitted-level-1) 1pt solid;\n",
       "  color: var(--sklearn-color-unfitted-level-1);\n",
       "}\n",
       "\n",
       ".sk-estimator-doc-link.fitted,\n",
       "a:link.sk-estimator-doc-link.fitted,\n",
       "a:visited.sk-estimator-doc-link.fitted {\n",
       "  /* fitted */\n",
       "  border: var(--sklearn-color-fitted-level-1) 1pt solid;\n",
       "  color: var(--sklearn-color-fitted-level-1);\n",
       "}\n",
       "\n",
       "/* On hover */\n",
       "div.sk-estimator:hover .sk-estimator-doc-link:hover,\n",
       ".sk-estimator-doc-link:hover,\n",
       "div.sk-label-container:hover .sk-estimator-doc-link:hover,\n",
       ".sk-estimator-doc-link:hover {\n",
       "  /* unfitted */\n",
       "  background-color: var(--sklearn-color-unfitted-level-3);\n",
       "  color: var(--sklearn-color-background);\n",
       "  text-decoration: none;\n",
       "}\n",
       "\n",
       "div.sk-estimator.fitted:hover .sk-estimator-doc-link.fitted:hover,\n",
       ".sk-estimator-doc-link.fitted:hover,\n",
       "div.sk-label-container:hover .sk-estimator-doc-link.fitted:hover,\n",
       ".sk-estimator-doc-link.fitted:hover {\n",
       "  /* fitted */\n",
       "  background-color: var(--sklearn-color-fitted-level-3);\n",
       "  color: var(--sklearn-color-background);\n",
       "  text-decoration: none;\n",
       "}\n",
       "\n",
       "/* Span, style for the box shown on hovering the info icon */\n",
       ".sk-estimator-doc-link span {\n",
       "  display: none;\n",
       "  z-index: 9999;\n",
       "  position: relative;\n",
       "  font-weight: normal;\n",
       "  right: .2ex;\n",
       "  padding: .5ex;\n",
       "  margin: .5ex;\n",
       "  width: min-content;\n",
       "  min-width: 20ex;\n",
       "  max-width: 50ex;\n",
       "  color: var(--sklearn-color-text);\n",
       "  box-shadow: 2pt 2pt 4pt #999;\n",
       "  /* unfitted */\n",
       "  background: var(--sklearn-color-unfitted-level-0);\n",
       "  border: .5pt solid var(--sklearn-color-unfitted-level-3);\n",
       "}\n",
       "\n",
       ".sk-estimator-doc-link.fitted span {\n",
       "  /* fitted */\n",
       "  background: var(--sklearn-color-fitted-level-0);\n",
       "  border: var(--sklearn-color-fitted-level-3);\n",
       "}\n",
       "\n",
       ".sk-estimator-doc-link:hover span {\n",
       "  display: block;\n",
       "}\n",
       "\n",
       "/* \"?\"-specific style due to the `<a>` HTML tag */\n",
       "\n",
       "#sk-container-id-1 a.estimator_doc_link {\n",
       "  float: right;\n",
       "  font-size: 1rem;\n",
       "  line-height: 1em;\n",
       "  font-family: monospace;\n",
       "  background-color: var(--sklearn-color-background);\n",
       "  border-radius: 1rem;\n",
       "  height: 1rem;\n",
       "  width: 1rem;\n",
       "  text-decoration: none;\n",
       "  /* unfitted */\n",
       "  color: var(--sklearn-color-unfitted-level-1);\n",
       "  border: var(--sklearn-color-unfitted-level-1) 1pt solid;\n",
       "}\n",
       "\n",
       "#sk-container-id-1 a.estimator_doc_link.fitted {\n",
       "  /* fitted */\n",
       "  border: var(--sklearn-color-fitted-level-1) 1pt solid;\n",
       "  color: var(--sklearn-color-fitted-level-1);\n",
       "}\n",
       "\n",
       "/* On hover */\n",
       "#sk-container-id-1 a.estimator_doc_link:hover {\n",
       "  /* unfitted */\n",
       "  background-color: var(--sklearn-color-unfitted-level-3);\n",
       "  color: var(--sklearn-color-background);\n",
       "  text-decoration: none;\n",
       "}\n",
       "\n",
       "#sk-container-id-1 a.estimator_doc_link.fitted:hover {\n",
       "  /* fitted */\n",
       "  background-color: var(--sklearn-color-fitted-level-3);\n",
       "}\n",
       "</style><div id=\"sk-container-id-1\" class=\"sk-top-container\"><div class=\"sk-text-repr-fallback\"><pre>RandomForestClassifier(random_state=42)</pre><b>In a Jupyter environment, please rerun this cell to show the HTML representation or trust the notebook. <br />On GitHub, the HTML representation is unable to render, please try loading this page with nbviewer.org.</b></div><div class=\"sk-container\" hidden><div class=\"sk-item\"><div class=\"sk-estimator fitted sk-toggleable\"><input class=\"sk-toggleable__control sk-hidden--visually\" id=\"sk-estimator-id-1\" type=\"checkbox\" checked><label for=\"sk-estimator-id-1\" class=\"sk-toggleable__label fitted sk-toggleable__label-arrow fitted\">&nbsp;&nbsp;RandomForestClassifier<a class=\"sk-estimator-doc-link fitted\" rel=\"noreferrer\" target=\"_blank\" href=\"https://scikit-learn.org/1.5/modules/generated/sklearn.ensemble.RandomForestClassifier.html\">?<span>Documentation for RandomForestClassifier</span></a><span class=\"sk-estimator-doc-link fitted\">i<span>Fitted</span></span></label><div class=\"sk-toggleable__content fitted\"><pre>RandomForestClassifier(random_state=42)</pre></div> </div></div></div></div>"
      ],
      "text/plain": [
       "RandomForestClassifier(random_state=42)"
      ]
     },
     "execution_count": 27,
     "metadata": {},
     "output_type": "execute_result"
    }
   ],
   "source": [
    "clf = RandomForestClassifier(random_state=42)\n",
    "clf.fit(X_train, y_train)"
   ]
  },
  {
   "cell_type": "markdown",
   "id": "54c4cf01",
   "metadata": {},
   "source": [
    "Buat prediksi berdasarkan dataset train dan test"
   ]
  },
  {
   "cell_type": "code",
   "execution_count": 28,
   "id": "df6f48bf",
   "metadata": {},
   "outputs": [],
   "source": [
    "y_preds = clf.predict(X_test)\n",
    "y_train_preds = clf.predict(X_train)"
   ]
  },
  {
   "cell_type": "markdown",
   "id": "4cbd50a2",
   "metadata": {},
   "source": [
    "Akurasi prediksi model terhadap data train"
   ]
  },
  {
   "cell_type": "code",
   "execution_count": 29,
   "id": "bef6d21d",
   "metadata": {},
   "outputs": [
    {
     "name": "stdout",
     "output_type": "stream",
     "text": [
      "Accurracy: 99.54%\n",
      "Precision: 0.9953656973615491\n",
      "Recall: 0.9953667047887159\n",
      "F1: 0.9953619705098739\n"
     ]
    }
   ],
   "source": [
    "print(f\"Accurracy: {accuracy_score(y_train, y_train_preds)*100:.2f}%\")\n",
    "print(f\"Precision: {precision_score(y_train, y_train_preds, average='weighted')}\")\n",
    "print(f\"Recall: {recall_score(y_train, y_train_preds, average='weighted')}\")\n",
    "print(f\"F1: {f1_score(y_train, y_train_preds, average='weighted')}\")"
   ]
  },
  {
   "cell_type": "markdown",
   "id": "9bea3001",
   "metadata": {},
   "source": [
    "Akurasi prediksi model terhadap data test"
   ]
  },
  {
   "cell_type": "code",
   "execution_count": 30,
   "id": "e1248d32",
   "metadata": {},
   "outputs": [
    {
     "name": "stdout",
     "output_type": "stream",
     "text": [
      "Accurracy: 80.15%\n",
      "Precision: 0.7910771863811517\n",
      "Recall: 0.8014779191836255\n",
      "F1: 0.7906889364832914\n"
     ]
    }
   ],
   "source": [
    "print(f\"Accurracy: {accuracy_score(y_test, y_preds)*100:.2f}%\")\n",
    "print(f\"Precision: {precision_score(y_test, y_preds, average='weighted')}\")\n",
    "print(f\"Recall: {recall_score(y_test, y_preds, average='weighted')}\")\n",
    "print(f\"F1: {f1_score(y_test, y_preds, average='weighted')}\")"
   ]
  },
  {
   "cell_type": "markdown",
   "id": "d8031a3e",
   "metadata": {},
   "source": [
    "Classification report pada model random forest dengan akurasi 80%"
   ]
  },
  {
   "cell_type": "code",
   "execution_count": 31,
   "id": "35af05e6",
   "metadata": {},
   "outputs": [
    {
     "name": "stdout",
     "output_type": "stream",
     "text": [
      "              precision    recall  f1-score   support\n",
      "\n",
      "           0       0.83      0.91      0.87     12371\n",
      "           1       0.69      0.50      0.58      4680\n",
      "\n",
      "    accuracy                           0.80     17051\n",
      "   macro avg       0.76      0.71      0.73     17051\n",
      "weighted avg       0.79      0.80      0.79     17051\n",
      "\n"
     ]
    }
   ],
   "source": [
    "print(classification_report(y_test, y_preds))"
   ]
  },
  {
   "cell_type": "markdown",
   "id": "3285dd2c",
   "metadata": {},
   "source": [
    "Confusion matrix atau keberhasilan memprediksi label"
   ]
  },
  {
   "cell_type": "code",
   "execution_count": 32,
   "id": "c3305a05",
   "metadata": {},
   "outputs": [
    {
     "data": {
      "application/vnd.microsoft.datawrangler.viewer.v0+json": {
       "columns": [
        {
         "name": "Actual Labels",
         "rawType": "int64",
         "type": "integer"
        },
        {
         "name": "0",
         "rawType": "int64",
         "type": "integer"
        },
        {
         "name": "1",
         "rawType": "int64",
         "type": "integer"
        }
       ],
       "ref": "1c260b9c-9ce3-485e-a3ac-82435b06e60d",
       "rows": [
        [
         "0",
         "11316",
         "1055"
        ],
        [
         "1",
         "2330",
         "2350"
        ]
       ],
       "shape": {
        "columns": 2,
        "rows": 2
       }
      },
      "text/html": [
       "<div>\n",
       "<style scoped>\n",
       "    .dataframe tbody tr th:only-of-type {\n",
       "        vertical-align: middle;\n",
       "    }\n",
       "\n",
       "    .dataframe tbody tr th {\n",
       "        vertical-align: top;\n",
       "    }\n",
       "\n",
       "    .dataframe thead th {\n",
       "        text-align: right;\n",
       "    }\n",
       "</style>\n",
       "<table border=\"1\" class=\"dataframe\">\n",
       "  <thead>\n",
       "    <tr style=\"text-align: right;\">\n",
       "      <th>Predicted Labels</th>\n",
       "      <th>0</th>\n",
       "      <th>1</th>\n",
       "    </tr>\n",
       "    <tr>\n",
       "      <th>Actual Labels</th>\n",
       "      <th></th>\n",
       "      <th></th>\n",
       "    </tr>\n",
       "  </thead>\n",
       "  <tbody>\n",
       "    <tr>\n",
       "      <th>0</th>\n",
       "      <td>11316</td>\n",
       "      <td>1055</td>\n",
       "    </tr>\n",
       "    <tr>\n",
       "      <th>1</th>\n",
       "      <td>2330</td>\n",
       "      <td>2350</td>\n",
       "    </tr>\n",
       "  </tbody>\n",
       "</table>\n",
       "</div>"
      ],
      "text/plain": [
       "Predicted Labels      0     1\n",
       "Actual Labels                \n",
       "0                 11316  1055\n",
       "1                  2330  2350"
      ]
     },
     "execution_count": 32,
     "metadata": {},
     "output_type": "execute_result"
    }
   ],
   "source": [
    "confusion_matrix(y_test, y_preds)\n",
    "\n",
    "pd.crosstab(y_test,y_preds,\n",
    "            rownames = [\"Actual Labels\"],\n",
    "            colnames = [\"Predicted Labels\"])"
   ]
  },
  {
   "cell_type": "markdown",
   "id": "e0bb3ba3",
   "metadata": {},
   "source": [
    "Train model Logistic Regression"
   ]
  },
  {
   "cell_type": "code",
   "execution_count": 18,
   "id": "234ead18",
   "metadata": {},
   "outputs": [
    {
     "name": "stderr",
     "output_type": "stream",
     "text": [
      "c:\\Users\\asus\\Documents\\PYTHON_PROJECT\\env\\Lib\\site-packages\\sklearn\\linear_model\\_logistic.py:469: ConvergenceWarning: lbfgs failed to converge (status=1):\n",
      "STOP: TOTAL NO. of ITERATIONS REACHED LIMIT.\n",
      "\n",
      "Increase the number of iterations (max_iter) or scale the data as shown in:\n",
      "    https://scikit-learn.org/stable/modules/preprocessing.html\n",
      "Please also refer to the documentation for alternative solver options:\n",
      "    https://scikit-learn.org/stable/modules/linear_model.html#logistic-regression\n",
      "  n_iter_i = _check_optimize_result(\n"
     ]
    },
    {
     "data": {
      "text/html": [
       "<style>#sk-container-id-1 {\n",
       "  /* Definition of color scheme common for light and dark mode */\n",
       "  --sklearn-color-text: black;\n",
       "  --sklearn-color-line: gray;\n",
       "  /* Definition of color scheme for unfitted estimators */\n",
       "  --sklearn-color-unfitted-level-0: #fff5e6;\n",
       "  --sklearn-color-unfitted-level-1: #f6e4d2;\n",
       "  --sklearn-color-unfitted-level-2: #ffe0b3;\n",
       "  --sklearn-color-unfitted-level-3: chocolate;\n",
       "  /* Definition of color scheme for fitted estimators */\n",
       "  --sklearn-color-fitted-level-0: #f0f8ff;\n",
       "  --sklearn-color-fitted-level-1: #d4ebff;\n",
       "  --sklearn-color-fitted-level-2: #b3dbfd;\n",
       "  --sklearn-color-fitted-level-3: cornflowerblue;\n",
       "\n",
       "  /* Specific color for light theme */\n",
       "  --sklearn-color-text-on-default-background: var(--sg-text-color, var(--theme-code-foreground, var(--jp-content-font-color1, black)));\n",
       "  --sklearn-color-background: var(--sg-background-color, var(--theme-background, var(--jp-layout-color0, white)));\n",
       "  --sklearn-color-border-box: var(--sg-text-color, var(--theme-code-foreground, var(--jp-content-font-color1, black)));\n",
       "  --sklearn-color-icon: #696969;\n",
       "\n",
       "  @media (prefers-color-scheme: dark) {\n",
       "    /* Redefinition of color scheme for dark theme */\n",
       "    --sklearn-color-text-on-default-background: var(--sg-text-color, var(--theme-code-foreground, var(--jp-content-font-color1, white)));\n",
       "    --sklearn-color-background: var(--sg-background-color, var(--theme-background, var(--jp-layout-color0, #111)));\n",
       "    --sklearn-color-border-box: var(--sg-text-color, var(--theme-code-foreground, var(--jp-content-font-color1, white)));\n",
       "    --sklearn-color-icon: #878787;\n",
       "  }\n",
       "}\n",
       "\n",
       "#sk-container-id-1 {\n",
       "  color: var(--sklearn-color-text);\n",
       "}\n",
       "\n",
       "#sk-container-id-1 pre {\n",
       "  padding: 0;\n",
       "}\n",
       "\n",
       "#sk-container-id-1 input.sk-hidden--visually {\n",
       "  border: 0;\n",
       "  clip: rect(1px 1px 1px 1px);\n",
       "  clip: rect(1px, 1px, 1px, 1px);\n",
       "  height: 1px;\n",
       "  margin: -1px;\n",
       "  overflow: hidden;\n",
       "  padding: 0;\n",
       "  position: absolute;\n",
       "  width: 1px;\n",
       "}\n",
       "\n",
       "#sk-container-id-1 div.sk-dashed-wrapped {\n",
       "  border: 1px dashed var(--sklearn-color-line);\n",
       "  margin: 0 0.4em 0.5em 0.4em;\n",
       "  box-sizing: border-box;\n",
       "  padding-bottom: 0.4em;\n",
       "  background-color: var(--sklearn-color-background);\n",
       "}\n",
       "\n",
       "#sk-container-id-1 div.sk-container {\n",
       "  /* jupyter's `normalize.less` sets `[hidden] { display: none; }`\n",
       "     but bootstrap.min.css set `[hidden] { display: none !important; }`\n",
       "     so we also need the `!important` here to be able to override the\n",
       "     default hidden behavior on the sphinx rendered scikit-learn.org.\n",
       "     See: https://github.com/scikit-learn/scikit-learn/issues/21755 */\n",
       "  display: inline-block !important;\n",
       "  position: relative;\n",
       "}\n",
       "\n",
       "#sk-container-id-1 div.sk-text-repr-fallback {\n",
       "  display: none;\n",
       "}\n",
       "\n",
       "div.sk-parallel-item,\n",
       "div.sk-serial,\n",
       "div.sk-item {\n",
       "  /* draw centered vertical line to link estimators */\n",
       "  background-image: linear-gradient(var(--sklearn-color-text-on-default-background), var(--sklearn-color-text-on-default-background));\n",
       "  background-size: 2px 100%;\n",
       "  background-repeat: no-repeat;\n",
       "  background-position: center center;\n",
       "}\n",
       "\n",
       "/* Parallel-specific style estimator block */\n",
       "\n",
       "#sk-container-id-1 div.sk-parallel-item::after {\n",
       "  content: \"\";\n",
       "  width: 100%;\n",
       "  border-bottom: 2px solid var(--sklearn-color-text-on-default-background);\n",
       "  flex-grow: 1;\n",
       "}\n",
       "\n",
       "#sk-container-id-1 div.sk-parallel {\n",
       "  display: flex;\n",
       "  align-items: stretch;\n",
       "  justify-content: center;\n",
       "  background-color: var(--sklearn-color-background);\n",
       "  position: relative;\n",
       "}\n",
       "\n",
       "#sk-container-id-1 div.sk-parallel-item {\n",
       "  display: flex;\n",
       "  flex-direction: column;\n",
       "}\n",
       "\n",
       "#sk-container-id-1 div.sk-parallel-item:first-child::after {\n",
       "  align-self: flex-end;\n",
       "  width: 50%;\n",
       "}\n",
       "\n",
       "#sk-container-id-1 div.sk-parallel-item:last-child::after {\n",
       "  align-self: flex-start;\n",
       "  width: 50%;\n",
       "}\n",
       "\n",
       "#sk-container-id-1 div.sk-parallel-item:only-child::after {\n",
       "  width: 0;\n",
       "}\n",
       "\n",
       "/* Serial-specific style estimator block */\n",
       "\n",
       "#sk-container-id-1 div.sk-serial {\n",
       "  display: flex;\n",
       "  flex-direction: column;\n",
       "  align-items: center;\n",
       "  background-color: var(--sklearn-color-background);\n",
       "  padding-right: 1em;\n",
       "  padding-left: 1em;\n",
       "}\n",
       "\n",
       "\n",
       "/* Toggleable style: style used for estimator/Pipeline/ColumnTransformer box that is\n",
       "clickable and can be expanded/collapsed.\n",
       "- Pipeline and ColumnTransformer use this feature and define the default style\n",
       "- Estimators will overwrite some part of the style using the `sk-estimator` class\n",
       "*/\n",
       "\n",
       "/* Pipeline and ColumnTransformer style (default) */\n",
       "\n",
       "#sk-container-id-1 div.sk-toggleable {\n",
       "  /* Default theme specific background. It is overwritten whether we have a\n",
       "  specific estimator or a Pipeline/ColumnTransformer */\n",
       "  background-color: var(--sklearn-color-background);\n",
       "}\n",
       "\n",
       "/* Toggleable label */\n",
       "#sk-container-id-1 label.sk-toggleable__label {\n",
       "  cursor: pointer;\n",
       "  display: block;\n",
       "  width: 100%;\n",
       "  margin-bottom: 0;\n",
       "  padding: 0.5em;\n",
       "  box-sizing: border-box;\n",
       "  text-align: center;\n",
       "}\n",
       "\n",
       "#sk-container-id-1 label.sk-toggleable__label-arrow:before {\n",
       "  /* Arrow on the left of the label */\n",
       "  content: \"▸\";\n",
       "  float: left;\n",
       "  margin-right: 0.25em;\n",
       "  color: var(--sklearn-color-icon);\n",
       "}\n",
       "\n",
       "#sk-container-id-1 label.sk-toggleable__label-arrow:hover:before {\n",
       "  color: var(--sklearn-color-text);\n",
       "}\n",
       "\n",
       "/* Toggleable content - dropdown */\n",
       "\n",
       "#sk-container-id-1 div.sk-toggleable__content {\n",
       "  max-height: 0;\n",
       "  max-width: 0;\n",
       "  overflow: hidden;\n",
       "  text-align: left;\n",
       "  /* unfitted */\n",
       "  background-color: var(--sklearn-color-unfitted-level-0);\n",
       "}\n",
       "\n",
       "#sk-container-id-1 div.sk-toggleable__content.fitted {\n",
       "  /* fitted */\n",
       "  background-color: var(--sklearn-color-fitted-level-0);\n",
       "}\n",
       "\n",
       "#sk-container-id-1 div.sk-toggleable__content pre {\n",
       "  margin: 0.2em;\n",
       "  border-radius: 0.25em;\n",
       "  color: var(--sklearn-color-text);\n",
       "  /* unfitted */\n",
       "  background-color: var(--sklearn-color-unfitted-level-0);\n",
       "}\n",
       "\n",
       "#sk-container-id-1 div.sk-toggleable__content.fitted pre {\n",
       "  /* unfitted */\n",
       "  background-color: var(--sklearn-color-fitted-level-0);\n",
       "}\n",
       "\n",
       "#sk-container-id-1 input.sk-toggleable__control:checked~div.sk-toggleable__content {\n",
       "  /* Expand drop-down */\n",
       "  max-height: 200px;\n",
       "  max-width: 100%;\n",
       "  overflow: auto;\n",
       "}\n",
       "\n",
       "#sk-container-id-1 input.sk-toggleable__control:checked~label.sk-toggleable__label-arrow:before {\n",
       "  content: \"▾\";\n",
       "}\n",
       "\n",
       "/* Pipeline/ColumnTransformer-specific style */\n",
       "\n",
       "#sk-container-id-1 div.sk-label input.sk-toggleable__control:checked~label.sk-toggleable__label {\n",
       "  color: var(--sklearn-color-text);\n",
       "  background-color: var(--sklearn-color-unfitted-level-2);\n",
       "}\n",
       "\n",
       "#sk-container-id-1 div.sk-label.fitted input.sk-toggleable__control:checked~label.sk-toggleable__label {\n",
       "  background-color: var(--sklearn-color-fitted-level-2);\n",
       "}\n",
       "\n",
       "/* Estimator-specific style */\n",
       "\n",
       "/* Colorize estimator box */\n",
       "#sk-container-id-1 div.sk-estimator input.sk-toggleable__control:checked~label.sk-toggleable__label {\n",
       "  /* unfitted */\n",
       "  background-color: var(--sklearn-color-unfitted-level-2);\n",
       "}\n",
       "\n",
       "#sk-container-id-1 div.sk-estimator.fitted input.sk-toggleable__control:checked~label.sk-toggleable__label {\n",
       "  /* fitted */\n",
       "  background-color: var(--sklearn-color-fitted-level-2);\n",
       "}\n",
       "\n",
       "#sk-container-id-1 div.sk-label label.sk-toggleable__label,\n",
       "#sk-container-id-1 div.sk-label label {\n",
       "  /* The background is the default theme color */\n",
       "  color: var(--sklearn-color-text-on-default-background);\n",
       "}\n",
       "\n",
       "/* On hover, darken the color of the background */\n",
       "#sk-container-id-1 div.sk-label:hover label.sk-toggleable__label {\n",
       "  color: var(--sklearn-color-text);\n",
       "  background-color: var(--sklearn-color-unfitted-level-2);\n",
       "}\n",
       "\n",
       "/* Label box, darken color on hover, fitted */\n",
       "#sk-container-id-1 div.sk-label.fitted:hover label.sk-toggleable__label.fitted {\n",
       "  color: var(--sklearn-color-text);\n",
       "  background-color: var(--sklearn-color-fitted-level-2);\n",
       "}\n",
       "\n",
       "/* Estimator label */\n",
       "\n",
       "#sk-container-id-1 div.sk-label label {\n",
       "  font-family: monospace;\n",
       "  font-weight: bold;\n",
       "  display: inline-block;\n",
       "  line-height: 1.2em;\n",
       "}\n",
       "\n",
       "#sk-container-id-1 div.sk-label-container {\n",
       "  text-align: center;\n",
       "}\n",
       "\n",
       "/* Estimator-specific */\n",
       "#sk-container-id-1 div.sk-estimator {\n",
       "  font-family: monospace;\n",
       "  border: 1px dotted var(--sklearn-color-border-box);\n",
       "  border-radius: 0.25em;\n",
       "  box-sizing: border-box;\n",
       "  margin-bottom: 0.5em;\n",
       "  /* unfitted */\n",
       "  background-color: var(--sklearn-color-unfitted-level-0);\n",
       "}\n",
       "\n",
       "#sk-container-id-1 div.sk-estimator.fitted {\n",
       "  /* fitted */\n",
       "  background-color: var(--sklearn-color-fitted-level-0);\n",
       "}\n",
       "\n",
       "/* on hover */\n",
       "#sk-container-id-1 div.sk-estimator:hover {\n",
       "  /* unfitted */\n",
       "  background-color: var(--sklearn-color-unfitted-level-2);\n",
       "}\n",
       "\n",
       "#sk-container-id-1 div.sk-estimator.fitted:hover {\n",
       "  /* fitted */\n",
       "  background-color: var(--sklearn-color-fitted-level-2);\n",
       "}\n",
       "\n",
       "/* Specification for estimator info (e.g. \"i\" and \"?\") */\n",
       "\n",
       "/* Common style for \"i\" and \"?\" */\n",
       "\n",
       ".sk-estimator-doc-link,\n",
       "a:link.sk-estimator-doc-link,\n",
       "a:visited.sk-estimator-doc-link {\n",
       "  float: right;\n",
       "  font-size: smaller;\n",
       "  line-height: 1em;\n",
       "  font-family: monospace;\n",
       "  background-color: var(--sklearn-color-background);\n",
       "  border-radius: 1em;\n",
       "  height: 1em;\n",
       "  width: 1em;\n",
       "  text-decoration: none !important;\n",
       "  margin-left: 1ex;\n",
       "  /* unfitted */\n",
       "  border: var(--sklearn-color-unfitted-level-1) 1pt solid;\n",
       "  color: var(--sklearn-color-unfitted-level-1);\n",
       "}\n",
       "\n",
       ".sk-estimator-doc-link.fitted,\n",
       "a:link.sk-estimator-doc-link.fitted,\n",
       "a:visited.sk-estimator-doc-link.fitted {\n",
       "  /* fitted */\n",
       "  border: var(--sklearn-color-fitted-level-1) 1pt solid;\n",
       "  color: var(--sklearn-color-fitted-level-1);\n",
       "}\n",
       "\n",
       "/* On hover */\n",
       "div.sk-estimator:hover .sk-estimator-doc-link:hover,\n",
       ".sk-estimator-doc-link:hover,\n",
       "div.sk-label-container:hover .sk-estimator-doc-link:hover,\n",
       ".sk-estimator-doc-link:hover {\n",
       "  /* unfitted */\n",
       "  background-color: var(--sklearn-color-unfitted-level-3);\n",
       "  color: var(--sklearn-color-background);\n",
       "  text-decoration: none;\n",
       "}\n",
       "\n",
       "div.sk-estimator.fitted:hover .sk-estimator-doc-link.fitted:hover,\n",
       ".sk-estimator-doc-link.fitted:hover,\n",
       "div.sk-label-container:hover .sk-estimator-doc-link.fitted:hover,\n",
       ".sk-estimator-doc-link.fitted:hover {\n",
       "  /* fitted */\n",
       "  background-color: var(--sklearn-color-fitted-level-3);\n",
       "  color: var(--sklearn-color-background);\n",
       "  text-decoration: none;\n",
       "}\n",
       "\n",
       "/* Span, style for the box shown on hovering the info icon */\n",
       ".sk-estimator-doc-link span {\n",
       "  display: none;\n",
       "  z-index: 9999;\n",
       "  position: relative;\n",
       "  font-weight: normal;\n",
       "  right: .2ex;\n",
       "  padding: .5ex;\n",
       "  margin: .5ex;\n",
       "  width: min-content;\n",
       "  min-width: 20ex;\n",
       "  max-width: 50ex;\n",
       "  color: var(--sklearn-color-text);\n",
       "  box-shadow: 2pt 2pt 4pt #999;\n",
       "  /* unfitted */\n",
       "  background: var(--sklearn-color-unfitted-level-0);\n",
       "  border: .5pt solid var(--sklearn-color-unfitted-level-3);\n",
       "}\n",
       "\n",
       ".sk-estimator-doc-link.fitted span {\n",
       "  /* fitted */\n",
       "  background: var(--sklearn-color-fitted-level-0);\n",
       "  border: var(--sklearn-color-fitted-level-3);\n",
       "}\n",
       "\n",
       ".sk-estimator-doc-link:hover span {\n",
       "  display: block;\n",
       "}\n",
       "\n",
       "/* \"?\"-specific style due to the `<a>` HTML tag */\n",
       "\n",
       "#sk-container-id-1 a.estimator_doc_link {\n",
       "  float: right;\n",
       "  font-size: 1rem;\n",
       "  line-height: 1em;\n",
       "  font-family: monospace;\n",
       "  background-color: var(--sklearn-color-background);\n",
       "  border-radius: 1rem;\n",
       "  height: 1rem;\n",
       "  width: 1rem;\n",
       "  text-decoration: none;\n",
       "  /* unfitted */\n",
       "  color: var(--sklearn-color-unfitted-level-1);\n",
       "  border: var(--sklearn-color-unfitted-level-1) 1pt solid;\n",
       "}\n",
       "\n",
       "#sk-container-id-1 a.estimator_doc_link.fitted {\n",
       "  /* fitted */\n",
       "  border: var(--sklearn-color-fitted-level-1) 1pt solid;\n",
       "  color: var(--sklearn-color-fitted-level-1);\n",
       "}\n",
       "\n",
       "/* On hover */\n",
       "#sk-container-id-1 a.estimator_doc_link:hover {\n",
       "  /* unfitted */\n",
       "  background-color: var(--sklearn-color-unfitted-level-3);\n",
       "  color: var(--sklearn-color-background);\n",
       "  text-decoration: none;\n",
       "}\n",
       "\n",
       "#sk-container-id-1 a.estimator_doc_link.fitted:hover {\n",
       "  /* fitted */\n",
       "  background-color: var(--sklearn-color-fitted-level-3);\n",
       "}\n",
       "</style><div id=\"sk-container-id-1\" class=\"sk-top-container\"><div class=\"sk-text-repr-fallback\"><pre>LogisticRegression(random_state=42)</pre><b>In a Jupyter environment, please rerun this cell to show the HTML representation or trust the notebook. <br />On GitHub, the HTML representation is unable to render, please try loading this page with nbviewer.org.</b></div><div class=\"sk-container\" hidden><div class=\"sk-item\"><div class=\"sk-estimator fitted sk-toggleable\"><input class=\"sk-toggleable__control sk-hidden--visually\" id=\"sk-estimator-id-1\" type=\"checkbox\" checked><label for=\"sk-estimator-id-1\" class=\"sk-toggleable__label fitted sk-toggleable__label-arrow fitted\">&nbsp;&nbsp;LogisticRegression<a class=\"sk-estimator-doc-link fitted\" rel=\"noreferrer\" target=\"_blank\" href=\"https://scikit-learn.org/1.5/modules/generated/sklearn.linear_model.LogisticRegression.html\">?<span>Documentation for LogisticRegression</span></a><span class=\"sk-estimator-doc-link fitted\">i<span>Fitted</span></span></label><div class=\"sk-toggleable__content fitted\"><pre>LogisticRegression(random_state=42)</pre></div> </div></div></div></div>"
      ],
      "text/plain": [
       "LogisticRegression(random_state=42)"
      ]
     },
     "execution_count": 18,
     "metadata": {},
     "output_type": "execute_result"
    }
   ],
   "source": [
    "clf_lin = LogisticRegression(random_state=42)\n",
    "clf_lin.fit(X_train, y_train)"
   ]
  },
  {
   "cell_type": "markdown",
   "id": "7c0d3353",
   "metadata": {},
   "source": [
    "Buat prediksi berdasarkan data train dan test"
   ]
  },
  {
   "cell_type": "code",
   "execution_count": 19,
   "id": "a9bffb16",
   "metadata": {},
   "outputs": [],
   "source": [
    "lin_y_preds = clf_lin.predict(X_test)\n",
    "lin_y_train_preds = clf_lin.predict(X_train)"
   ]
  },
  {
   "cell_type": "markdown",
   "id": "be09c1a8",
   "metadata": {},
   "source": [
    "Akurasi prediksi terhadap data train"
   ]
  },
  {
   "cell_type": "code",
   "execution_count": 20,
   "id": "552b2752",
   "metadata": {},
   "outputs": [
    {
     "name": "stdout",
     "output_type": "stream",
     "text": [
      "Accurracy: 74.39%\n",
      "Precision: 0.7169965684356988\n",
      "Recall: 0.7438638163103721\n",
      "F1: 0.704311505193437\n"
     ]
    }
   ],
   "source": [
    "print(f\"Accurracy: {accuracy_score(y_train, lin_y_train_preds)*100:.2f}%\")\n",
    "print(f\"Precision: {precision_score(y_train, lin_y_train_preds, average='weighted')}\")\n",
    "print(f\"Recall: {recall_score(y_train, lin_y_train_preds, average='weighted')}\")\n",
    "print(f\"F1: {f1_score(y_train, lin_y_train_preds, average='weighted')}\")"
   ]
  },
  {
   "cell_type": "markdown",
   "id": "2a6228e6",
   "metadata": {},
   "source": [
    "Akurasi prediksi terhadap data test\n"
   ]
  },
  {
   "cell_type": "code",
   "execution_count": 21,
   "id": "dae8d184",
   "metadata": {},
   "outputs": [
    {
     "name": "stdout",
     "output_type": "stream",
     "text": [
      "Accurracy: 74.39%\n",
      "Precision: 0.714232835551576\n",
      "Recall: 0.7438859890915489\n",
      "F1: 0.7019376252249879\n"
     ]
    }
   ],
   "source": [
    "print(f\"Accurracy: {accuracy_score(y_test, lin_y_preds)*100:.2f}%\")\n",
    "print(f\"Precision: {precision_score(y_test, lin_y_preds, average='weighted')}\")\n",
    "print(f\"Recall: {recall_score(y_test, lin_y_preds, average='weighted')}\")\n",
    "print(f\"F1: {f1_score(y_test, lin_y_preds, average='weighted')}\")"
   ]
  },
  {
   "cell_type": "markdown",
   "id": "c75354b3",
   "metadata": {},
   "source": [
    "Classification report untuk logistic regression dengan akurasi 74%"
   ]
  },
  {
   "cell_type": "code",
   "execution_count": 22,
   "id": "543a6485",
   "metadata": {},
   "outputs": [
    {
     "name": "stdout",
     "output_type": "stream",
     "text": [
      "              precision    recall  f1-score   support\n",
      "\n",
      "           0       0.76      0.94      0.84     12371\n",
      "           1       0.58      0.23      0.33      4680\n",
      "\n",
      "    accuracy                           0.74     17051\n",
      "   macro avg       0.67      0.59      0.59     17051\n",
      "weighted avg       0.71      0.74      0.70     17051\n",
      "\n"
     ]
    }
   ],
   "source": [
    "print(classification_report(y_test, lin_y_preds))"
   ]
  },
  {
   "cell_type": "markdown",
   "id": "39426da8",
   "metadata": {},
   "source": [
    "# **7. Tuning Model**"
   ]
  },
  {
   "cell_type": "markdown",
   "id": "05ee0683",
   "metadata": {},
   "source": [
    "Random Forest Tuning dengan Random Search"
   ]
  },
  {
   "cell_type": "code",
   "execution_count": 16,
   "id": "6657a74c",
   "metadata": {},
   "outputs": [],
   "source": [
    "param_distributions = {\"n_estimators\": [10, 100, 200, 500, 1000, 1200],\n",
    "                       \"max_depth\": [None, 5, 10, 20, 30],\n",
    "                       \"max_features\": [\"sqrt\", \"log2\", None],\n",
    "                       \"min_samples_split\": [2, 4, 6, 8],\n",
    "                       \"min_samples_leaf\": [1, 2, 4, 8]}"
   ]
  },
  {
   "cell_type": "markdown",
   "id": "38e8ca29",
   "metadata": {},
   "source": [
    "Melakukan proses tuning"
   ]
  },
  {
   "cell_type": "code",
   "execution_count": 50,
   "id": "fd3c72b7",
   "metadata": {},
   "outputs": [
    {
     "name": "stdout",
     "output_type": "stream",
     "text": [
      "Fitting 5 folds for each of 30 candidates, totalling 150 fits\n",
      "[CV] END max_depth=None, max_features=log2, min_samples_leaf=8, min_samples_split=2, n_estimators=10; total time=   0.5s\n",
      "[CV] END max_depth=None, max_features=log2, min_samples_leaf=8, min_samples_split=2, n_estimators=10; total time=   0.4s\n",
      "[CV] END max_depth=None, max_features=log2, min_samples_leaf=8, min_samples_split=2, n_estimators=10; total time=   0.5s\n",
      "[CV] END max_depth=None, max_features=log2, min_samples_leaf=8, min_samples_split=2, n_estimators=10; total time=   0.9s\n",
      "[CV] END max_depth=None, max_features=log2, min_samples_leaf=8, min_samples_split=2, n_estimators=10; total time=   0.4s\n",
      "[CV] END max_depth=10, max_features=sqrt, min_samples_leaf=2, min_samples_split=2, n_estimators=1200; total time=  30.5s\n",
      "[CV] END max_depth=10, max_features=sqrt, min_samples_leaf=2, min_samples_split=2, n_estimators=1200; total time=  26.9s\n",
      "[CV] END max_depth=10, max_features=sqrt, min_samples_leaf=2, min_samples_split=2, n_estimators=1200; total time=  27.0s\n",
      "[CV] END max_depth=10, max_features=sqrt, min_samples_leaf=2, min_samples_split=2, n_estimators=1200; total time=  27.8s\n",
      "[CV] END max_depth=10, max_features=sqrt, min_samples_leaf=2, min_samples_split=2, n_estimators=1200; total time=  26.4s\n",
      "[CV] END max_depth=5, max_features=None, min_samples_leaf=4, min_samples_split=8, n_estimators=200; total time=   9.4s\n",
      "[CV] END max_depth=5, max_features=None, min_samples_leaf=4, min_samples_split=8, n_estimators=200; total time=   9.5s\n",
      "[CV] END max_depth=5, max_features=None, min_samples_leaf=4, min_samples_split=8, n_estimators=200; total time=   9.5s\n",
      "[CV] END max_depth=5, max_features=None, min_samples_leaf=4, min_samples_split=8, n_estimators=200; total time=   9.5s\n",
      "[CV] END max_depth=5, max_features=None, min_samples_leaf=4, min_samples_split=8, n_estimators=200; total time=   9.4s\n",
      "[CV] END max_depth=None, max_features=sqrt, min_samples_leaf=4, min_samples_split=6, n_estimators=1200; total time=  46.2s\n",
      "[CV] END max_depth=None, max_features=sqrt, min_samples_leaf=4, min_samples_split=6, n_estimators=1200; total time=  46.8s\n",
      "[CV] END max_depth=None, max_features=sqrt, min_samples_leaf=4, min_samples_split=6, n_estimators=1200; total time=  45.1s\n",
      "[CV] END max_depth=None, max_features=sqrt, min_samples_leaf=4, min_samples_split=6, n_estimators=1200; total time=  45.1s\n",
      "[CV] END max_depth=None, max_features=sqrt, min_samples_leaf=4, min_samples_split=6, n_estimators=1200; total time=  44.9s\n",
      "[CV] END max_depth=10, max_features=sqrt, min_samples_leaf=4, min_samples_split=2, n_estimators=1000; total time=  22.2s\n",
      "[CV] END max_depth=10, max_features=sqrt, min_samples_leaf=4, min_samples_split=2, n_estimators=1000; total time=  22.1s\n",
      "[CV] END max_depth=10, max_features=sqrt, min_samples_leaf=4, min_samples_split=2, n_estimators=1000; total time=  22.5s\n",
      "[CV] END max_depth=10, max_features=sqrt, min_samples_leaf=4, min_samples_split=2, n_estimators=1000; total time=  23.0s\n",
      "[CV] END max_depth=10, max_features=sqrt, min_samples_leaf=4, min_samples_split=2, n_estimators=1000; total time=  23.1s\n",
      "[CV] END max_depth=20, max_features=log2, min_samples_leaf=1, min_samples_split=2, n_estimators=1000; total time=  37.2s\n",
      "[CV] END max_depth=20, max_features=log2, min_samples_leaf=1, min_samples_split=2, n_estimators=1000; total time=  37.0s\n",
      "[CV] END max_depth=20, max_features=log2, min_samples_leaf=1, min_samples_split=2, n_estimators=1000; total time=  38.2s\n",
      "[CV] END max_depth=20, max_features=log2, min_samples_leaf=1, min_samples_split=2, n_estimators=1000; total time=  37.4s\n",
      "[CV] END max_depth=20, max_features=log2, min_samples_leaf=1, min_samples_split=2, n_estimators=1000; total time=  37.4s\n",
      "[CV] END max_depth=30, max_features=None, min_samples_leaf=2, min_samples_split=8, n_estimators=1000; total time= 2.4min\n",
      "[CV] END max_depth=30, max_features=None, min_samples_leaf=2, min_samples_split=8, n_estimators=1000; total time= 2.5min\n",
      "[CV] END max_depth=30, max_features=None, min_samples_leaf=2, min_samples_split=8, n_estimators=1000; total time= 2.4min\n",
      "[CV] END max_depth=30, max_features=None, min_samples_leaf=2, min_samples_split=8, n_estimators=1000; total time= 2.4min\n",
      "[CV] END max_depth=30, max_features=None, min_samples_leaf=2, min_samples_split=8, n_estimators=1000; total time= 2.7min\n",
      "[CV] END max_depth=30, max_features=None, min_samples_leaf=8, min_samples_split=4, n_estimators=10; total time=   1.5s\n",
      "[CV] END max_depth=30, max_features=None, min_samples_leaf=8, min_samples_split=4, n_estimators=10; total time=   1.9s\n",
      "[CV] END max_depth=30, max_features=None, min_samples_leaf=8, min_samples_split=4, n_estimators=10; total time=   1.8s\n",
      "[CV] END max_depth=30, max_features=None, min_samples_leaf=8, min_samples_split=4, n_estimators=10; total time=   1.9s\n",
      "[CV] END max_depth=30, max_features=None, min_samples_leaf=8, min_samples_split=4, n_estimators=10; total time=   1.6s\n",
      "[CV] END max_depth=30, max_features=sqrt, min_samples_leaf=2, min_samples_split=8, n_estimators=1200; total time=  44.0s\n",
      "[CV] END max_depth=30, max_features=sqrt, min_samples_leaf=2, min_samples_split=8, n_estimators=1200; total time=  44.7s\n",
      "[CV] END max_depth=30, max_features=sqrt, min_samples_leaf=2, min_samples_split=8, n_estimators=1200; total time=  44.2s\n",
      "[CV] END max_depth=30, max_features=sqrt, min_samples_leaf=2, min_samples_split=8, n_estimators=1200; total time=  43.9s\n",
      "[CV] END max_depth=30, max_features=sqrt, min_samples_leaf=2, min_samples_split=8, n_estimators=1200; total time=  44.4s\n",
      "[CV] END max_depth=None, max_features=None, min_samples_leaf=4, min_samples_split=2, n_estimators=1000; total time= 2.2min\n",
      "[CV] END max_depth=None, max_features=None, min_samples_leaf=4, min_samples_split=2, n_estimators=1000; total time= 2.2min\n",
      "[CV] END max_depth=None, max_features=None, min_samples_leaf=4, min_samples_split=2, n_estimators=1000; total time= 2.2min\n",
      "[CV] END max_depth=None, max_features=None, min_samples_leaf=4, min_samples_split=2, n_estimators=1000; total time= 2.2min\n",
      "[CV] END max_depth=None, max_features=None, min_samples_leaf=4, min_samples_split=2, n_estimators=1000; total time= 2.2min\n",
      "[CV] END max_depth=10, max_features=sqrt, min_samples_leaf=1, min_samples_split=6, n_estimators=100; total time=   2.0s\n",
      "[CV] END max_depth=10, max_features=sqrt, min_samples_leaf=1, min_samples_split=6, n_estimators=100; total time=   2.2s\n",
      "[CV] END max_depth=10, max_features=sqrt, min_samples_leaf=1, min_samples_split=6, n_estimators=100; total time=   2.6s\n",
      "[CV] END max_depth=10, max_features=sqrt, min_samples_leaf=1, min_samples_split=6, n_estimators=100; total time=   2.0s\n",
      "[CV] END max_depth=10, max_features=sqrt, min_samples_leaf=1, min_samples_split=6, n_estimators=100; total time=   2.3s\n",
      "[CV] END max_depth=None, max_features=log2, min_samples_leaf=1, min_samples_split=8, n_estimators=100; total time=   3.8s\n",
      "[CV] END max_depth=None, max_features=log2, min_samples_leaf=1, min_samples_split=8, n_estimators=100; total time=   4.4s\n",
      "[CV] END max_depth=None, max_features=log2, min_samples_leaf=1, min_samples_split=8, n_estimators=100; total time=   3.6s\n",
      "[CV] END max_depth=None, max_features=log2, min_samples_leaf=1, min_samples_split=8, n_estimators=100; total time=   3.9s\n",
      "[CV] END max_depth=None, max_features=log2, min_samples_leaf=1, min_samples_split=8, n_estimators=100; total time=   4.1s\n",
      "[CV] END max_depth=30, max_features=sqrt, min_samples_leaf=4, min_samples_split=8, n_estimators=1200; total time=  43.5s\n",
      "[CV] END max_depth=30, max_features=sqrt, min_samples_leaf=4, min_samples_split=8, n_estimators=1200; total time=  42.3s\n",
      "[CV] END max_depth=30, max_features=sqrt, min_samples_leaf=4, min_samples_split=8, n_estimators=1200; total time=  42.7s\n",
      "[CV] END max_depth=30, max_features=sqrt, min_samples_leaf=4, min_samples_split=8, n_estimators=1200; total time=  42.1s\n",
      "[CV] END max_depth=30, max_features=sqrt, min_samples_leaf=4, min_samples_split=8, n_estimators=1200; total time=  41.6s\n",
      "[CV] END max_depth=20, max_features=sqrt, min_samples_leaf=8, min_samples_split=2, n_estimators=1000; total time=  30.4s\n",
      "[CV] END max_depth=20, max_features=sqrt, min_samples_leaf=8, min_samples_split=2, n_estimators=1000; total time=  31.2s\n",
      "[CV] END max_depth=20, max_features=sqrt, min_samples_leaf=8, min_samples_split=2, n_estimators=1000; total time=  31.5s\n",
      "[CV] END max_depth=20, max_features=sqrt, min_samples_leaf=8, min_samples_split=2, n_estimators=1000; total time=  30.8s\n",
      "[CV] END max_depth=20, max_features=sqrt, min_samples_leaf=8, min_samples_split=2, n_estimators=1000; total time=  31.6s\n",
      "[CV] END max_depth=None, max_features=log2, min_samples_leaf=2, min_samples_split=8, n_estimators=500; total time=  19.3s\n",
      "[CV] END max_depth=None, max_features=log2, min_samples_leaf=2, min_samples_split=8, n_estimators=500; total time=  18.8s\n",
      "[CV] END max_depth=None, max_features=log2, min_samples_leaf=2, min_samples_split=8, n_estimators=500; total time=  18.8s\n",
      "[CV] END max_depth=None, max_features=log2, min_samples_leaf=2, min_samples_split=8, n_estimators=500; total time=  18.2s\n",
      "[CV] END max_depth=None, max_features=log2, min_samples_leaf=2, min_samples_split=8, n_estimators=500; total time=  18.5s\n",
      "[CV] END max_depth=30, max_features=log2, min_samples_leaf=4, min_samples_split=4, n_estimators=500; total time=  17.7s\n",
      "[CV] END max_depth=30, max_features=log2, min_samples_leaf=4, min_samples_split=4, n_estimators=500; total time=  17.6s\n",
      "[CV] END max_depth=30, max_features=log2, min_samples_leaf=4, min_samples_split=4, n_estimators=500; total time=  17.6s\n",
      "[CV] END max_depth=30, max_features=log2, min_samples_leaf=4, min_samples_split=4, n_estimators=500; total time=  16.9s\n",
      "[CV] END max_depth=30, max_features=log2, min_samples_leaf=4, min_samples_split=4, n_estimators=500; total time=  17.7s\n",
      "[CV] END max_depth=10, max_features=log2, min_samples_leaf=1, min_samples_split=8, n_estimators=1200; total time=  25.3s\n",
      "[CV] END max_depth=10, max_features=log2, min_samples_leaf=1, min_samples_split=8, n_estimators=1200; total time=  24.6s\n",
      "[CV] END max_depth=10, max_features=log2, min_samples_leaf=1, min_samples_split=8, n_estimators=1200; total time=  24.7s\n",
      "[CV] END max_depth=10, max_features=log2, min_samples_leaf=1, min_samples_split=8, n_estimators=1200; total time=  24.7s\n",
      "[CV] END max_depth=10, max_features=log2, min_samples_leaf=1, min_samples_split=8, n_estimators=1200; total time=  24.7s\n",
      "[CV] END max_depth=10, max_features=log2, min_samples_leaf=8, min_samples_split=6, n_estimators=10; total time=   0.2s\n",
      "[CV] END max_depth=10, max_features=log2, min_samples_leaf=8, min_samples_split=6, n_estimators=10; total time=   0.2s\n",
      "[CV] END max_depth=10, max_features=log2, min_samples_leaf=8, min_samples_split=6, n_estimators=10; total time=   0.2s\n",
      "[CV] END max_depth=10, max_features=log2, min_samples_leaf=8, min_samples_split=6, n_estimators=10; total time=   0.2s\n",
      "[CV] END max_depth=10, max_features=log2, min_samples_leaf=8, min_samples_split=6, n_estimators=10; total time=   0.2s\n",
      "[CV] END max_depth=5, max_features=sqrt, min_samples_leaf=1, min_samples_split=8, n_estimators=10; total time=   0.1s\n",
      "[CV] END max_depth=5, max_features=sqrt, min_samples_leaf=1, min_samples_split=8, n_estimators=10; total time=   0.1s\n",
      "[CV] END max_depth=5, max_features=sqrt, min_samples_leaf=1, min_samples_split=8, n_estimators=10; total time=   0.1s\n",
      "[CV] END max_depth=5, max_features=sqrt, min_samples_leaf=1, min_samples_split=8, n_estimators=10; total time=   0.1s\n",
      "[CV] END max_depth=5, max_features=sqrt, min_samples_leaf=1, min_samples_split=8, n_estimators=10; total time=   0.1s\n",
      "[CV] END max_depth=5, max_features=sqrt, min_samples_leaf=4, min_samples_split=6, n_estimators=200; total time=   2.9s\n",
      "[CV] END max_depth=5, max_features=sqrt, min_samples_leaf=4, min_samples_split=6, n_estimators=200; total time=   2.5s\n",
      "[CV] END max_depth=5, max_features=sqrt, min_samples_leaf=4, min_samples_split=6, n_estimators=200; total time=   3.0s\n",
      "[CV] END max_depth=5, max_features=sqrt, min_samples_leaf=4, min_samples_split=6, n_estimators=200; total time=   2.6s\n",
      "[CV] END max_depth=5, max_features=sqrt, min_samples_leaf=4, min_samples_split=6, n_estimators=200; total time=   2.8s\n",
      "[CV] END max_depth=30, max_features=sqrt, min_samples_leaf=2, min_samples_split=6, n_estimators=1000; total time=  37.9s\n",
      "[CV] END max_depth=30, max_features=sqrt, min_samples_leaf=2, min_samples_split=6, n_estimators=1000; total time=  37.1s\n",
      "[CV] END max_depth=30, max_features=sqrt, min_samples_leaf=2, min_samples_split=6, n_estimators=1000; total time=  37.7s\n",
      "[CV] END max_depth=30, max_features=sqrt, min_samples_leaf=2, min_samples_split=6, n_estimators=1000; total time=  37.0s\n",
      "[CV] END max_depth=30, max_features=sqrt, min_samples_leaf=2, min_samples_split=6, n_estimators=1000; total time=  37.0s\n",
      "[CV] END max_depth=20, max_features=log2, min_samples_leaf=4, min_samples_split=6, n_estimators=500; total time=  15.9s\n",
      "[CV] END max_depth=20, max_features=log2, min_samples_leaf=4, min_samples_split=6, n_estimators=500; total time=  16.6s\n",
      "[CV] END max_depth=20, max_features=log2, min_samples_leaf=4, min_samples_split=6, n_estimators=500; total time=  15.5s\n",
      "[CV] END max_depth=20, max_features=log2, min_samples_leaf=4, min_samples_split=6, n_estimators=500; total time=  16.3s\n",
      "[CV] END max_depth=20, max_features=log2, min_samples_leaf=4, min_samples_split=6, n_estimators=500; total time=  16.8s\n",
      "[CV] END max_depth=20, max_features=None, min_samples_leaf=8, min_samples_split=6, n_estimators=10; total time=   1.5s\n",
      "[CV] END max_depth=20, max_features=None, min_samples_leaf=8, min_samples_split=6, n_estimators=10; total time=   1.7s\n",
      "[CV] END max_depth=20, max_features=None, min_samples_leaf=8, min_samples_split=6, n_estimators=10; total time=   1.7s\n",
      "[CV] END max_depth=20, max_features=None, min_samples_leaf=8, min_samples_split=6, n_estimators=10; total time=   1.5s\n",
      "[CV] END max_depth=20, max_features=None, min_samples_leaf=8, min_samples_split=6, n_estimators=10; total time=   1.6s\n",
      "[CV] END max_depth=10, max_features=sqrt, min_samples_leaf=2, min_samples_split=8, n_estimators=200; total time=   4.4s\n",
      "[CV] END max_depth=10, max_features=sqrt, min_samples_leaf=2, min_samples_split=8, n_estimators=200; total time=   4.0s\n",
      "[CV] END max_depth=10, max_features=sqrt, min_samples_leaf=2, min_samples_split=8, n_estimators=200; total time=   4.5s\n",
      "[CV] END max_depth=10, max_features=sqrt, min_samples_leaf=2, min_samples_split=8, n_estimators=200; total time=   4.2s\n",
      "[CV] END max_depth=10, max_features=sqrt, min_samples_leaf=2, min_samples_split=8, n_estimators=200; total time=   4.3s\n",
      "[CV] END max_depth=10, max_features=None, min_samples_leaf=4, min_samples_split=2, n_estimators=500; total time=  39.3s\n",
      "[CV] END max_depth=10, max_features=None, min_samples_leaf=4, min_samples_split=2, n_estimators=500; total time=  38.1s\n",
      "[CV] END max_depth=10, max_features=None, min_samples_leaf=4, min_samples_split=2, n_estimators=500; total time=  36.5s\n",
      "[CV] END max_depth=10, max_features=None, min_samples_leaf=4, min_samples_split=2, n_estimators=500; total time=  36.6s\n",
      "[CV] END max_depth=10, max_features=None, min_samples_leaf=4, min_samples_split=2, n_estimators=500; total time=  44.0s\n",
      "[CV] END max_depth=10, max_features=log2, min_samples_leaf=8, min_samples_split=2, n_estimators=200; total time=   3.7s\n",
      "[CV] END max_depth=10, max_features=log2, min_samples_leaf=8, min_samples_split=2, n_estimators=200; total time=   4.1s\n",
      "[CV] END max_depth=10, max_features=log2, min_samples_leaf=8, min_samples_split=2, n_estimators=200; total time=   3.9s\n",
      "[CV] END max_depth=10, max_features=log2, min_samples_leaf=8, min_samples_split=2, n_estimators=200; total time=   3.3s\n",
      "[CV] END max_depth=10, max_features=log2, min_samples_leaf=8, min_samples_split=2, n_estimators=200; total time=   4.4s\n",
      "[CV] END max_depth=10, max_features=sqrt, min_samples_leaf=8, min_samples_split=4, n_estimators=10; total time=   0.4s\n",
      "[CV] END max_depth=10, max_features=sqrt, min_samples_leaf=8, min_samples_split=4, n_estimators=10; total time=   0.6s\n",
      "[CV] END max_depth=10, max_features=sqrt, min_samples_leaf=8, min_samples_split=4, n_estimators=10; total time=   0.7s\n",
      "[CV] END max_depth=10, max_features=sqrt, min_samples_leaf=8, min_samples_split=4, n_estimators=10; total time=   0.4s\n",
      "[CV] END max_depth=10, max_features=sqrt, min_samples_leaf=8, min_samples_split=4, n_estimators=10; total time=   0.5s\n",
      "[CV] END max_depth=5, max_features=log2, min_samples_leaf=2, min_samples_split=4, n_estimators=100; total time=   2.4s\n",
      "[CV] END max_depth=5, max_features=log2, min_samples_leaf=2, min_samples_split=4, n_estimators=100; total time=   1.1s\n",
      "[CV] END max_depth=5, max_features=log2, min_samples_leaf=2, min_samples_split=4, n_estimators=100; total time=   1.3s\n",
      "[CV] END max_depth=5, max_features=log2, min_samples_leaf=2, min_samples_split=4, n_estimators=100; total time=   1.9s\n",
      "[CV] END max_depth=5, max_features=log2, min_samples_leaf=2, min_samples_split=4, n_estimators=100; total time=   1.2s\n",
      "[CV] END max_depth=None, max_features=sqrt, min_samples_leaf=4, min_samples_split=2, n_estimators=500; total time=  15.6s\n",
      "[CV] END max_depth=None, max_features=sqrt, min_samples_leaf=4, min_samples_split=2, n_estimators=500; total time=  14.0s\n",
      "[CV] END max_depth=None, max_features=sqrt, min_samples_leaf=4, min_samples_split=2, n_estimators=500; total time=  13.7s\n",
      "[CV] END max_depth=None, max_features=sqrt, min_samples_leaf=4, min_samples_split=2, n_estimators=500; total time=  13.7s\n",
      "[CV] END max_depth=None, max_features=sqrt, min_samples_leaf=4, min_samples_split=2, n_estimators=500; total time=  13.9s\n",
      "[CV] END max_depth=None, max_features=None, min_samples_leaf=8, min_samples_split=4, n_estimators=10; total time=   1.1s\n",
      "[CV] END max_depth=None, max_features=None, min_samples_leaf=8, min_samples_split=4, n_estimators=10; total time=   1.1s\n",
      "[CV] END max_depth=None, max_features=None, min_samples_leaf=8, min_samples_split=4, n_estimators=10; total time=   1.4s\n",
      "[CV] END max_depth=None, max_features=None, min_samples_leaf=8, min_samples_split=4, n_estimators=10; total time=   1.1s\n",
      "[CV] END max_depth=None, max_features=None, min_samples_leaf=8, min_samples_split=4, n_estimators=10; total time=   1.1s\n",
      "[INFO] Total time taken for 30 random combinations of hyperparameters: 3733.43 seconds.\n"
     ]
    }
   ],
   "source": [
    "start_time = time.time()\n",
    "\n",
    "np.random.seed(42)\n",
    "\n",
    "clf = RandomForestClassifier(n_jobs=-1)\n",
    "\n",
    "n_iter = 30\n",
    "rs_clf = RandomizedSearchCV(estimator=clf,\n",
    "                            param_distributions=param_distributions,\n",
    "                            n_iter=n_iter,\n",
    "                            cv=5,\n",
    "                            verbose=2)\n",
    "\n",
    "rs_clf.fit(X_train, y_train);\n",
    "\n",
    "end_time = time.time()\n",
    "print(f\"[INFO] Total time taken for {n_iter} random combinations of hyperparameters: {end_time - start_time:.2f} seconds.\")"
   ]
  },
  {
   "cell_type": "markdown",
   "id": "981004fa",
   "metadata": {},
   "source": [
    "Logistic Regression Tuning dengan Random Search"
   ]
  },
  {
   "cell_type": "code",
   "execution_count": 25,
   "id": "ab92f874",
   "metadata": {},
   "outputs": [
    {
     "name": "stdout",
     "output_type": "stream",
     "text": [
      "Fitting 5 folds for each of 30 candidates, totalling 150 fits\n"
     ]
    },
    {
     "name": "stderr",
     "output_type": "stream",
     "text": [
      "c:\\Users\\asus\\Documents\\PYTHON_PROJECT\\env\\Lib\\site-packages\\sklearn\\linear_model\\_sag.py:349: ConvergenceWarning: The max_iter was reached which means the coef_ did not converge\n",
      "  warnings.warn(\n"
     ]
    },
    {
     "name": "stdout",
     "output_type": "stream",
     "text": [
      "[CV] END C=0.046415888336127774, max_iter=2000, penalty=l1, solver=saga; total time= 1.8min\n"
     ]
    },
    {
     "name": "stderr",
     "output_type": "stream",
     "text": [
      "c:\\Users\\asus\\Documents\\PYTHON_PROJECT\\env\\Lib\\site-packages\\sklearn\\linear_model\\_sag.py:349: ConvergenceWarning: The max_iter was reached which means the coef_ did not converge\n",
      "  warnings.warn(\n"
     ]
    },
    {
     "name": "stdout",
     "output_type": "stream",
     "text": [
      "[CV] END C=0.046415888336127774, max_iter=2000, penalty=l1, solver=saga; total time= 1.8min\n"
     ]
    },
    {
     "name": "stderr",
     "output_type": "stream",
     "text": [
      "c:\\Users\\asus\\Documents\\PYTHON_PROJECT\\env\\Lib\\site-packages\\sklearn\\linear_model\\_sag.py:349: ConvergenceWarning: The max_iter was reached which means the coef_ did not converge\n",
      "  warnings.warn(\n"
     ]
    },
    {
     "name": "stdout",
     "output_type": "stream",
     "text": [
      "[CV] END C=0.046415888336127774, max_iter=2000, penalty=l1, solver=saga; total time= 1.2min\n"
     ]
    },
    {
     "name": "stderr",
     "output_type": "stream",
     "text": [
      "c:\\Users\\asus\\Documents\\PYTHON_PROJECT\\env\\Lib\\site-packages\\sklearn\\linear_model\\_sag.py:349: ConvergenceWarning: The max_iter was reached which means the coef_ did not converge\n",
      "  warnings.warn(\n"
     ]
    },
    {
     "name": "stdout",
     "output_type": "stream",
     "text": [
      "[CV] END C=0.046415888336127774, max_iter=2000, penalty=l1, solver=saga; total time= 1.4min\n"
     ]
    },
    {
     "name": "stderr",
     "output_type": "stream",
     "text": [
      "c:\\Users\\asus\\Documents\\PYTHON_PROJECT\\env\\Lib\\site-packages\\sklearn\\linear_model\\_sag.py:349: ConvergenceWarning: The max_iter was reached which means the coef_ did not converge\n",
      "  warnings.warn(\n",
      "c:\\Users\\asus\\Documents\\PYTHON_PROJECT\\env\\Lib\\site-packages\\sklearn\\linear_model\\_logistic.py:1271: UserWarning: 'n_jobs' > 1 does not have any effect when 'solver' is set to 'liblinear'. Got 'n_jobs' = 8.\n",
      "  warnings.warn(\n"
     ]
    },
    {
     "name": "stdout",
     "output_type": "stream",
     "text": [
      "[CV] END C=0.046415888336127774, max_iter=2000, penalty=l1, solver=saga; total time= 1.4min\n",
      "[CV] END C=0.046415888336127774, max_iter=2000, penalty=l2, solver=liblinear; total time=   1.2s\n"
     ]
    },
    {
     "name": "stderr",
     "output_type": "stream",
     "text": [
      "c:\\Users\\asus\\Documents\\PYTHON_PROJECT\\env\\Lib\\site-packages\\sklearn\\linear_model\\_logistic.py:1271: UserWarning: 'n_jobs' > 1 does not have any effect when 'solver' is set to 'liblinear'. Got 'n_jobs' = 8.\n",
      "  warnings.warn(\n"
     ]
    },
    {
     "name": "stdout",
     "output_type": "stream",
     "text": [
      "[CV] END C=0.046415888336127774, max_iter=2000, penalty=l2, solver=liblinear; total time=   1.5s\n"
     ]
    },
    {
     "name": "stderr",
     "output_type": "stream",
     "text": [
      "c:\\Users\\asus\\Documents\\PYTHON_PROJECT\\env\\Lib\\site-packages\\sklearn\\linear_model\\_logistic.py:1271: UserWarning: 'n_jobs' > 1 does not have any effect when 'solver' is set to 'liblinear'. Got 'n_jobs' = 8.\n",
      "  warnings.warn(\n"
     ]
    },
    {
     "name": "stdout",
     "output_type": "stream",
     "text": [
      "[CV] END C=0.046415888336127774, max_iter=2000, penalty=l2, solver=liblinear; total time=   1.1s\n"
     ]
    },
    {
     "name": "stderr",
     "output_type": "stream",
     "text": [
      "c:\\Users\\asus\\Documents\\PYTHON_PROJECT\\env\\Lib\\site-packages\\sklearn\\linear_model\\_logistic.py:1271: UserWarning: 'n_jobs' > 1 does not have any effect when 'solver' is set to 'liblinear'. Got 'n_jobs' = 8.\n",
      "  warnings.warn(\n"
     ]
    },
    {
     "name": "stdout",
     "output_type": "stream",
     "text": [
      "[CV] END C=0.046415888336127774, max_iter=2000, penalty=l2, solver=liblinear; total time=   1.1s\n"
     ]
    },
    {
     "name": "stderr",
     "output_type": "stream",
     "text": [
      "c:\\Users\\asus\\Documents\\PYTHON_PROJECT\\env\\Lib\\site-packages\\sklearn\\linear_model\\_logistic.py:1271: UserWarning: 'n_jobs' > 1 does not have any effect when 'solver' is set to 'liblinear'. Got 'n_jobs' = 8.\n",
      "  warnings.warn(\n"
     ]
    },
    {
     "name": "stdout",
     "output_type": "stream",
     "text": [
      "[CV] END C=0.046415888336127774, max_iter=2000, penalty=l2, solver=liblinear; total time=   1.2s\n"
     ]
    },
    {
     "name": "stderr",
     "output_type": "stream",
     "text": [
      "c:\\Users\\asus\\Documents\\PYTHON_PROJECT\\env\\Lib\\site-packages\\sklearn\\linear_model\\_sag.py:349: ConvergenceWarning: The max_iter was reached which means the coef_ did not converge\n",
      "  warnings.warn(\n"
     ]
    },
    {
     "name": "stdout",
     "output_type": "stream",
     "text": [
      "[CV] END ...C=0.0001, max_iter=1000, penalty=l1, solver=saga; total time=  38.2s\n"
     ]
    },
    {
     "name": "stderr",
     "output_type": "stream",
     "text": [
      "c:\\Users\\asus\\Documents\\PYTHON_PROJECT\\env\\Lib\\site-packages\\sklearn\\linear_model\\_sag.py:349: ConvergenceWarning: The max_iter was reached which means the coef_ did not converge\n",
      "  warnings.warn(\n"
     ]
    },
    {
     "name": "stdout",
     "output_type": "stream",
     "text": [
      "[CV] END ...C=0.0001, max_iter=1000, penalty=l1, solver=saga; total time=  38.1s\n"
     ]
    },
    {
     "name": "stderr",
     "output_type": "stream",
     "text": [
      "c:\\Users\\asus\\Documents\\PYTHON_PROJECT\\env\\Lib\\site-packages\\sklearn\\linear_model\\_sag.py:349: ConvergenceWarning: The max_iter was reached which means the coef_ did not converge\n",
      "  warnings.warn(\n"
     ]
    },
    {
     "name": "stdout",
     "output_type": "stream",
     "text": [
      "[CV] END ...C=0.0001, max_iter=1000, penalty=l1, solver=saga; total time=  39.6s\n"
     ]
    },
    {
     "name": "stderr",
     "output_type": "stream",
     "text": [
      "c:\\Users\\asus\\Documents\\PYTHON_PROJECT\\env\\Lib\\site-packages\\sklearn\\linear_model\\_sag.py:349: ConvergenceWarning: The max_iter was reached which means the coef_ did not converge\n",
      "  warnings.warn(\n"
     ]
    },
    {
     "name": "stdout",
     "output_type": "stream",
     "text": [
      "[CV] END ...C=0.0001, max_iter=1000, penalty=l1, solver=saga; total time=  38.4s\n"
     ]
    },
    {
     "name": "stderr",
     "output_type": "stream",
     "text": [
      "c:\\Users\\asus\\Documents\\PYTHON_PROJECT\\env\\Lib\\site-packages\\sklearn\\linear_model\\_sag.py:349: ConvergenceWarning: The max_iter was reached which means the coef_ did not converge\n",
      "  warnings.warn(\n",
      "c:\\Users\\asus\\Documents\\PYTHON_PROJECT\\env\\Lib\\site-packages\\sklearn\\linear_model\\_logistic.py:1271: UserWarning: 'n_jobs' > 1 does not have any effect when 'solver' is set to 'liblinear'. Got 'n_jobs' = 8.\n",
      "  warnings.warn(\n"
     ]
    },
    {
     "name": "stdout",
     "output_type": "stream",
     "text": [
      "[CV] END ...C=0.0001, max_iter=1000, penalty=l1, solver=saga; total time=  40.0s\n",
      "[CV] END C=0.3593813663804626, max_iter=1000, penalty=l2, solver=liblinear; total time=   1.1s\n"
     ]
    },
    {
     "name": "stderr",
     "output_type": "stream",
     "text": [
      "c:\\Users\\asus\\Documents\\PYTHON_PROJECT\\env\\Lib\\site-packages\\sklearn\\linear_model\\_logistic.py:1271: UserWarning: 'n_jobs' > 1 does not have any effect when 'solver' is set to 'liblinear'. Got 'n_jobs' = 8.\n",
      "  warnings.warn(\n"
     ]
    },
    {
     "name": "stdout",
     "output_type": "stream",
     "text": [
      "[CV] END C=0.3593813663804626, max_iter=1000, penalty=l2, solver=liblinear; total time=   1.2s\n"
     ]
    },
    {
     "name": "stderr",
     "output_type": "stream",
     "text": [
      "c:\\Users\\asus\\Documents\\PYTHON_PROJECT\\env\\Lib\\site-packages\\sklearn\\linear_model\\_logistic.py:1271: UserWarning: 'n_jobs' > 1 does not have any effect when 'solver' is set to 'liblinear'. Got 'n_jobs' = 8.\n",
      "  warnings.warn(\n"
     ]
    },
    {
     "name": "stdout",
     "output_type": "stream",
     "text": [
      "[CV] END C=0.3593813663804626, max_iter=1000, penalty=l2, solver=liblinear; total time=   1.2s\n"
     ]
    },
    {
     "name": "stderr",
     "output_type": "stream",
     "text": [
      "c:\\Users\\asus\\Documents\\PYTHON_PROJECT\\env\\Lib\\site-packages\\sklearn\\linear_model\\_logistic.py:1271: UserWarning: 'n_jobs' > 1 does not have any effect when 'solver' is set to 'liblinear'. Got 'n_jobs' = 8.\n",
      "  warnings.warn(\n"
     ]
    },
    {
     "name": "stdout",
     "output_type": "stream",
     "text": [
      "[CV] END C=0.3593813663804626, max_iter=1000, penalty=l2, solver=liblinear; total time=   1.3s\n"
     ]
    },
    {
     "name": "stderr",
     "output_type": "stream",
     "text": [
      "c:\\Users\\asus\\Documents\\PYTHON_PROJECT\\env\\Lib\\site-packages\\sklearn\\linear_model\\_logistic.py:1271: UserWarning: 'n_jobs' > 1 does not have any effect when 'solver' is set to 'liblinear'. Got 'n_jobs' = 8.\n",
      "  warnings.warn(\n"
     ]
    },
    {
     "name": "stdout",
     "output_type": "stream",
     "text": [
      "[CV] END C=0.3593813663804626, max_iter=1000, penalty=l2, solver=liblinear; total time=   1.2s\n"
     ]
    },
    {
     "name": "stderr",
     "output_type": "stream",
     "text": [
      "c:\\Users\\asus\\Documents\\PYTHON_PROJECT\\env\\Lib\\site-packages\\sklearn\\linear_model\\_sag.py:349: ConvergenceWarning: The max_iter was reached which means the coef_ did not converge\n",
      "  warnings.warn(\n"
     ]
    },
    {
     "name": "stdout",
     "output_type": "stream",
     "text": [
      "[CV] END C=0.005994842503189409, max_iter=500, penalty=l2, solver=saga; total time=  17.2s\n"
     ]
    },
    {
     "name": "stderr",
     "output_type": "stream",
     "text": [
      "c:\\Users\\asus\\Documents\\PYTHON_PROJECT\\env\\Lib\\site-packages\\sklearn\\linear_model\\_sag.py:349: ConvergenceWarning: The max_iter was reached which means the coef_ did not converge\n",
      "  warnings.warn(\n"
     ]
    },
    {
     "name": "stdout",
     "output_type": "stream",
     "text": [
      "[CV] END C=0.005994842503189409, max_iter=500, penalty=l2, solver=saga; total time=  16.0s\n"
     ]
    },
    {
     "name": "stderr",
     "output_type": "stream",
     "text": [
      "c:\\Users\\asus\\Documents\\PYTHON_PROJECT\\env\\Lib\\site-packages\\sklearn\\linear_model\\_sag.py:349: ConvergenceWarning: The max_iter was reached which means the coef_ did not converge\n",
      "  warnings.warn(\n"
     ]
    },
    {
     "name": "stdout",
     "output_type": "stream",
     "text": [
      "[CV] END C=0.005994842503189409, max_iter=500, penalty=l2, solver=saga; total time=  15.8s\n"
     ]
    },
    {
     "name": "stderr",
     "output_type": "stream",
     "text": [
      "c:\\Users\\asus\\Documents\\PYTHON_PROJECT\\env\\Lib\\site-packages\\sklearn\\linear_model\\_sag.py:349: ConvergenceWarning: The max_iter was reached which means the coef_ did not converge\n",
      "  warnings.warn(\n"
     ]
    },
    {
     "name": "stdout",
     "output_type": "stream",
     "text": [
      "[CV] END C=0.005994842503189409, max_iter=500, penalty=l2, solver=saga; total time=  15.7s\n"
     ]
    },
    {
     "name": "stderr",
     "output_type": "stream",
     "text": [
      "c:\\Users\\asus\\Documents\\PYTHON_PROJECT\\env\\Lib\\site-packages\\sklearn\\linear_model\\_sag.py:349: ConvergenceWarning: The max_iter was reached which means the coef_ did not converge\n",
      "  warnings.warn(\n"
     ]
    },
    {
     "name": "stdout",
     "output_type": "stream",
     "text": [
      "[CV] END C=0.005994842503189409, max_iter=500, penalty=l2, solver=saga; total time=  15.5s\n"
     ]
    },
    {
     "name": "stderr",
     "output_type": "stream",
     "text": [
      "c:\\Users\\asus\\Documents\\PYTHON_PROJECT\\env\\Lib\\site-packages\\sklearn\\linear_model\\_sag.py:349: ConvergenceWarning: The max_iter was reached which means the coef_ did not converge\n",
      "  warnings.warn(\n"
     ]
    },
    {
     "name": "stdout",
     "output_type": "stream",
     "text": [
      "[CV] END C=2.782559402207126, max_iter=1000, penalty=l1, solver=saga; total time=  37.7s\n"
     ]
    },
    {
     "name": "stderr",
     "output_type": "stream",
     "text": [
      "c:\\Users\\asus\\Documents\\PYTHON_PROJECT\\env\\Lib\\site-packages\\sklearn\\linear_model\\_sag.py:349: ConvergenceWarning: The max_iter was reached which means the coef_ did not converge\n",
      "  warnings.warn(\n"
     ]
    },
    {
     "name": "stdout",
     "output_type": "stream",
     "text": [
      "[CV] END C=2.782559402207126, max_iter=1000, penalty=l1, solver=saga; total time=  38.4s\n"
     ]
    },
    {
     "name": "stderr",
     "output_type": "stream",
     "text": [
      "c:\\Users\\asus\\Documents\\PYTHON_PROJECT\\env\\Lib\\site-packages\\sklearn\\linear_model\\_sag.py:349: ConvergenceWarning: The max_iter was reached which means the coef_ did not converge\n",
      "  warnings.warn(\n"
     ]
    },
    {
     "name": "stdout",
     "output_type": "stream",
     "text": [
      "[CV] END C=2.782559402207126, max_iter=1000, penalty=l1, solver=saga; total time=  37.5s\n"
     ]
    },
    {
     "name": "stderr",
     "output_type": "stream",
     "text": [
      "c:\\Users\\asus\\Documents\\PYTHON_PROJECT\\env\\Lib\\site-packages\\sklearn\\linear_model\\_sag.py:349: ConvergenceWarning: The max_iter was reached which means the coef_ did not converge\n",
      "  warnings.warn(\n"
     ]
    },
    {
     "name": "stdout",
     "output_type": "stream",
     "text": [
      "[CV] END C=2.782559402207126, max_iter=1000, penalty=l1, solver=saga; total time=  38.6s\n"
     ]
    },
    {
     "name": "stderr",
     "output_type": "stream",
     "text": [
      "c:\\Users\\asus\\Documents\\PYTHON_PROJECT\\env\\Lib\\site-packages\\sklearn\\linear_model\\_sag.py:349: ConvergenceWarning: The max_iter was reached which means the coef_ did not converge\n",
      "  warnings.warn(\n",
      "c:\\Users\\asus\\Documents\\PYTHON_PROJECT\\env\\Lib\\site-packages\\sklearn\\linear_model\\_logistic.py:1271: UserWarning: 'n_jobs' > 1 does not have any effect when 'solver' is set to 'liblinear'. Got 'n_jobs' = 8.\n",
      "  warnings.warn(\n"
     ]
    },
    {
     "name": "stdout",
     "output_type": "stream",
     "text": [
      "[CV] END C=2.782559402207126, max_iter=1000, penalty=l1, solver=saga; total time=  38.7s\n",
      "[CV] END C=21.54434690031882, max_iter=500, penalty=l1, solver=liblinear; total time=   0.8s\n"
     ]
    },
    {
     "name": "stderr",
     "output_type": "stream",
     "text": [
      "c:\\Users\\asus\\Documents\\PYTHON_PROJECT\\env\\Lib\\site-packages\\sklearn\\linear_model\\_logistic.py:1271: UserWarning: 'n_jobs' > 1 does not have any effect when 'solver' is set to 'liblinear'. Got 'n_jobs' = 8.\n",
      "  warnings.warn(\n"
     ]
    },
    {
     "name": "stdout",
     "output_type": "stream",
     "text": [
      "[CV] END C=21.54434690031882, max_iter=500, penalty=l1, solver=liblinear; total time=   0.8s\n"
     ]
    },
    {
     "name": "stderr",
     "output_type": "stream",
     "text": [
      "c:\\Users\\asus\\Documents\\PYTHON_PROJECT\\env\\Lib\\site-packages\\sklearn\\linear_model\\_logistic.py:1271: UserWarning: 'n_jobs' > 1 does not have any effect when 'solver' is set to 'liblinear'. Got 'n_jobs' = 8.\n",
      "  warnings.warn(\n"
     ]
    },
    {
     "name": "stdout",
     "output_type": "stream",
     "text": [
      "[CV] END C=21.54434690031882, max_iter=500, penalty=l1, solver=liblinear; total time=   0.7s\n"
     ]
    },
    {
     "name": "stderr",
     "output_type": "stream",
     "text": [
      "c:\\Users\\asus\\Documents\\PYTHON_PROJECT\\env\\Lib\\site-packages\\sklearn\\linear_model\\_logistic.py:1271: UserWarning: 'n_jobs' > 1 does not have any effect when 'solver' is set to 'liblinear'. Got 'n_jobs' = 8.\n",
      "  warnings.warn(\n"
     ]
    },
    {
     "name": "stdout",
     "output_type": "stream",
     "text": [
      "[CV] END C=21.54434690031882, max_iter=500, penalty=l1, solver=liblinear; total time=   1.0s\n"
     ]
    },
    {
     "name": "stderr",
     "output_type": "stream",
     "text": [
      "c:\\Users\\asus\\Documents\\PYTHON_PROJECT\\env\\Lib\\site-packages\\sklearn\\linear_model\\_logistic.py:1271: UserWarning: 'n_jobs' > 1 does not have any effect when 'solver' is set to 'liblinear'. Got 'n_jobs' = 8.\n",
      "  warnings.warn(\n"
     ]
    },
    {
     "name": "stdout",
     "output_type": "stream",
     "text": [
      "[CV] END C=21.54434690031882, max_iter=500, penalty=l1, solver=liblinear; total time=   1.0s\n",
      "[CV] END ...C=0.0001, max_iter=2000, penalty=l2, solver=saga; total time= 1.0min\n",
      "[CV] END ...C=0.0001, max_iter=2000, penalty=l2, solver=saga; total time=  51.7s\n",
      "[CV] END ...C=0.0001, max_iter=2000, penalty=l2, solver=saga; total time=  46.6s\n",
      "[CV] END ...C=0.0001, max_iter=2000, penalty=l2, solver=saga; total time=  47.4s\n",
      "[CV] END ...C=0.0001, max_iter=2000, penalty=l2, solver=saga; total time=  47.9s\n"
     ]
    },
    {
     "name": "stderr",
     "output_type": "stream",
     "text": [
      "c:\\Users\\asus\\Documents\\PYTHON_PROJECT\\env\\Lib\\site-packages\\sklearn\\linear_model\\_sag.py:349: ConvergenceWarning: The max_iter was reached which means the coef_ did not converge\n",
      "  warnings.warn(\n"
     ]
    },
    {
     "name": "stdout",
     "output_type": "stream",
     "text": [
      "[CV] END C=0.046415888336127774, max_iter=1000, penalty=l1, solver=saga; total time=  38.1s\n"
     ]
    },
    {
     "name": "stderr",
     "output_type": "stream",
     "text": [
      "c:\\Users\\asus\\Documents\\PYTHON_PROJECT\\env\\Lib\\site-packages\\sklearn\\linear_model\\_sag.py:349: ConvergenceWarning: The max_iter was reached which means the coef_ did not converge\n",
      "  warnings.warn(\n"
     ]
    },
    {
     "name": "stdout",
     "output_type": "stream",
     "text": [
      "[CV] END C=0.046415888336127774, max_iter=1000, penalty=l1, solver=saga; total time=  38.2s\n"
     ]
    },
    {
     "name": "stderr",
     "output_type": "stream",
     "text": [
      "c:\\Users\\asus\\Documents\\PYTHON_PROJECT\\env\\Lib\\site-packages\\sklearn\\linear_model\\_sag.py:349: ConvergenceWarning: The max_iter was reached which means the coef_ did not converge\n",
      "  warnings.warn(\n"
     ]
    },
    {
     "name": "stdout",
     "output_type": "stream",
     "text": [
      "[CV] END C=0.046415888336127774, max_iter=1000, penalty=l1, solver=saga; total time=  39.0s\n"
     ]
    },
    {
     "name": "stderr",
     "output_type": "stream",
     "text": [
      "c:\\Users\\asus\\Documents\\PYTHON_PROJECT\\env\\Lib\\site-packages\\sklearn\\linear_model\\_sag.py:349: ConvergenceWarning: The max_iter was reached which means the coef_ did not converge\n",
      "  warnings.warn(\n"
     ]
    },
    {
     "name": "stdout",
     "output_type": "stream",
     "text": [
      "[CV] END C=0.046415888336127774, max_iter=1000, penalty=l1, solver=saga; total time=  38.4s\n"
     ]
    },
    {
     "name": "stderr",
     "output_type": "stream",
     "text": [
      "c:\\Users\\asus\\Documents\\PYTHON_PROJECT\\env\\Lib\\site-packages\\sklearn\\linear_model\\_sag.py:349: ConvergenceWarning: The max_iter was reached which means the coef_ did not converge\n",
      "  warnings.warn(\n",
      "c:\\Users\\asus\\Documents\\PYTHON_PROJECT\\env\\Lib\\site-packages\\sklearn\\linear_model\\_logistic.py:1271: UserWarning: 'n_jobs' > 1 does not have any effect when 'solver' is set to 'liblinear'. Got 'n_jobs' = 8.\n",
      "  warnings.warn(\n"
     ]
    },
    {
     "name": "stdout",
     "output_type": "stream",
     "text": [
      "[CV] END C=0.046415888336127774, max_iter=1000, penalty=l1, solver=saga; total time=  39.0s\n",
      "[CV] END C=1291.5496650148827, max_iter=2000, penalty=l2, solver=liblinear; total time=   1.3s\n"
     ]
    },
    {
     "name": "stderr",
     "output_type": "stream",
     "text": [
      "c:\\Users\\asus\\Documents\\PYTHON_PROJECT\\env\\Lib\\site-packages\\sklearn\\linear_model\\_logistic.py:1271: UserWarning: 'n_jobs' > 1 does not have any effect when 'solver' is set to 'liblinear'. Got 'n_jobs' = 8.\n",
      "  warnings.warn(\n"
     ]
    },
    {
     "name": "stdout",
     "output_type": "stream",
     "text": [
      "[CV] END C=1291.5496650148827, max_iter=2000, penalty=l2, solver=liblinear; total time=   1.3s\n"
     ]
    },
    {
     "name": "stderr",
     "output_type": "stream",
     "text": [
      "c:\\Users\\asus\\Documents\\PYTHON_PROJECT\\env\\Lib\\site-packages\\sklearn\\linear_model\\_logistic.py:1271: UserWarning: 'n_jobs' > 1 does not have any effect when 'solver' is set to 'liblinear'. Got 'n_jobs' = 8.\n",
      "  warnings.warn(\n"
     ]
    },
    {
     "name": "stdout",
     "output_type": "stream",
     "text": [
      "[CV] END C=1291.5496650148827, max_iter=2000, penalty=l2, solver=liblinear; total time=   1.4s\n"
     ]
    },
    {
     "name": "stderr",
     "output_type": "stream",
     "text": [
      "c:\\Users\\asus\\Documents\\PYTHON_PROJECT\\env\\Lib\\site-packages\\sklearn\\linear_model\\_logistic.py:1271: UserWarning: 'n_jobs' > 1 does not have any effect when 'solver' is set to 'liblinear'. Got 'n_jobs' = 8.\n",
      "  warnings.warn(\n"
     ]
    },
    {
     "name": "stdout",
     "output_type": "stream",
     "text": [
      "[CV] END C=1291.5496650148827, max_iter=2000, penalty=l2, solver=liblinear; total time=   1.3s\n"
     ]
    },
    {
     "name": "stderr",
     "output_type": "stream",
     "text": [
      "c:\\Users\\asus\\Documents\\PYTHON_PROJECT\\env\\Lib\\site-packages\\sklearn\\linear_model\\_logistic.py:1271: UserWarning: 'n_jobs' > 1 does not have any effect when 'solver' is set to 'liblinear'. Got 'n_jobs' = 8.\n",
      "  warnings.warn(\n"
     ]
    },
    {
     "name": "stdout",
     "output_type": "stream",
     "text": [
      "[CV] END C=1291.5496650148827, max_iter=2000, penalty=l2, solver=liblinear; total time=   1.6s\n"
     ]
    },
    {
     "name": "stderr",
     "output_type": "stream",
     "text": [
      "c:\\Users\\asus\\Documents\\PYTHON_PROJECT\\env\\Lib\\site-packages\\sklearn\\linear_model\\_sag.py:349: ConvergenceWarning: The max_iter was reached which means the coef_ did not converge\n",
      "  warnings.warn(\n"
     ]
    },
    {
     "name": "stdout",
     "output_type": "stream",
     "text": [
      "[CV] END C=0.000774263682681127, max_iter=1000, penalty=l2, solver=saga; total time=  32.4s\n"
     ]
    },
    {
     "name": "stderr",
     "output_type": "stream",
     "text": [
      "c:\\Users\\asus\\Documents\\PYTHON_PROJECT\\env\\Lib\\site-packages\\sklearn\\linear_model\\_sag.py:349: ConvergenceWarning: The max_iter was reached which means the coef_ did not converge\n",
      "  warnings.warn(\n"
     ]
    },
    {
     "name": "stdout",
     "output_type": "stream",
     "text": [
      "[CV] END C=0.000774263682681127, max_iter=1000, penalty=l2, solver=saga; total time=  35.6s\n"
     ]
    },
    {
     "name": "stderr",
     "output_type": "stream",
     "text": [
      "c:\\Users\\asus\\Documents\\PYTHON_PROJECT\\env\\Lib\\site-packages\\sklearn\\linear_model\\_sag.py:349: ConvergenceWarning: The max_iter was reached which means the coef_ did not converge\n",
      "  warnings.warn(\n"
     ]
    },
    {
     "name": "stdout",
     "output_type": "stream",
     "text": [
      "[CV] END C=0.000774263682681127, max_iter=1000, penalty=l2, solver=saga; total time=  36.4s\n"
     ]
    },
    {
     "name": "stderr",
     "output_type": "stream",
     "text": [
      "c:\\Users\\asus\\Documents\\PYTHON_PROJECT\\env\\Lib\\site-packages\\sklearn\\linear_model\\_sag.py:349: ConvergenceWarning: The max_iter was reached which means the coef_ did not converge\n",
      "  warnings.warn(\n"
     ]
    },
    {
     "name": "stdout",
     "output_type": "stream",
     "text": [
      "[CV] END C=0.000774263682681127, max_iter=1000, penalty=l2, solver=saga; total time=  38.2s\n"
     ]
    },
    {
     "name": "stderr",
     "output_type": "stream",
     "text": [
      "c:\\Users\\asus\\Documents\\PYTHON_PROJECT\\env\\Lib\\site-packages\\sklearn\\linear_model\\_sag.py:349: ConvergenceWarning: The max_iter was reached which means the coef_ did not converge\n",
      "  warnings.warn(\n"
     ]
    },
    {
     "name": "stdout",
     "output_type": "stream",
     "text": [
      "[CV] END C=0.000774263682681127, max_iter=1000, penalty=l2, solver=saga; total time=  35.2s\n"
     ]
    },
    {
     "name": "stderr",
     "output_type": "stream",
     "text": [
      "c:\\Users\\asus\\Documents\\PYTHON_PROJECT\\env\\Lib\\site-packages\\sklearn\\linear_model\\_sag.py:349: ConvergenceWarning: The max_iter was reached which means the coef_ did not converge\n",
      "  warnings.warn(\n"
     ]
    },
    {
     "name": "stdout",
     "output_type": "stream",
     "text": [
      "[CV] END C=2.782559402207126, max_iter=500, penalty=l2, solver=saga; total time=  15.5s\n"
     ]
    },
    {
     "name": "stderr",
     "output_type": "stream",
     "text": [
      "c:\\Users\\asus\\Documents\\PYTHON_PROJECT\\env\\Lib\\site-packages\\sklearn\\linear_model\\_sag.py:349: ConvergenceWarning: The max_iter was reached which means the coef_ did not converge\n",
      "  warnings.warn(\n"
     ]
    },
    {
     "name": "stdout",
     "output_type": "stream",
     "text": [
      "[CV] END C=2.782559402207126, max_iter=500, penalty=l2, solver=saga; total time=  13.7s\n"
     ]
    },
    {
     "name": "stderr",
     "output_type": "stream",
     "text": [
      "c:\\Users\\asus\\Documents\\PYTHON_PROJECT\\env\\Lib\\site-packages\\sklearn\\linear_model\\_sag.py:349: ConvergenceWarning: The max_iter was reached which means the coef_ did not converge\n",
      "  warnings.warn(\n"
     ]
    },
    {
     "name": "stdout",
     "output_type": "stream",
     "text": [
      "[CV] END C=2.782559402207126, max_iter=500, penalty=l2, solver=saga; total time=  16.3s\n"
     ]
    },
    {
     "name": "stderr",
     "output_type": "stream",
     "text": [
      "c:\\Users\\asus\\Documents\\PYTHON_PROJECT\\env\\Lib\\site-packages\\sklearn\\linear_model\\_sag.py:349: ConvergenceWarning: The max_iter was reached which means the coef_ did not converge\n",
      "  warnings.warn(\n"
     ]
    },
    {
     "name": "stdout",
     "output_type": "stream",
     "text": [
      "[CV] END C=2.782559402207126, max_iter=500, penalty=l2, solver=saga; total time=  15.3s\n"
     ]
    },
    {
     "name": "stderr",
     "output_type": "stream",
     "text": [
      "c:\\Users\\asus\\Documents\\PYTHON_PROJECT\\env\\Lib\\site-packages\\sklearn\\linear_model\\_sag.py:349: ConvergenceWarning: The max_iter was reached which means the coef_ did not converge\n",
      "  warnings.warn(\n",
      "c:\\Users\\asus\\Documents\\PYTHON_PROJECT\\env\\Lib\\site-packages\\sklearn\\linear_model\\_logistic.py:1271: UserWarning: 'n_jobs' > 1 does not have any effect when 'solver' is set to 'liblinear'. Got 'n_jobs' = 8.\n",
      "  warnings.warn(\n"
     ]
    },
    {
     "name": "stdout",
     "output_type": "stream",
     "text": [
      "[CV] END C=2.782559402207126, max_iter=500, penalty=l2, solver=saga; total time=  13.9s\n",
      "[CV] END C=0.0001, max_iter=2000, penalty=l2, solver=liblinear; total time=   0.5s\n"
     ]
    },
    {
     "name": "stderr",
     "output_type": "stream",
     "text": [
      "c:\\Users\\asus\\Documents\\PYTHON_PROJECT\\env\\Lib\\site-packages\\sklearn\\linear_model\\_logistic.py:1271: UserWarning: 'n_jobs' > 1 does not have any effect when 'solver' is set to 'liblinear'. Got 'n_jobs' = 8.\n",
      "  warnings.warn(\n"
     ]
    },
    {
     "name": "stdout",
     "output_type": "stream",
     "text": [
      "[CV] END C=0.0001, max_iter=2000, penalty=l2, solver=liblinear; total time=   0.6s\n"
     ]
    },
    {
     "name": "stderr",
     "output_type": "stream",
     "text": [
      "c:\\Users\\asus\\Documents\\PYTHON_PROJECT\\env\\Lib\\site-packages\\sklearn\\linear_model\\_logistic.py:1271: UserWarning: 'n_jobs' > 1 does not have any effect when 'solver' is set to 'liblinear'. Got 'n_jobs' = 8.\n",
      "  warnings.warn(\n"
     ]
    },
    {
     "name": "stdout",
     "output_type": "stream",
     "text": [
      "[CV] END C=0.0001, max_iter=2000, penalty=l2, solver=liblinear; total time=   0.7s\n"
     ]
    },
    {
     "name": "stderr",
     "output_type": "stream",
     "text": [
      "c:\\Users\\asus\\Documents\\PYTHON_PROJECT\\env\\Lib\\site-packages\\sklearn\\linear_model\\_logistic.py:1271: UserWarning: 'n_jobs' > 1 does not have any effect when 'solver' is set to 'liblinear'. Got 'n_jobs' = 8.\n",
      "  warnings.warn(\n"
     ]
    },
    {
     "name": "stdout",
     "output_type": "stream",
     "text": [
      "[CV] END C=0.0001, max_iter=2000, penalty=l2, solver=liblinear; total time=   0.5s\n"
     ]
    },
    {
     "name": "stderr",
     "output_type": "stream",
     "text": [
      "c:\\Users\\asus\\Documents\\PYTHON_PROJECT\\env\\Lib\\site-packages\\sklearn\\linear_model\\_logistic.py:1271: UserWarning: 'n_jobs' > 1 does not have any effect when 'solver' is set to 'liblinear'. Got 'n_jobs' = 8.\n",
      "  warnings.warn(\n"
     ]
    },
    {
     "name": "stdout",
     "output_type": "stream",
     "text": [
      "[CV] END C=0.0001, max_iter=2000, penalty=l2, solver=liblinear; total time=   0.5s\n"
     ]
    },
    {
     "name": "stderr",
     "output_type": "stream",
     "text": [
      "c:\\Users\\asus\\Documents\\PYTHON_PROJECT\\env\\Lib\\site-packages\\sklearn\\linear_model\\_sag.py:349: ConvergenceWarning: The max_iter was reached which means the coef_ did not converge\n",
      "  warnings.warn(\n"
     ]
    },
    {
     "name": "stdout",
     "output_type": "stream",
     "text": [
      "[CV] END C=0.046415888336127774, max_iter=500, penalty=l1, solver=saga; total time=  16.8s\n"
     ]
    },
    {
     "name": "stderr",
     "output_type": "stream",
     "text": [
      "c:\\Users\\asus\\Documents\\PYTHON_PROJECT\\env\\Lib\\site-packages\\sklearn\\linear_model\\_sag.py:349: ConvergenceWarning: The max_iter was reached which means the coef_ did not converge\n",
      "  warnings.warn(\n"
     ]
    },
    {
     "name": "stdout",
     "output_type": "stream",
     "text": [
      "[CV] END C=0.046415888336127774, max_iter=500, penalty=l1, solver=saga; total time=  16.3s\n"
     ]
    },
    {
     "name": "stderr",
     "output_type": "stream",
     "text": [
      "c:\\Users\\asus\\Documents\\PYTHON_PROJECT\\env\\Lib\\site-packages\\sklearn\\linear_model\\_sag.py:349: ConvergenceWarning: The max_iter was reached which means the coef_ did not converge\n",
      "  warnings.warn(\n"
     ]
    },
    {
     "name": "stdout",
     "output_type": "stream",
     "text": [
      "[CV] END C=0.046415888336127774, max_iter=500, penalty=l1, solver=saga; total time=  15.9s\n"
     ]
    },
    {
     "name": "stderr",
     "output_type": "stream",
     "text": [
      "c:\\Users\\asus\\Documents\\PYTHON_PROJECT\\env\\Lib\\site-packages\\sklearn\\linear_model\\_sag.py:349: ConvergenceWarning: The max_iter was reached which means the coef_ did not converge\n",
      "  warnings.warn(\n"
     ]
    },
    {
     "name": "stdout",
     "output_type": "stream",
     "text": [
      "[CV] END C=0.046415888336127774, max_iter=500, penalty=l1, solver=saga; total time=  15.1s\n"
     ]
    },
    {
     "name": "stderr",
     "output_type": "stream",
     "text": [
      "c:\\Users\\asus\\Documents\\PYTHON_PROJECT\\env\\Lib\\site-packages\\sklearn\\linear_model\\_sag.py:349: ConvergenceWarning: The max_iter was reached which means the coef_ did not converge\n",
      "  warnings.warn(\n",
      "c:\\Users\\asus\\Documents\\PYTHON_PROJECT\\env\\Lib\\site-packages\\sklearn\\linear_model\\_logistic.py:1271: UserWarning: 'n_jobs' > 1 does not have any effect when 'solver' is set to 'liblinear'. Got 'n_jobs' = 8.\n",
      "  warnings.warn(\n"
     ]
    },
    {
     "name": "stdout",
     "output_type": "stream",
     "text": [
      "[CV] END C=0.046415888336127774, max_iter=500, penalty=l1, solver=saga; total time=  14.6s\n",
      "[CV] END C=166.81005372000558, max_iter=1000, penalty=l1, solver=liblinear; total time=   0.6s\n"
     ]
    },
    {
     "name": "stderr",
     "output_type": "stream",
     "text": [
      "c:\\Users\\asus\\Documents\\PYTHON_PROJECT\\env\\Lib\\site-packages\\sklearn\\linear_model\\_logistic.py:1271: UserWarning: 'n_jobs' > 1 does not have any effect when 'solver' is set to 'liblinear'. Got 'n_jobs' = 8.\n",
      "  warnings.warn(\n"
     ]
    },
    {
     "name": "stdout",
     "output_type": "stream",
     "text": [
      "[CV] END C=166.81005372000558, max_iter=1000, penalty=l1, solver=liblinear; total time=   0.7s\n"
     ]
    },
    {
     "name": "stderr",
     "output_type": "stream",
     "text": [
      "c:\\Users\\asus\\Documents\\PYTHON_PROJECT\\env\\Lib\\site-packages\\sklearn\\linear_model\\_logistic.py:1271: UserWarning: 'n_jobs' > 1 does not have any effect when 'solver' is set to 'liblinear'. Got 'n_jobs' = 8.\n",
      "  warnings.warn(\n"
     ]
    },
    {
     "name": "stdout",
     "output_type": "stream",
     "text": [
      "[CV] END C=166.81005372000558, max_iter=1000, penalty=l1, solver=liblinear; total time=   0.8s\n"
     ]
    },
    {
     "name": "stderr",
     "output_type": "stream",
     "text": [
      "c:\\Users\\asus\\Documents\\PYTHON_PROJECT\\env\\Lib\\site-packages\\sklearn\\linear_model\\_logistic.py:1271: UserWarning: 'n_jobs' > 1 does not have any effect when 'solver' is set to 'liblinear'. Got 'n_jobs' = 8.\n",
      "  warnings.warn(\n"
     ]
    },
    {
     "name": "stdout",
     "output_type": "stream",
     "text": [
      "[CV] END C=166.81005372000558, max_iter=1000, penalty=l1, solver=liblinear; total time=   0.7s\n"
     ]
    },
    {
     "name": "stderr",
     "output_type": "stream",
     "text": [
      "c:\\Users\\asus\\Documents\\PYTHON_PROJECT\\env\\Lib\\site-packages\\sklearn\\linear_model\\_logistic.py:1271: UserWarning: 'n_jobs' > 1 does not have any effect when 'solver' is set to 'liblinear'. Got 'n_jobs' = 8.\n",
      "  warnings.warn(\n"
     ]
    },
    {
     "name": "stdout",
     "output_type": "stream",
     "text": [
      "[CV] END C=166.81005372000558, max_iter=1000, penalty=l1, solver=liblinear; total time=   0.6s\n"
     ]
    },
    {
     "name": "stderr",
     "output_type": "stream",
     "text": [
      "c:\\Users\\asus\\Documents\\PYTHON_PROJECT\\env\\Lib\\site-packages\\sklearn\\linear_model\\_logistic.py:1271: UserWarning: 'n_jobs' > 1 does not have any effect when 'solver' is set to 'liblinear'. Got 'n_jobs' = 8.\n",
      "  warnings.warn(\n"
     ]
    },
    {
     "name": "stdout",
     "output_type": "stream",
     "text": [
      "[CV] END C=166.81005372000558, max_iter=1000, penalty=l2, solver=liblinear; total time=   1.0s\n"
     ]
    },
    {
     "name": "stderr",
     "output_type": "stream",
     "text": [
      "c:\\Users\\asus\\Documents\\PYTHON_PROJECT\\env\\Lib\\site-packages\\sklearn\\linear_model\\_logistic.py:1271: UserWarning: 'n_jobs' > 1 does not have any effect when 'solver' is set to 'liblinear'. Got 'n_jobs' = 8.\n",
      "  warnings.warn(\n"
     ]
    },
    {
     "name": "stdout",
     "output_type": "stream",
     "text": [
      "[CV] END C=166.81005372000558, max_iter=1000, penalty=l2, solver=liblinear; total time=   1.0s\n"
     ]
    },
    {
     "name": "stderr",
     "output_type": "stream",
     "text": [
      "c:\\Users\\asus\\Documents\\PYTHON_PROJECT\\env\\Lib\\site-packages\\sklearn\\linear_model\\_logistic.py:1271: UserWarning: 'n_jobs' > 1 does not have any effect when 'solver' is set to 'liblinear'. Got 'n_jobs' = 8.\n",
      "  warnings.warn(\n"
     ]
    },
    {
     "name": "stdout",
     "output_type": "stream",
     "text": [
      "[CV] END C=166.81005372000558, max_iter=1000, penalty=l2, solver=liblinear; total time=   1.0s\n"
     ]
    },
    {
     "name": "stderr",
     "output_type": "stream",
     "text": [
      "c:\\Users\\asus\\Documents\\PYTHON_PROJECT\\env\\Lib\\site-packages\\sklearn\\linear_model\\_logistic.py:1271: UserWarning: 'n_jobs' > 1 does not have any effect when 'solver' is set to 'liblinear'. Got 'n_jobs' = 8.\n",
      "  warnings.warn(\n"
     ]
    },
    {
     "name": "stdout",
     "output_type": "stream",
     "text": [
      "[CV] END C=166.81005372000558, max_iter=1000, penalty=l2, solver=liblinear; total time=   1.3s\n"
     ]
    },
    {
     "name": "stderr",
     "output_type": "stream",
     "text": [
      "c:\\Users\\asus\\Documents\\PYTHON_PROJECT\\env\\Lib\\site-packages\\sklearn\\linear_model\\_logistic.py:1271: UserWarning: 'n_jobs' > 1 does not have any effect when 'solver' is set to 'liblinear'. Got 'n_jobs' = 8.\n",
      "  warnings.warn(\n"
     ]
    },
    {
     "name": "stdout",
     "output_type": "stream",
     "text": [
      "[CV] END C=166.81005372000558, max_iter=1000, penalty=l2, solver=liblinear; total time=   1.1s\n"
     ]
    },
    {
     "name": "stderr",
     "output_type": "stream",
     "text": [
      "c:\\Users\\asus\\Documents\\PYTHON_PROJECT\\env\\Lib\\site-packages\\sklearn\\linear_model\\_logistic.py:1271: UserWarning: 'n_jobs' > 1 does not have any effect when 'solver' is set to 'liblinear'. Got 'n_jobs' = 8.\n",
      "  warnings.warn(\n"
     ]
    },
    {
     "name": "stdout",
     "output_type": "stream",
     "text": [
      "[CV] END C=10000.0, max_iter=500, penalty=l1, solver=liblinear; total time=   0.7s\n"
     ]
    },
    {
     "name": "stderr",
     "output_type": "stream",
     "text": [
      "c:\\Users\\asus\\Documents\\PYTHON_PROJECT\\env\\Lib\\site-packages\\sklearn\\linear_model\\_logistic.py:1271: UserWarning: 'n_jobs' > 1 does not have any effect when 'solver' is set to 'liblinear'. Got 'n_jobs' = 8.\n",
      "  warnings.warn(\n"
     ]
    },
    {
     "name": "stdout",
     "output_type": "stream",
     "text": [
      "[CV] END C=10000.0, max_iter=500, penalty=l1, solver=liblinear; total time=   0.6s\n"
     ]
    },
    {
     "name": "stderr",
     "output_type": "stream",
     "text": [
      "c:\\Users\\asus\\Documents\\PYTHON_PROJECT\\env\\Lib\\site-packages\\sklearn\\linear_model\\_logistic.py:1271: UserWarning: 'n_jobs' > 1 does not have any effect when 'solver' is set to 'liblinear'. Got 'n_jobs' = 8.\n",
      "  warnings.warn(\n"
     ]
    },
    {
     "name": "stdout",
     "output_type": "stream",
     "text": [
      "[CV] END C=10000.0, max_iter=500, penalty=l1, solver=liblinear; total time=   0.5s\n"
     ]
    },
    {
     "name": "stderr",
     "output_type": "stream",
     "text": [
      "c:\\Users\\asus\\Documents\\PYTHON_PROJECT\\env\\Lib\\site-packages\\sklearn\\linear_model\\_logistic.py:1271: UserWarning: 'n_jobs' > 1 does not have any effect when 'solver' is set to 'liblinear'. Got 'n_jobs' = 8.\n",
      "  warnings.warn(\n"
     ]
    },
    {
     "name": "stdout",
     "output_type": "stream",
     "text": [
      "[CV] END C=10000.0, max_iter=500, penalty=l1, solver=liblinear; total time=   0.7s\n"
     ]
    },
    {
     "name": "stderr",
     "output_type": "stream",
     "text": [
      "c:\\Users\\asus\\Documents\\PYTHON_PROJECT\\env\\Lib\\site-packages\\sklearn\\linear_model\\_logistic.py:1271: UserWarning: 'n_jobs' > 1 does not have any effect when 'solver' is set to 'liblinear'. Got 'n_jobs' = 8.\n",
      "  warnings.warn(\n"
     ]
    },
    {
     "name": "stdout",
     "output_type": "stream",
     "text": [
      "[CV] END C=10000.0, max_iter=500, penalty=l1, solver=liblinear; total time=   0.8s\n"
     ]
    },
    {
     "name": "stderr",
     "output_type": "stream",
     "text": [
      "c:\\Users\\asus\\Documents\\PYTHON_PROJECT\\env\\Lib\\site-packages\\sklearn\\linear_model\\_sag.py:349: ConvergenceWarning: The max_iter was reached which means the coef_ did not converge\n",
      "  warnings.warn(\n"
     ]
    },
    {
     "name": "stdout",
     "output_type": "stream",
     "text": [
      "[CV] END ....C=0.0001, max_iter=500, penalty=l1, solver=saga; total time=  13.8s\n"
     ]
    },
    {
     "name": "stderr",
     "output_type": "stream",
     "text": [
      "c:\\Users\\asus\\Documents\\PYTHON_PROJECT\\env\\Lib\\site-packages\\sklearn\\linear_model\\_sag.py:349: ConvergenceWarning: The max_iter was reached which means the coef_ did not converge\n",
      "  warnings.warn(\n"
     ]
    },
    {
     "name": "stdout",
     "output_type": "stream",
     "text": [
      "[CV] END ....C=0.0001, max_iter=500, penalty=l1, solver=saga; total time=  13.6s\n"
     ]
    },
    {
     "name": "stderr",
     "output_type": "stream",
     "text": [
      "c:\\Users\\asus\\Documents\\PYTHON_PROJECT\\env\\Lib\\site-packages\\sklearn\\linear_model\\_sag.py:349: ConvergenceWarning: The max_iter was reached which means the coef_ did not converge\n",
      "  warnings.warn(\n"
     ]
    },
    {
     "name": "stdout",
     "output_type": "stream",
     "text": [
      "[CV] END ....C=0.0001, max_iter=500, penalty=l1, solver=saga; total time=  14.0s\n"
     ]
    },
    {
     "name": "stderr",
     "output_type": "stream",
     "text": [
      "c:\\Users\\asus\\Documents\\PYTHON_PROJECT\\env\\Lib\\site-packages\\sklearn\\linear_model\\_sag.py:349: ConvergenceWarning: The max_iter was reached which means the coef_ did not converge\n",
      "  warnings.warn(\n"
     ]
    },
    {
     "name": "stdout",
     "output_type": "stream",
     "text": [
      "[CV] END ....C=0.0001, max_iter=500, penalty=l1, solver=saga; total time=  12.9s\n"
     ]
    },
    {
     "name": "stderr",
     "output_type": "stream",
     "text": [
      "c:\\Users\\asus\\Documents\\PYTHON_PROJECT\\env\\Lib\\site-packages\\sklearn\\linear_model\\_sag.py:349: ConvergenceWarning: The max_iter was reached which means the coef_ did not converge\n",
      "  warnings.warn(\n"
     ]
    },
    {
     "name": "stdout",
     "output_type": "stream",
     "text": [
      "[CV] END ....C=0.0001, max_iter=500, penalty=l1, solver=saga; total time=  12.9s\n"
     ]
    },
    {
     "name": "stderr",
     "output_type": "stream",
     "text": [
      "c:\\Users\\asus\\Documents\\PYTHON_PROJECT\\env\\Lib\\site-packages\\sklearn\\linear_model\\_sag.py:349: ConvergenceWarning: The max_iter was reached which means the coef_ did not converge\n",
      "  warnings.warn(\n"
     ]
    },
    {
     "name": "stdout",
     "output_type": "stream",
     "text": [
      "[CV] END C=166.81005372000558, max_iter=1000, penalty=l1, solver=saga; total time=  29.0s\n"
     ]
    },
    {
     "name": "stderr",
     "output_type": "stream",
     "text": [
      "c:\\Users\\asus\\Documents\\PYTHON_PROJECT\\env\\Lib\\site-packages\\sklearn\\linear_model\\_sag.py:349: ConvergenceWarning: The max_iter was reached which means the coef_ did not converge\n",
      "  warnings.warn(\n"
     ]
    },
    {
     "name": "stdout",
     "output_type": "stream",
     "text": [
      "[CV] END C=166.81005372000558, max_iter=1000, penalty=l1, solver=saga; total time=  28.7s\n"
     ]
    },
    {
     "name": "stderr",
     "output_type": "stream",
     "text": [
      "c:\\Users\\asus\\Documents\\PYTHON_PROJECT\\env\\Lib\\site-packages\\sklearn\\linear_model\\_sag.py:349: ConvergenceWarning: The max_iter was reached which means the coef_ did not converge\n",
      "  warnings.warn(\n"
     ]
    },
    {
     "name": "stdout",
     "output_type": "stream",
     "text": [
      "[CV] END C=166.81005372000558, max_iter=1000, penalty=l1, solver=saga; total time=  33.8s\n"
     ]
    },
    {
     "name": "stderr",
     "output_type": "stream",
     "text": [
      "c:\\Users\\asus\\Documents\\PYTHON_PROJECT\\env\\Lib\\site-packages\\sklearn\\linear_model\\_sag.py:349: ConvergenceWarning: The max_iter was reached which means the coef_ did not converge\n",
      "  warnings.warn(\n"
     ]
    },
    {
     "name": "stdout",
     "output_type": "stream",
     "text": [
      "[CV] END C=166.81005372000558, max_iter=1000, penalty=l1, solver=saga; total time=  29.5s\n"
     ]
    },
    {
     "name": "stderr",
     "output_type": "stream",
     "text": [
      "c:\\Users\\asus\\Documents\\PYTHON_PROJECT\\env\\Lib\\site-packages\\sklearn\\linear_model\\_sag.py:349: ConvergenceWarning: The max_iter was reached which means the coef_ did not converge\n",
      "  warnings.warn(\n"
     ]
    },
    {
     "name": "stdout",
     "output_type": "stream",
     "text": [
      "[CV] END C=166.81005372000558, max_iter=1000, penalty=l1, solver=saga; total time=  29.4s\n"
     ]
    },
    {
     "name": "stderr",
     "output_type": "stream",
     "text": [
      "c:\\Users\\asus\\Documents\\PYTHON_PROJECT\\env\\Lib\\site-packages\\sklearn\\linear_model\\_sag.py:349: ConvergenceWarning: The max_iter was reached which means the coef_ did not converge\n",
      "  warnings.warn(\n"
     ]
    },
    {
     "name": "stdout",
     "output_type": "stream",
     "text": [
      "[CV] END C=1291.5496650148827, max_iter=2000, penalty=l1, solver=saga; total time=  57.2s\n"
     ]
    },
    {
     "name": "stderr",
     "output_type": "stream",
     "text": [
      "c:\\Users\\asus\\Documents\\PYTHON_PROJECT\\env\\Lib\\site-packages\\sklearn\\linear_model\\_sag.py:349: ConvergenceWarning: The max_iter was reached which means the coef_ did not converge\n",
      "  warnings.warn(\n"
     ]
    },
    {
     "name": "stdout",
     "output_type": "stream",
     "text": [
      "[CV] END C=1291.5496650148827, max_iter=2000, penalty=l1, solver=saga; total time=  57.4s\n"
     ]
    },
    {
     "name": "stderr",
     "output_type": "stream",
     "text": [
      "c:\\Users\\asus\\Documents\\PYTHON_PROJECT\\env\\Lib\\site-packages\\sklearn\\linear_model\\_sag.py:349: ConvergenceWarning: The max_iter was reached which means the coef_ did not converge\n",
      "  warnings.warn(\n"
     ]
    },
    {
     "name": "stdout",
     "output_type": "stream",
     "text": [
      "[CV] END C=1291.5496650148827, max_iter=2000, penalty=l1, solver=saga; total time= 1.2min\n"
     ]
    },
    {
     "name": "stderr",
     "output_type": "stream",
     "text": [
      "c:\\Users\\asus\\Documents\\PYTHON_PROJECT\\env\\Lib\\site-packages\\sklearn\\linear_model\\_sag.py:349: ConvergenceWarning: The max_iter was reached which means the coef_ did not converge\n",
      "  warnings.warn(\n"
     ]
    },
    {
     "name": "stdout",
     "output_type": "stream",
     "text": [
      "[CV] END C=1291.5496650148827, max_iter=2000, penalty=l1, solver=saga; total time= 1.4min\n"
     ]
    },
    {
     "name": "stderr",
     "output_type": "stream",
     "text": [
      "c:\\Users\\asus\\Documents\\PYTHON_PROJECT\\env\\Lib\\site-packages\\sklearn\\linear_model\\_sag.py:349: ConvergenceWarning: The max_iter was reached which means the coef_ did not converge\n",
      "  warnings.warn(\n",
      "c:\\Users\\asus\\Documents\\PYTHON_PROJECT\\env\\Lib\\site-packages\\sklearn\\linear_model\\_logistic.py:1271: UserWarning: 'n_jobs' > 1 does not have any effect when 'solver' is set to 'liblinear'. Got 'n_jobs' = 8.\n",
      "  warnings.warn(\n"
     ]
    },
    {
     "name": "stdout",
     "output_type": "stream",
     "text": [
      "[CV] END C=1291.5496650148827, max_iter=2000, penalty=l1, solver=saga; total time= 1.4min\n",
      "[CV] END C=2.782559402207126, max_iter=1000, penalty=l1, solver=liblinear; total time=   1.1s\n"
     ]
    },
    {
     "name": "stderr",
     "output_type": "stream",
     "text": [
      "c:\\Users\\asus\\Documents\\PYTHON_PROJECT\\env\\Lib\\site-packages\\sklearn\\linear_model\\_logistic.py:1271: UserWarning: 'n_jobs' > 1 does not have any effect when 'solver' is set to 'liblinear'. Got 'n_jobs' = 8.\n",
      "  warnings.warn(\n"
     ]
    },
    {
     "name": "stdout",
     "output_type": "stream",
     "text": [
      "[CV] END C=2.782559402207126, max_iter=1000, penalty=l1, solver=liblinear; total time=   1.7s\n"
     ]
    },
    {
     "name": "stderr",
     "output_type": "stream",
     "text": [
      "c:\\Users\\asus\\Documents\\PYTHON_PROJECT\\env\\Lib\\site-packages\\sklearn\\linear_model\\_logistic.py:1271: UserWarning: 'n_jobs' > 1 does not have any effect when 'solver' is set to 'liblinear'. Got 'n_jobs' = 8.\n",
      "  warnings.warn(\n"
     ]
    },
    {
     "name": "stdout",
     "output_type": "stream",
     "text": [
      "[CV] END C=2.782559402207126, max_iter=1000, penalty=l1, solver=liblinear; total time=   1.6s\n"
     ]
    },
    {
     "name": "stderr",
     "output_type": "stream",
     "text": [
      "c:\\Users\\asus\\Documents\\PYTHON_PROJECT\\env\\Lib\\site-packages\\sklearn\\linear_model\\_logistic.py:1271: UserWarning: 'n_jobs' > 1 does not have any effect when 'solver' is set to 'liblinear'. Got 'n_jobs' = 8.\n",
      "  warnings.warn(\n"
     ]
    },
    {
     "name": "stdout",
     "output_type": "stream",
     "text": [
      "[CV] END C=2.782559402207126, max_iter=1000, penalty=l1, solver=liblinear; total time=   1.0s\n"
     ]
    },
    {
     "name": "stderr",
     "output_type": "stream",
     "text": [
      "c:\\Users\\asus\\Documents\\PYTHON_PROJECT\\env\\Lib\\site-packages\\sklearn\\linear_model\\_logistic.py:1271: UserWarning: 'n_jobs' > 1 does not have any effect when 'solver' is set to 'liblinear'. Got 'n_jobs' = 8.\n",
      "  warnings.warn(\n"
     ]
    },
    {
     "name": "stdout",
     "output_type": "stream",
     "text": [
      "[CV] END C=2.782559402207126, max_iter=1000, penalty=l1, solver=liblinear; total time=   1.3s\n"
     ]
    },
    {
     "name": "stderr",
     "output_type": "stream",
     "text": [
      "c:\\Users\\asus\\Documents\\PYTHON_PROJECT\\env\\Lib\\site-packages\\sklearn\\linear_model\\_logistic.py:1271: UserWarning: 'n_jobs' > 1 does not have any effect when 'solver' is set to 'liblinear'. Got 'n_jobs' = 8.\n",
      "  warnings.warn(\n"
     ]
    },
    {
     "name": "stdout",
     "output_type": "stream",
     "text": [
      "[CV] END C=0.046415888336127774, max_iter=2000, penalty=l1, solver=liblinear; total time=   1.1s\n"
     ]
    },
    {
     "name": "stderr",
     "output_type": "stream",
     "text": [
      "c:\\Users\\asus\\Documents\\PYTHON_PROJECT\\env\\Lib\\site-packages\\sklearn\\linear_model\\_logistic.py:1271: UserWarning: 'n_jobs' > 1 does not have any effect when 'solver' is set to 'liblinear'. Got 'n_jobs' = 8.\n",
      "  warnings.warn(\n"
     ]
    },
    {
     "name": "stdout",
     "output_type": "stream",
     "text": [
      "[CV] END C=0.046415888336127774, max_iter=2000, penalty=l1, solver=liblinear; total time=   1.3s\n"
     ]
    },
    {
     "name": "stderr",
     "output_type": "stream",
     "text": [
      "c:\\Users\\asus\\Documents\\PYTHON_PROJECT\\env\\Lib\\site-packages\\sklearn\\linear_model\\_logistic.py:1271: UserWarning: 'n_jobs' > 1 does not have any effect when 'solver' is set to 'liblinear'. Got 'n_jobs' = 8.\n",
      "  warnings.warn(\n"
     ]
    },
    {
     "name": "stdout",
     "output_type": "stream",
     "text": [
      "[CV] END C=0.046415888336127774, max_iter=2000, penalty=l1, solver=liblinear; total time=   1.7s\n"
     ]
    },
    {
     "name": "stderr",
     "output_type": "stream",
     "text": [
      "c:\\Users\\asus\\Documents\\PYTHON_PROJECT\\env\\Lib\\site-packages\\sklearn\\linear_model\\_logistic.py:1271: UserWarning: 'n_jobs' > 1 does not have any effect when 'solver' is set to 'liblinear'. Got 'n_jobs' = 8.\n",
      "  warnings.warn(\n"
     ]
    },
    {
     "name": "stdout",
     "output_type": "stream",
     "text": [
      "[CV] END C=0.046415888336127774, max_iter=2000, penalty=l1, solver=liblinear; total time=   1.0s\n"
     ]
    },
    {
     "name": "stderr",
     "output_type": "stream",
     "text": [
      "c:\\Users\\asus\\Documents\\PYTHON_PROJECT\\env\\Lib\\site-packages\\sklearn\\linear_model\\_logistic.py:1271: UserWarning: 'n_jobs' > 1 does not have any effect when 'solver' is set to 'liblinear'. Got 'n_jobs' = 8.\n",
      "  warnings.warn(\n"
     ]
    },
    {
     "name": "stdout",
     "output_type": "stream",
     "text": [
      "[CV] END C=0.046415888336127774, max_iter=2000, penalty=l1, solver=liblinear; total time=   1.1s\n"
     ]
    },
    {
     "name": "stderr",
     "output_type": "stream",
     "text": [
      "c:\\Users\\asus\\Documents\\PYTHON_PROJECT\\env\\Lib\\site-packages\\sklearn\\linear_model\\_logistic.py:1271: UserWarning: 'n_jobs' > 1 does not have any effect when 'solver' is set to 'liblinear'. Got 'n_jobs' = 8.\n",
      "  warnings.warn(\n"
     ]
    },
    {
     "name": "stdout",
     "output_type": "stream",
     "text": [
      "[CV] END C=0.005994842503189409, max_iter=1000, penalty=l2, solver=liblinear; total time=   2.0s\n"
     ]
    },
    {
     "name": "stderr",
     "output_type": "stream",
     "text": [
      "c:\\Users\\asus\\Documents\\PYTHON_PROJECT\\env\\Lib\\site-packages\\sklearn\\linear_model\\_logistic.py:1271: UserWarning: 'n_jobs' > 1 does not have any effect when 'solver' is set to 'liblinear'. Got 'n_jobs' = 8.\n",
      "  warnings.warn(\n"
     ]
    },
    {
     "name": "stdout",
     "output_type": "stream",
     "text": [
      "[CV] END C=0.005994842503189409, max_iter=1000, penalty=l2, solver=liblinear; total time=   1.2s\n"
     ]
    },
    {
     "name": "stderr",
     "output_type": "stream",
     "text": [
      "c:\\Users\\asus\\Documents\\PYTHON_PROJECT\\env\\Lib\\site-packages\\sklearn\\linear_model\\_logistic.py:1271: UserWarning: 'n_jobs' > 1 does not have any effect when 'solver' is set to 'liblinear'. Got 'n_jobs' = 8.\n",
      "  warnings.warn(\n"
     ]
    },
    {
     "name": "stdout",
     "output_type": "stream",
     "text": [
      "[CV] END C=0.005994842503189409, max_iter=1000, penalty=l2, solver=liblinear; total time=   1.3s\n"
     ]
    },
    {
     "name": "stderr",
     "output_type": "stream",
     "text": [
      "c:\\Users\\asus\\Documents\\PYTHON_PROJECT\\env\\Lib\\site-packages\\sklearn\\linear_model\\_logistic.py:1271: UserWarning: 'n_jobs' > 1 does not have any effect when 'solver' is set to 'liblinear'. Got 'n_jobs' = 8.\n",
      "  warnings.warn(\n"
     ]
    },
    {
     "name": "stdout",
     "output_type": "stream",
     "text": [
      "[CV] END C=0.005994842503189409, max_iter=1000, penalty=l2, solver=liblinear; total time=   1.7s\n"
     ]
    },
    {
     "name": "stderr",
     "output_type": "stream",
     "text": [
      "c:\\Users\\asus\\Documents\\PYTHON_PROJECT\\env\\Lib\\site-packages\\sklearn\\linear_model\\_logistic.py:1271: UserWarning: 'n_jobs' > 1 does not have any effect when 'solver' is set to 'liblinear'. Got 'n_jobs' = 8.\n",
      "  warnings.warn(\n"
     ]
    },
    {
     "name": "stdout",
     "output_type": "stream",
     "text": [
      "[CV] END C=0.005994842503189409, max_iter=1000, penalty=l2, solver=liblinear; total time=   1.8s\n"
     ]
    },
    {
     "name": "stderr",
     "output_type": "stream",
     "text": [
      "c:\\Users\\asus\\Documents\\PYTHON_PROJECT\\env\\Lib\\site-packages\\sklearn\\linear_model\\_sag.py:349: ConvergenceWarning: The max_iter was reached which means the coef_ did not converge\n",
      "  warnings.warn(\n"
     ]
    },
    {
     "name": "stdout",
     "output_type": "stream",
     "text": [
      "[CV] END C=2.782559402207126, max_iter=2000, penalty=l2, solver=saga; total time= 1.2min\n"
     ]
    },
    {
     "name": "stderr",
     "output_type": "stream",
     "text": [
      "c:\\Users\\asus\\Documents\\PYTHON_PROJECT\\env\\Lib\\site-packages\\sklearn\\linear_model\\_sag.py:349: ConvergenceWarning: The max_iter was reached which means the coef_ did not converge\n",
      "  warnings.warn(\n"
     ]
    },
    {
     "name": "stdout",
     "output_type": "stream",
     "text": [
      "[CV] END C=2.782559402207126, max_iter=2000, penalty=l2, solver=saga; total time= 1.4min\n"
     ]
    },
    {
     "name": "stderr",
     "output_type": "stream",
     "text": [
      "c:\\Users\\asus\\Documents\\PYTHON_PROJECT\\env\\Lib\\site-packages\\sklearn\\linear_model\\_sag.py:349: ConvergenceWarning: The max_iter was reached which means the coef_ did not converge\n",
      "  warnings.warn(\n"
     ]
    },
    {
     "name": "stdout",
     "output_type": "stream",
     "text": [
      "[CV] END C=2.782559402207126, max_iter=2000, penalty=l2, solver=saga; total time= 1.4min\n"
     ]
    },
    {
     "name": "stderr",
     "output_type": "stream",
     "text": [
      "c:\\Users\\asus\\Documents\\PYTHON_PROJECT\\env\\Lib\\site-packages\\sklearn\\linear_model\\_sag.py:349: ConvergenceWarning: The max_iter was reached which means the coef_ did not converge\n",
      "  warnings.warn(\n"
     ]
    },
    {
     "name": "stdout",
     "output_type": "stream",
     "text": [
      "[CV] END C=2.782559402207126, max_iter=2000, penalty=l2, solver=saga; total time= 1.2min\n"
     ]
    },
    {
     "name": "stderr",
     "output_type": "stream",
     "text": [
      "c:\\Users\\asus\\Documents\\PYTHON_PROJECT\\env\\Lib\\site-packages\\sklearn\\linear_model\\_sag.py:349: ConvergenceWarning: The max_iter was reached which means the coef_ did not converge\n",
      "  warnings.warn(\n"
     ]
    },
    {
     "name": "stdout",
     "output_type": "stream",
     "text": [
      "[CV] END C=2.782559402207126, max_iter=2000, penalty=l2, solver=saga; total time= 1.1min\n"
     ]
    },
    {
     "name": "stderr",
     "output_type": "stream",
     "text": [
      "c:\\Users\\asus\\Documents\\PYTHON_PROJECT\\env\\Lib\\site-packages\\sklearn\\linear_model\\_sag.py:349: ConvergenceWarning: The max_iter was reached which means the coef_ did not converge\n",
      "  warnings.warn(\n"
     ]
    },
    {
     "name": "stdout",
     "output_type": "stream",
     "text": [
      "[CV] END C=0.046415888336127774, max_iter=1000, penalty=l2, solver=saga; total time=  34.4s\n"
     ]
    },
    {
     "name": "stderr",
     "output_type": "stream",
     "text": [
      "c:\\Users\\asus\\Documents\\PYTHON_PROJECT\\env\\Lib\\site-packages\\sklearn\\linear_model\\_sag.py:349: ConvergenceWarning: The max_iter was reached which means the coef_ did not converge\n",
      "  warnings.warn(\n"
     ]
    },
    {
     "name": "stdout",
     "output_type": "stream",
     "text": [
      "[CV] END C=0.046415888336127774, max_iter=1000, penalty=l2, solver=saga; total time=  33.5s\n"
     ]
    },
    {
     "name": "stderr",
     "output_type": "stream",
     "text": [
      "c:\\Users\\asus\\Documents\\PYTHON_PROJECT\\env\\Lib\\site-packages\\sklearn\\linear_model\\_sag.py:349: ConvergenceWarning: The max_iter was reached which means the coef_ did not converge\n",
      "  warnings.warn(\n"
     ]
    },
    {
     "name": "stdout",
     "output_type": "stream",
     "text": [
      "[CV] END C=0.046415888336127774, max_iter=1000, penalty=l2, solver=saga; total time=  34.0s\n"
     ]
    },
    {
     "name": "stderr",
     "output_type": "stream",
     "text": [
      "c:\\Users\\asus\\Documents\\PYTHON_PROJECT\\env\\Lib\\site-packages\\sklearn\\linear_model\\_sag.py:349: ConvergenceWarning: The max_iter was reached which means the coef_ did not converge\n",
      "  warnings.warn(\n"
     ]
    },
    {
     "name": "stdout",
     "output_type": "stream",
     "text": [
      "[CV] END C=0.046415888336127774, max_iter=1000, penalty=l2, solver=saga; total time=  33.3s\n"
     ]
    },
    {
     "name": "stderr",
     "output_type": "stream",
     "text": [
      "c:\\Users\\asus\\Documents\\PYTHON_PROJECT\\env\\Lib\\site-packages\\sklearn\\linear_model\\_sag.py:349: ConvergenceWarning: The max_iter was reached which means the coef_ did not converge\n",
      "  warnings.warn(\n"
     ]
    },
    {
     "name": "stdout",
     "output_type": "stream",
     "text": [
      "[CV] END C=0.046415888336127774, max_iter=1000, penalty=l2, solver=saga; total time=  34.8s\n"
     ]
    },
    {
     "name": "stderr",
     "output_type": "stream",
     "text": [
      "c:\\Users\\asus\\Documents\\PYTHON_PROJECT\\env\\Lib\\site-packages\\sklearn\\linear_model\\_sag.py:349: ConvergenceWarning: The max_iter was reached which means the coef_ did not converge\n",
      "  warnings.warn(\n"
     ]
    },
    {
     "name": "stdout",
     "output_type": "stream",
     "text": [
      "[CV] END C=0.000774263682681127, max_iter=500, penalty=l1, solver=saga; total time=  19.9s\n"
     ]
    },
    {
     "name": "stderr",
     "output_type": "stream",
     "text": [
      "c:\\Users\\asus\\Documents\\PYTHON_PROJECT\\env\\Lib\\site-packages\\sklearn\\linear_model\\_sag.py:349: ConvergenceWarning: The max_iter was reached which means the coef_ did not converge\n",
      "  warnings.warn(\n"
     ]
    },
    {
     "name": "stdout",
     "output_type": "stream",
     "text": [
      "[CV] END C=0.000774263682681127, max_iter=500, penalty=l1, solver=saga; total time=  19.9s\n"
     ]
    },
    {
     "name": "stderr",
     "output_type": "stream",
     "text": [
      "c:\\Users\\asus\\Documents\\PYTHON_PROJECT\\env\\Lib\\site-packages\\sklearn\\linear_model\\_sag.py:349: ConvergenceWarning: The max_iter was reached which means the coef_ did not converge\n",
      "  warnings.warn(\n"
     ]
    },
    {
     "name": "stdout",
     "output_type": "stream",
     "text": [
      "[CV] END C=0.000774263682681127, max_iter=500, penalty=l1, solver=saga; total time=  20.7s\n"
     ]
    },
    {
     "name": "stderr",
     "output_type": "stream",
     "text": [
      "c:\\Users\\asus\\Documents\\PYTHON_PROJECT\\env\\Lib\\site-packages\\sklearn\\linear_model\\_sag.py:349: ConvergenceWarning: The max_iter was reached which means the coef_ did not converge\n",
      "  warnings.warn(\n"
     ]
    },
    {
     "name": "stdout",
     "output_type": "stream",
     "text": [
      "[CV] END C=0.000774263682681127, max_iter=500, penalty=l1, solver=saga; total time=  20.7s\n"
     ]
    },
    {
     "name": "stderr",
     "output_type": "stream",
     "text": [
      "c:\\Users\\asus\\Documents\\PYTHON_PROJECT\\env\\Lib\\site-packages\\sklearn\\linear_model\\_sag.py:349: ConvergenceWarning: The max_iter was reached which means the coef_ did not converge\n",
      "  warnings.warn(\n",
      "c:\\Users\\asus\\Documents\\PYTHON_PROJECT\\env\\Lib\\site-packages\\sklearn\\linear_model\\_logistic.py:1271: UserWarning: 'n_jobs' > 1 does not have any effect when 'solver' is set to 'liblinear'. Got 'n_jobs' = 8.\n",
      "  warnings.warn(\n"
     ]
    },
    {
     "name": "stdout",
     "output_type": "stream",
     "text": [
      "[CV] END C=0.000774263682681127, max_iter=500, penalty=l1, solver=saga; total time=  20.1s\n",
      "[CV] END C=0.000774263682681127, max_iter=500, penalty=l2, solver=liblinear; total time=   0.9s\n"
     ]
    },
    {
     "name": "stderr",
     "output_type": "stream",
     "text": [
      "c:\\Users\\asus\\Documents\\PYTHON_PROJECT\\env\\Lib\\site-packages\\sklearn\\linear_model\\_logistic.py:1271: UserWarning: 'n_jobs' > 1 does not have any effect when 'solver' is set to 'liblinear'. Got 'n_jobs' = 8.\n",
      "  warnings.warn(\n"
     ]
    },
    {
     "name": "stdout",
     "output_type": "stream",
     "text": [
      "[CV] END C=0.000774263682681127, max_iter=500, penalty=l2, solver=liblinear; total time=   1.0s\n"
     ]
    },
    {
     "name": "stderr",
     "output_type": "stream",
     "text": [
      "c:\\Users\\asus\\Documents\\PYTHON_PROJECT\\env\\Lib\\site-packages\\sklearn\\linear_model\\_logistic.py:1271: UserWarning: 'n_jobs' > 1 does not have any effect when 'solver' is set to 'liblinear'. Got 'n_jobs' = 8.\n",
      "  warnings.warn(\n"
     ]
    },
    {
     "name": "stdout",
     "output_type": "stream",
     "text": [
      "[CV] END C=0.000774263682681127, max_iter=500, penalty=l2, solver=liblinear; total time=   1.0s\n"
     ]
    },
    {
     "name": "stderr",
     "output_type": "stream",
     "text": [
      "c:\\Users\\asus\\Documents\\PYTHON_PROJECT\\env\\Lib\\site-packages\\sklearn\\linear_model\\_logistic.py:1271: UserWarning: 'n_jobs' > 1 does not have any effect when 'solver' is set to 'liblinear'. Got 'n_jobs' = 8.\n",
      "  warnings.warn(\n"
     ]
    },
    {
     "name": "stdout",
     "output_type": "stream",
     "text": [
      "[CV] END C=0.000774263682681127, max_iter=500, penalty=l2, solver=liblinear; total time=   1.2s\n"
     ]
    },
    {
     "name": "stderr",
     "output_type": "stream",
     "text": [
      "c:\\Users\\asus\\Documents\\PYTHON_PROJECT\\env\\Lib\\site-packages\\sklearn\\linear_model\\_logistic.py:1271: UserWarning: 'n_jobs' > 1 does not have any effect when 'solver' is set to 'liblinear'. Got 'n_jobs' = 8.\n",
      "  warnings.warn(\n"
     ]
    },
    {
     "name": "stdout",
     "output_type": "stream",
     "text": [
      "[CV] END C=0.000774263682681127, max_iter=500, penalty=l2, solver=liblinear; total time=   0.9s\n"
     ]
    },
    {
     "name": "stderr",
     "output_type": "stream",
     "text": [
      "c:\\Users\\asus\\Documents\\PYTHON_PROJECT\\env\\Lib\\site-packages\\sklearn\\linear_model\\_sag.py:349: ConvergenceWarning: The max_iter was reached which means the coef_ did not converge\n",
      "  warnings.warn(\n"
     ]
    },
    {
     "name": "stdout",
     "output_type": "stream",
     "text": [
      "[CV] END ..C=10000.0, max_iter=1000, penalty=l2, solver=saga; total time=  33.7s\n"
     ]
    },
    {
     "name": "stderr",
     "output_type": "stream",
     "text": [
      "c:\\Users\\asus\\Documents\\PYTHON_PROJECT\\env\\Lib\\site-packages\\sklearn\\linear_model\\_sag.py:349: ConvergenceWarning: The max_iter was reached which means the coef_ did not converge\n",
      "  warnings.warn(\n"
     ]
    },
    {
     "name": "stdout",
     "output_type": "stream",
     "text": [
      "[CV] END ..C=10000.0, max_iter=1000, penalty=l2, solver=saga; total time=  33.7s\n"
     ]
    },
    {
     "name": "stderr",
     "output_type": "stream",
     "text": [
      "c:\\Users\\asus\\Documents\\PYTHON_PROJECT\\env\\Lib\\site-packages\\sklearn\\linear_model\\_sag.py:349: ConvergenceWarning: The max_iter was reached which means the coef_ did not converge\n",
      "  warnings.warn(\n"
     ]
    },
    {
     "name": "stdout",
     "output_type": "stream",
     "text": [
      "[CV] END ..C=10000.0, max_iter=1000, penalty=l2, solver=saga; total time=  34.1s\n"
     ]
    },
    {
     "name": "stderr",
     "output_type": "stream",
     "text": [
      "c:\\Users\\asus\\Documents\\PYTHON_PROJECT\\env\\Lib\\site-packages\\sklearn\\linear_model\\_sag.py:349: ConvergenceWarning: The max_iter was reached which means the coef_ did not converge\n",
      "  warnings.warn(\n"
     ]
    },
    {
     "name": "stdout",
     "output_type": "stream",
     "text": [
      "[CV] END ..C=10000.0, max_iter=1000, penalty=l2, solver=saga; total time=  24.1s\n"
     ]
    },
    {
     "name": "stderr",
     "output_type": "stream",
     "text": [
      "c:\\Users\\asus\\Documents\\PYTHON_PROJECT\\env\\Lib\\site-packages\\sklearn\\linear_model\\_sag.py:349: ConvergenceWarning: The max_iter was reached which means the coef_ did not converge\n",
      "  warnings.warn(\n"
     ]
    },
    {
     "name": "stdout",
     "output_type": "stream",
     "text": [
      "[CV] END ..C=10000.0, max_iter=1000, penalty=l2, solver=saga; total time=  22.0s\n"
     ]
    },
    {
     "name": "stderr",
     "output_type": "stream",
     "text": [
      "c:\\Users\\asus\\Documents\\PYTHON_PROJECT\\env\\Lib\\site-packages\\sklearn\\linear_model\\_sag.py:349: ConvergenceWarning: The max_iter was reached which means the coef_ did not converge\n",
      "  warnings.warn(\n"
     ]
    },
    {
     "name": "stdout",
     "output_type": "stream",
     "text": [
      "[CV] END C=21.54434690031882, max_iter=1000, penalty=l1, solver=saga; total time=  28.2s\n"
     ]
    },
    {
     "name": "stderr",
     "output_type": "stream",
     "text": [
      "c:\\Users\\asus\\Documents\\PYTHON_PROJECT\\env\\Lib\\site-packages\\sklearn\\linear_model\\_sag.py:349: ConvergenceWarning: The max_iter was reached which means the coef_ did not converge\n",
      "  warnings.warn(\n"
     ]
    },
    {
     "name": "stdout",
     "output_type": "stream",
     "text": [
      "[CV] END C=21.54434690031882, max_iter=1000, penalty=l1, solver=saga; total time=  36.5s\n"
     ]
    },
    {
     "name": "stderr",
     "output_type": "stream",
     "text": [
      "c:\\Users\\asus\\Documents\\PYTHON_PROJECT\\env\\Lib\\site-packages\\sklearn\\linear_model\\_sag.py:349: ConvergenceWarning: The max_iter was reached which means the coef_ did not converge\n",
      "  warnings.warn(\n"
     ]
    },
    {
     "name": "stdout",
     "output_type": "stream",
     "text": [
      "[CV] END C=21.54434690031882, max_iter=1000, penalty=l1, solver=saga; total time=  44.0s\n"
     ]
    },
    {
     "name": "stderr",
     "output_type": "stream",
     "text": [
      "c:\\Users\\asus\\Documents\\PYTHON_PROJECT\\env\\Lib\\site-packages\\sklearn\\linear_model\\_sag.py:349: ConvergenceWarning: The max_iter was reached which means the coef_ did not converge\n",
      "  warnings.warn(\n"
     ]
    },
    {
     "name": "stdout",
     "output_type": "stream",
     "text": [
      "[CV] END C=21.54434690031882, max_iter=1000, penalty=l1, solver=saga; total time=  44.6s\n"
     ]
    },
    {
     "name": "stderr",
     "output_type": "stream",
     "text": [
      "c:\\Users\\asus\\Documents\\PYTHON_PROJECT\\env\\Lib\\site-packages\\sklearn\\linear_model\\_sag.py:349: ConvergenceWarning: The max_iter was reached which means the coef_ did not converge\n",
      "  warnings.warn(\n",
      "c:\\Users\\asus\\Documents\\PYTHON_PROJECT\\env\\Lib\\site-packages\\sklearn\\linear_model\\_logistic.py:1271: UserWarning: 'n_jobs' > 1 does not have any effect when 'solver' is set to 'liblinear'. Got 'n_jobs' = 8.\n",
      "  warnings.warn(\n"
     ]
    },
    {
     "name": "stdout",
     "output_type": "stream",
     "text": [
      "[CV] END C=21.54434690031882, max_iter=1000, penalty=l1, solver=saga; total time=  33.1s\n",
      "[CV] END C=1291.5496650148827, max_iter=500, penalty=l1, solver=liblinear; total time=   0.8s\n"
     ]
    },
    {
     "name": "stderr",
     "output_type": "stream",
     "text": [
      "c:\\Users\\asus\\Documents\\PYTHON_PROJECT\\env\\Lib\\site-packages\\sklearn\\linear_model\\_logistic.py:1271: UserWarning: 'n_jobs' > 1 does not have any effect when 'solver' is set to 'liblinear'. Got 'n_jobs' = 8.\n",
      "  warnings.warn(\n"
     ]
    },
    {
     "name": "stdout",
     "output_type": "stream",
     "text": [
      "[CV] END C=1291.5496650148827, max_iter=500, penalty=l1, solver=liblinear; total time=   0.7s\n"
     ]
    },
    {
     "name": "stderr",
     "output_type": "stream",
     "text": [
      "c:\\Users\\asus\\Documents\\PYTHON_PROJECT\\env\\Lib\\site-packages\\sklearn\\linear_model\\_logistic.py:1271: UserWarning: 'n_jobs' > 1 does not have any effect when 'solver' is set to 'liblinear'. Got 'n_jobs' = 8.\n",
      "  warnings.warn(\n"
     ]
    },
    {
     "name": "stdout",
     "output_type": "stream",
     "text": [
      "[CV] END C=1291.5496650148827, max_iter=500, penalty=l1, solver=liblinear; total time=   0.7s\n"
     ]
    },
    {
     "name": "stderr",
     "output_type": "stream",
     "text": [
      "c:\\Users\\asus\\Documents\\PYTHON_PROJECT\\env\\Lib\\site-packages\\sklearn\\linear_model\\_logistic.py:1271: UserWarning: 'n_jobs' > 1 does not have any effect when 'solver' is set to 'liblinear'. Got 'n_jobs' = 8.\n",
      "  warnings.warn(\n"
     ]
    },
    {
     "name": "stdout",
     "output_type": "stream",
     "text": [
      "[CV] END C=1291.5496650148827, max_iter=500, penalty=l1, solver=liblinear; total time=   0.5s\n"
     ]
    },
    {
     "name": "stderr",
     "output_type": "stream",
     "text": [
      "c:\\Users\\asus\\Documents\\PYTHON_PROJECT\\env\\Lib\\site-packages\\sklearn\\linear_model\\_logistic.py:1271: UserWarning: 'n_jobs' > 1 does not have any effect when 'solver' is set to 'liblinear'. Got 'n_jobs' = 8.\n",
      "  warnings.warn(\n"
     ]
    },
    {
     "name": "stdout",
     "output_type": "stream",
     "text": [
      "[CV] END C=1291.5496650148827, max_iter=500, penalty=l1, solver=liblinear; total time=   0.6s\n"
     ]
    },
    {
     "name": "stderr",
     "output_type": "stream",
     "text": [
      "c:\\Users\\asus\\Documents\\PYTHON_PROJECT\\env\\Lib\\site-packages\\sklearn\\linear_model\\_logistic.py:1271: UserWarning: 'n_jobs' > 1 does not have any effect when 'solver' is set to 'liblinear'. Got 'n_jobs' = 8.\n",
      "  warnings.warn(\n"
     ]
    }
   ],
   "source": [
    "start_time = time.time()\n",
    "\n",
    "np.random.seed(42)\n",
    "\n",
    "clf_lin = LogisticRegression(n_jobs=-1)\n",
    "\n",
    "n_iter = 30\n",
    "param_distributions_lin = {\n",
    "    'C': np.logspace(-4, 4, 10),\n",
    "    'penalty': ['l1', 'l2'],\n",
    "    'solver': ['saga', 'liblinear'],\n",
    "    'max_iter': [500, 1000, 2000]\n",
    "}\n",
    "rs_clf_lin = RandomizedSearchCV(estimator=clf_lin,\n",
    "                            param_distributions=param_distributions_lin,\n",
    "                            n_iter=n_iter,\n",
    "                            cv=5,\n",
    "                            verbose=2)\n",
    "\n",
    "rs_clf_lin.fit(X_train, y_train);\n",
    "\n",
    "end_time = time.time()"
   ]
  },
  {
   "cell_type": "markdown",
   "id": "e41e4225",
   "metadata": {},
   "source": [
    "# **8. Evaluasi Tuning**"
   ]
  },
  {
   "cell_type": "markdown",
   "id": "f0f1fbe2",
   "metadata": {},
   "source": [
    "Evaluasi Random Forest"
   ]
  },
  {
   "cell_type": "markdown",
   "id": "3ea6fcf3",
   "metadata": {},
   "source": [
    "parameter digunakan"
   ]
  },
  {
   "cell_type": "code",
   "execution_count": 52,
   "id": "cf1e3ab7",
   "metadata": {},
   "outputs": [
    {
     "data": {
      "text/plain": [
       "{'n_estimators': 1000,\n",
       " 'min_samples_split': 6,\n",
       " 'min_samples_leaf': 2,\n",
       " 'max_features': 'sqrt',\n",
       " 'max_depth': 30}"
      ]
     },
     "execution_count": 52,
     "metadata": {},
     "output_type": "execute_result"
    }
   ],
   "source": [
    "rs_clf.best_params_"
   ]
  },
  {
   "cell_type": "markdown",
   "id": "a8ee1157",
   "metadata": {},
   "source": [
    "Melakukan prediksi terhadap X_test serta akurasinya"
   ]
  },
  {
   "cell_type": "code",
   "execution_count": 53,
   "id": "de1288b7",
   "metadata": {},
   "outputs": [
    {
     "name": "stdout",
     "output_type": "stream",
     "text": [
      "Accurracy: 80.55%\n",
      "Precision: 0.7959134329862844\n",
      "Recall: 0.8054659550759486\n",
      "F1: 0.7909792258817554\n"
     ]
    }
   ],
   "source": [
    "rs_y_preds = rs_clf.predict(X_test)\n",
    "print(f\"Accurracy: {accuracy_score(y_test, rs_y_preds)*100:.2f}%\")\n",
    "print(f\"Precision: {precision_score(y_test, rs_y_preds, average='weighted')}\")\n",
    "print(f\"Recall: {recall_score(y_test, rs_y_preds, average='weighted')}\")\n",
    "print(f\"F1: {f1_score(y_test, rs_y_preds, average='weighted')}\")"
   ]
  },
  {
   "cell_type": "markdown",
   "id": "31d8551c",
   "metadata": {},
   "source": [
    "Akurasi pada classification report tidak berbeda jauh setelah proses tuning"
   ]
  },
  {
   "cell_type": "code",
   "execution_count": 54,
   "id": "03968b46",
   "metadata": {},
   "outputs": [
    {
     "name": "stdout",
     "output_type": "stream",
     "text": [
      "              precision    recall  f1-score   support\n",
      "\n",
      "           0       0.82      0.93      0.87     12371\n",
      "           1       0.72      0.47      0.57      4680\n",
      "\n",
      "    accuracy                           0.81     17051\n",
      "   macro avg       0.77      0.70      0.72     17051\n",
      "weighted avg       0.80      0.81      0.79     17051\n",
      "\n"
     ]
    }
   ],
   "source": [
    "print(classification_report(y_test, rs_y_preds))"
   ]
  },
  {
   "cell_type": "markdown",
   "id": "67e08f0a",
   "metadata": {},
   "source": [
    "Evaluasi Linear Regression"
   ]
  },
  {
   "cell_type": "markdown",
   "id": "35be15f4",
   "metadata": {},
   "source": [
    "Parameter terbaik"
   ]
  },
  {
   "cell_type": "code",
   "execution_count": 26,
   "id": "fca5d115",
   "metadata": {},
   "outputs": [
    {
     "data": {
      "text/plain": [
       "{'solver': 'liblinear', 'penalty': 'l1', 'max_iter': 500, 'C': 10000.0}"
      ]
     },
     "execution_count": 26,
     "metadata": {},
     "output_type": "execute_result"
    }
   ],
   "source": [
    "rs_clf_lin.best_params_"
   ]
  },
  {
   "cell_type": "markdown",
   "id": "703f867b",
   "metadata": {},
   "source": [
    "Melakukan prediksi terhadap X_test"
   ]
  },
  {
   "cell_type": "code",
   "execution_count": 27,
   "id": "081857f5",
   "metadata": {},
   "outputs": [
    {
     "name": "stdout",
     "output_type": "stream",
     "text": [
      "Accurracy: 75.75%\n",
      "Precision: 0.73765519066988\n",
      "Recall: 0.7574922291947687\n",
      "F1: 0.7158037220948258\n"
     ]
    }
   ],
   "source": [
    "lin_rs_y_preds = rs_clf_lin.predict(X_test)\n",
    "print(f\"Accurracy: {accuracy_score(y_test, lin_rs_y_preds)*100:.2f}%\")\n",
    "print(f\"Precision: {precision_score(y_test, lin_rs_y_preds, average='weighted')}\")\n",
    "print(f\"Recall: {recall_score(y_test, lin_rs_y_preds, average='weighted')}\")\n",
    "print(f\"F1: {f1_score(y_test, lin_rs_y_preds, average='weighted')}\")"
   ]
  },
  {
   "cell_type": "markdown",
   "id": "1cc5dfaa",
   "metadata": {},
   "source": [
    "Hasil tuning juga tidak berbeda jauh pada logistic regression"
   ]
  },
  {
   "cell_type": "code",
   "execution_count": 28,
   "id": "c9a120b1",
   "metadata": {},
   "outputs": [
    {
     "name": "stdout",
     "output_type": "stream",
     "text": [
      "              precision    recall  f1-score   support\n",
      "\n",
      "           0       0.77      0.95      0.85     12371\n",
      "           1       0.65      0.25      0.36      4680\n",
      "\n",
      "    accuracy                           0.76     17051\n",
      "   macro avg       0.71      0.60      0.61     17051\n",
      "weighted avg       0.74      0.76      0.72     17051\n",
      "\n"
     ]
    }
   ],
   "source": [
    "print(classification_report(y_test, lin_rs_y_preds))"
   ]
  },
  {
   "cell_type": "code",
   "execution_count": null,
   "id": "c972f166",
   "metadata": {},
   "outputs": [],
   "source": []
  }
 ],
 "metadata": {
  "kernelspec": {
   "display_name": "Python 3",
   "language": "python",
   "name": "python3"
  },
  "language_info": {
   "codemirror_mode": {
    "name": "ipython",
    "version": 3
   },
   "file_extension": ".py",
   "mimetype": "text/x-python",
   "name": "python",
   "nbconvert_exporter": "python",
   "pygments_lexer": "ipython3",
   "version": "3.12.7"
  }
 },
 "nbformat": 4,
 "nbformat_minor": 5
}
